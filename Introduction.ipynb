{
 "cells": [
  {
   "cell_type": "markdown",
   "id": "901be312",
   "metadata": {},
   "source": [
    "# Detection of rigid Components in Graphs applied to Proteins\n",
    "\n",
    "\n",
    "Project on rigidity in RNA and protein structures for Advanced Methods in Bioinformatics course\n",
    "\n",
    "Thank you for using our little pebble and component-detection game tool!\n",
    "\n",
    "We designed it to determine rigid components in proteins and other graphs.\n",
    "The algorithm for the pabblegame/component-detection is based on the research-paper \"Pebble game algorithms and sparse graphs\"\n",
    "by Lee and Streinu\n",
    "\n",
    "Additionally we established a pipeline to detect rigid components in Proteins using the graphein-library.\n",
    "\n",
    "To just run a basic pebblegame you can use the function in generic_pebblegame.py.\n",
    "To run a component detection use the functions in pebblegame.py\n",
    "\n",
    "Functions wrapping the rigid-component-detection and Protein-Graph building and visualization you can find in PDB_to_Grphein.py\n",
    "\n",
    "Use the UI.py to perform a quickstart compnent detection\n",
    "\n",
    "## A little introduction to the main functions of PDB_to_Graphein.py:\n",
    "\n",
    "pdb_to_graph(path, only_covalent=True, gran=\"atom\")\n",
    "\n",
    "- output: networkX MultiGraph\n",
    "\n",
    "- loads PDB-file and converts to graph\n",
    "- setting only_covalent to False takes sidechain interactions such as H-bond or ionic interactions into account and makes them to edges\n",
    "- gran=\"atom\" sets the atoms of the Protein to nodes. Change to gran=\"centroid\" to set aminoacids as nodes.\n",
    "\n",
    "find_components(G, k=5, l=6)\n",
    "\n",
    "- output: List of components as sets containing the edges as frozen sets\n",
    "\n",
    "- performs k,l-pebblegame-based detection of rigid components\n",
    "- default k=5 and l=6 to perform a k,l-pebblegame for 3D protein Graphs\n",
    "\n",
    "assign_components(G, components)\n",
    "\n",
    "- output: netwokX Multigraph with node-attibute component based on input components-list\n",
    "\n",
    "- it makes only sense to use the components list as input which is generated based on the same graph as input of this function\n",
    "\n",
    "print_attributes(G)\n",
    "\n",
    "- output: pandas dataframe with the node attributes\n",
    "\n",
    "print_component_dataframe(component_list):\n",
    "\n",
    "- output: pandas dataframe with components as index and a column with nodes and one with edges contained in each component"
   ]
  },
  {
   "cell_type": "markdown",
   "id": "4d2be6af",
   "metadata": {},
   "source": [
    "## Example Pipeline to perform a Component-Detection based on a PDB-File"
   ]
  },
  {
   "cell_type": "code",
   "execution_count": 7,
   "id": "7a67cd41",
   "metadata": {},
   "outputs": [
    {
     "data": {
      "application/vnd.jupyter.widget-view+json": {
       "model_id": "",
       "version_major": 2,
       "version_minor": 0
      },
      "text/plain": [
       "Output()"
      ]
     },
     "metadata": {},
     "output_type": "display_data"
    },
    {
     "data": {
      "text/html": [
       "<pre style=\"white-space:pre;overflow-x:auto;line-height:normal;font-family:Menlo,'DejaVu Sans Mono',consolas,'Courier New',monospace\">/home/tim/anaconda3/lib/python3.9/site-packages/graphein/protein/graphs.py:161: FutureWarning:\n",
       "\n",
       "The default value of regex will change from True to False in a future version.\n",
       "\n",
       "</pre>\n"
      ],
      "text/plain": [
       "/home/tim/anaconda3/lib/python3.9/site-packages/graphein/protein/graphs.py:161: FutureWarning:\n",
       "\n",
       "The default value of regex will change from True to False in a future version.\n",
       "\n"
      ]
     },
     "metadata": {},
     "output_type": "display_data"
    },
    {
     "data": {
      "text/html": [
       "<pre style=\"white-space:pre;overflow-x:auto;line-height:normal;font-family:Menlo,'DejaVu Sans Mono',consolas,'Courier New',monospace\">/home/tim/anaconda3/lib/python3.9/site-packages/graphein/protein/graphs.py:164: FutureWarning:\n",
       "\n",
       "The default value of regex will change from True to False in a future version.\n",
       "\n",
       "</pre>\n"
      ],
      "text/plain": [
       "/home/tim/anaconda3/lib/python3.9/site-packages/graphein/protein/graphs.py:164: FutureWarning:\n",
       "\n",
       "The default value of regex will change from True to False in a future version.\n",
       "\n"
      ]
     },
     "metadata": {},
     "output_type": "display_data"
    },
    {
     "data": {
      "text/html": [
       "<pre style=\"white-space:pre;overflow-x:auto;line-height:normal;font-family:Menlo,'DejaVu Sans Mono',consolas,'Courier New',monospace\"><span style=\"color: #7fbfbf; text-decoration-color: #7fbfbf\">[11/05/23 16:30:19] </span><span style=\"color: #008000; text-decoration-color: #008000\">DEBUG   </span> Deprotonating protein. This removes H atoms from the pdb_df dataframe    <a href=\"file:///home/tim/anaconda3/lib/python3.9/site-packages/graphein/protein/graphs.py\" target=\"_blank\"><span style=\"color: #7f7f7f; text-decoration-color: #7f7f7f\">graphs.py</span></a><span style=\"color: #7f7f7f; text-decoration-color: #7f7f7f\">:</span><a href=\"file:///home/tim/anaconda3/lib/python3.9/site-packages/graphein/protein/graphs.py#187\" target=\"_blank\"><span style=\"color: #7f7f7f; text-decoration-color: #7f7f7f\">187</span></a>\n",
       "</pre>\n"
      ],
      "text/plain": [
       "\u001b[2;36m[11/05/23 16:30:19]\u001b[0m\u001b[2;36m \u001b[0m\u001b[32mDEBUG   \u001b[0m Deprotonating protein. This removes H atoms from the pdb_df dataframe    \u001b]8;id=512745;file:///home/tim/anaconda3/lib/python3.9/site-packages/graphein/protein/graphs.py\u001b\\\u001b[2mgraphs.py\u001b[0m\u001b]8;;\u001b\\\u001b[2m:\u001b[0m\u001b]8;id=81498;file:///home/tim/anaconda3/lib/python3.9/site-packages/graphein/protein/graphs.py#187\u001b\\\u001b[2m187\u001b[0m\u001b]8;;\u001b\\\n"
      ]
     },
     "metadata": {},
     "output_type": "display_data"
    },
    {
     "data": {
      "text/html": [
       "<pre style=\"white-space:pre;overflow-x:auto;line-height:normal;font-family:Menlo,'DejaVu Sans Mono',consolas,'Courier New',monospace\"><span style=\"color: #7fbfbf; text-decoration-color: #7fbfbf\">                    </span><span style=\"color: #008000; text-decoration-color: #008000\">DEBUG   </span> Converting dataframe to centroids. This averages XYZ coords of the       <a href=\"file:///home/tim/anaconda3/lib/python3.9/site-packages/graphein/protein/graphs.py\" target=\"_blank\"><span style=\"color: #7f7f7f; text-decoration-color: #7f7f7f\">graphs.py</span></a><span style=\"color: #7f7f7f; text-decoration-color: #7f7f7f\">:</span><a href=\"file:///home/tim/anaconda3/lib/python3.9/site-packages/graphein/protein/graphs.py#206\" target=\"_blank\"><span style=\"color: #7f7f7f; text-decoration-color: #7f7f7f\">206</span></a>\n",
       "<span style=\"color: #7fbfbf; text-decoration-color: #7fbfbf\">                    </span>         atoms in a residue                                                       <span style=\"color: #7f7f7f; text-decoration-color: #7f7f7f\">             </span>\n",
       "</pre>\n"
      ],
      "text/plain": [
       "\u001b[2;36m                   \u001b[0m\u001b[2;36m \u001b[0m\u001b[32mDEBUG   \u001b[0m Converting dataframe to centroids. This averages XYZ coords of the       \u001b]8;id=600069;file:///home/tim/anaconda3/lib/python3.9/site-packages/graphein/protein/graphs.py\u001b\\\u001b[2mgraphs.py\u001b[0m\u001b]8;;\u001b\\\u001b[2m:\u001b[0m\u001b]8;id=731006;file:///home/tim/anaconda3/lib/python3.9/site-packages/graphein/protein/graphs.py#206\u001b\\\u001b[2m206\u001b[0m\u001b]8;;\u001b\\\n",
       "\u001b[2;36m                    \u001b[0m         atoms in a residue                                                       \u001b[2m             \u001b[0m\n"
      ]
     },
     "metadata": {},
     "output_type": "display_data"
    },
    {
     "data": {
      "text/html": [
       "<pre style=\"white-space:pre;overflow-x:auto;line-height:normal;font-family:Menlo,'DejaVu Sans Mono',consolas,'Courier New',monospace\">/home/tim/anaconda3/lib/python3.9/site-packages/graphein/protein/graphs.py:637: FutureWarning:\n",
       "\n",
       "The default value of numeric_only in DataFrameGroupBy.mean is deprecated. In a future version, numeric_only will \n",
       "default to False. Either specify numeric_only or select only columns which should be valid for the function.\n",
       "\n",
       "</pre>\n"
      ],
      "text/plain": [
       "/home/tim/anaconda3/lib/python3.9/site-packages/graphein/protein/graphs.py:637: FutureWarning:\n",
       "\n",
       "The default value of numeric_only in DataFrameGroupBy.mean is deprecated. In a future version, numeric_only will \n",
       "default to False. Either specify numeric_only or select only columns which should be valid for the function.\n",
       "\n"
      ]
     },
     "metadata": {},
     "output_type": "display_data"
    },
    {
     "data": {
      "text/html": [
       "<pre style=\"white-space:pre;overflow-x:auto;line-height:normal;font-family:Menlo,'DejaVu Sans Mono',consolas,'Courier New',monospace\"><span style=\"color: #7fbfbf; text-decoration-color: #7fbfbf\">                    </span><span style=\"color: #008000; text-decoration-color: #008000\">DEBUG   </span> Calculated <span style=\"color: #008080; text-decoration-color: #008080; font-weight: bold\">9</span> centroid nodes                                              <a href=\"file:///home/tim/anaconda3/lib/python3.9/site-packages/graphein/protein/graphs.py\" target=\"_blank\"><span style=\"color: #7f7f7f; text-decoration-color: #7f7f7f\">graphs.py</span></a><span style=\"color: #7f7f7f; text-decoration-color: #7f7f7f\">:</span><a href=\"file:///home/tim/anaconda3/lib/python3.9/site-packages/graphein/protein/graphs.py#645\" target=\"_blank\"><span style=\"color: #7f7f7f; text-decoration-color: #7f7f7f\">645</span></a>\n",
       "</pre>\n"
      ],
      "text/plain": [
       "\u001b[2;36m                   \u001b[0m\u001b[2;36m \u001b[0m\u001b[32mDEBUG   \u001b[0m Calculated \u001b[1;36m9\u001b[0m centroid nodes                                              \u001b]8;id=757742;file:///home/tim/anaconda3/lib/python3.9/site-packages/graphein/protein/graphs.py\u001b\\\u001b[2mgraphs.py\u001b[0m\u001b]8;;\u001b\\\u001b[2m:\u001b[0m\u001b]8;id=925588;file:///home/tim/anaconda3/lib/python3.9/site-packages/graphein/protein/graphs.py#645\u001b\\\u001b[2m645\u001b[0m\u001b]8;;\u001b\\\n"
      ]
     },
     "metadata": {},
     "output_type": "display_data"
    },
    {
     "data": {
      "text/html": [
       "<pre style=\"white-space:pre;overflow-x:auto;line-height:normal;font-family:Menlo,'DejaVu Sans Mono',consolas,'Courier New',monospace\"><span style=\"color: #7fbfbf; text-decoration-color: #7fbfbf\">                    </span><span style=\"color: #008000; text-decoration-color: #008000\">DEBUG   </span> Detected <span style=\"color: #008080; text-decoration-color: #008080; font-weight: bold\">9</span> total nodes                                                   <a href=\"file:///home/tim/anaconda3/lib/python3.9/site-packages/graphein/protein/graphs.py\" target=\"_blank\"><span style=\"color: #7f7f7f; text-decoration-color: #7f7f7f\">graphs.py</span></a><span style=\"color: #7f7f7f; text-decoration-color: #7f7f7f\">:</span><a href=\"file:///home/tim/anaconda3/lib/python3.9/site-packages/graphein/protein/graphs.py#431\" target=\"_blank\"><span style=\"color: #7f7f7f; text-decoration-color: #7f7f7f\">431</span></a>\n",
       "</pre>\n"
      ],
      "text/plain": [
       "\u001b[2;36m                   \u001b[0m\u001b[2;36m \u001b[0m\u001b[32mDEBUG   \u001b[0m Detected \u001b[1;36m9\u001b[0m total nodes                                                   \u001b]8;id=848091;file:///home/tim/anaconda3/lib/python3.9/site-packages/graphein/protein/graphs.py\u001b\\\u001b[2mgraphs.py\u001b[0m\u001b]8;;\u001b\\\u001b[2m:\u001b[0m\u001b]8;id=528998;file:///home/tim/anaconda3/lib/python3.9/site-packages/graphein/protein/graphs.py#431\u001b\\\u001b[2m431\u001b[0m\u001b]8;;\u001b\\\n"
      ]
     },
     "metadata": {},
     "output_type": "display_data"
    },
    {
     "data": {
      "text/html": [
       "<pre style=\"white-space:pre;overflow-x:auto;line-height:normal;font-family:Menlo,'DejaVu Sans Mono',consolas,'Courier New',monospace\"><span style=\"color: #7fbfbf; text-decoration-color: #7fbfbf\">                    </span><span style=\"color: #000080; text-decoration-color: #000080\">INFO    </span> Found <span style=\"color: #008080; text-decoration-color: #008080; font-weight: bold\">6</span> hbond interactions.                                           <a href=\"file:///home/tim/anaconda3/lib/python3.9/site-packages/graphein/protein/edges/distance.py\" target=\"_blank\"><span style=\"color: #7f7f7f; text-decoration-color: #7f7f7f\">distance.py</span></a><span style=\"color: #7f7f7f; text-decoration-color: #7f7f7f\">:</span><a href=\"file:///home/tim/anaconda3/lib/python3.9/site-packages/graphein/protein/edges/distance.py#1343\" target=\"_blank\"><span style=\"color: #7f7f7f; text-decoration-color: #7f7f7f\">1343</span></a>\n",
       "</pre>\n"
      ],
      "text/plain": [
       "\u001b[2;36m                   \u001b[0m\u001b[2;36m \u001b[0m\u001b[34mINFO    \u001b[0m Found \u001b[1;36m6\u001b[0m hbond interactions.                                           \u001b]8;id=975471;file:///home/tim/anaconda3/lib/python3.9/site-packages/graphein/protein/edges/distance.py\u001b\\\u001b[2mdistance.py\u001b[0m\u001b]8;;\u001b\\\u001b[2m:\u001b[0m\u001b]8;id=651755;file:///home/tim/anaconda3/lib/python3.9/site-packages/graphein/protein/edges/distance.py#1343\u001b\\\u001b[2m1343\u001b[0m\u001b]8;;\u001b\\\n"
      ]
     },
     "metadata": {},
     "output_type": "display_data"
    },
    {
     "data": {
      "text/html": [
       "<pre style=\"white-space:pre;overflow-x:auto;line-height:normal;font-family:Menlo,'DejaVu Sans Mono',consolas,'Courier New',monospace\"><span style=\"color: #7fbfbf; text-decoration-color: #7fbfbf\">                    </span><span style=\"color: #000080; text-decoration-color: #000080\">INFO    </span> Found <span style=\"color: #008080; text-decoration-color: #008080; font-weight: bold\">4</span> hbond interactions.                                           <a href=\"file:///home/tim/anaconda3/lib/python3.9/site-packages/graphein/protein/edges/distance.py\" target=\"_blank\"><span style=\"color: #7f7f7f; text-decoration-color: #7f7f7f\">distance.py</span></a><span style=\"color: #7f7f7f; text-decoration-color: #7f7f7f\">:</span><a href=\"file:///home/tim/anaconda3/lib/python3.9/site-packages/graphein/protein/edges/distance.py#1343\" target=\"_blank\"><span style=\"color: #7f7f7f; text-decoration-color: #7f7f7f\">1343</span></a>\n",
       "</pre>\n"
      ],
      "text/plain": [
       "\u001b[2;36m                   \u001b[0m\u001b[2;36m \u001b[0m\u001b[34mINFO    \u001b[0m Found \u001b[1;36m4\u001b[0m hbond interactions.                                           \u001b]8;id=322054;file:///home/tim/anaconda3/lib/python3.9/site-packages/graphein/protein/edges/distance.py\u001b\\\u001b[2mdistance.py\u001b[0m\u001b]8;;\u001b\\\u001b[2m:\u001b[0m\u001b]8;id=462978;file:///home/tim/anaconda3/lib/python3.9/site-packages/graphein/protein/edges/distance.py#1343\u001b\\\u001b[2m1343\u001b[0m\u001b]8;;\u001b\\\n"
      ]
     },
     "metadata": {},
     "output_type": "display_data"
    },
    {
     "data": {
      "text/html": [
       "<pre style=\"white-space:pre;overflow-x:auto;line-height:normal;font-family:Menlo,'DejaVu Sans Mono',consolas,'Courier New',monospace\">/home/tim/anaconda3/lib/python3.9/site-packages/graphein/protein/edges/distance.py:1211: FutureWarning:\n",
       "\n",
       "The default value of numeric_only in DataFrameGroupBy.mean is deprecated. In a future version, numeric_only will \n",
       "default to False. Either specify numeric_only or select only columns which should be valid for the function.\n",
       "\n",
       "</pre>\n"
      ],
      "text/plain": [
       "/home/tim/anaconda3/lib/python3.9/site-packages/graphein/protein/edges/distance.py:1211: FutureWarning:\n",
       "\n",
       "The default value of numeric_only in DataFrameGroupBy.mean is deprecated. In a future version, numeric_only will \n",
       "default to False. Either specify numeric_only or select only columns which should be valid for the function.\n",
       "\n"
      ]
     },
     "metadata": {},
     "output_type": "display_data"
    },
    {
     "data": {
      "text/html": [
       "<pre style=\"white-space:pre;overflow-x:auto;line-height:normal;font-family:Menlo,'DejaVu Sans Mono',consolas,'Courier New',monospace\">/home/tim/anaconda3/lib/python3.9/site-packages/graphein/protein/edges/distance.py:1211: FutureWarning:\n",
       "\n",
       "The default value of numeric_only in DataFrameGroupBy.mean is deprecated. In a future version, numeric_only will \n",
       "default to False. Either specify numeric_only or select only columns which should be valid for the function.\n",
       "\n",
       "</pre>\n"
      ],
      "text/plain": [
       "/home/tim/anaconda3/lib/python3.9/site-packages/graphein/protein/edges/distance.py:1211: FutureWarning:\n",
       "\n",
       "The default value of numeric_only in DataFrameGroupBy.mean is deprecated. In a future version, numeric_only will \n",
       "default to False. Either specify numeric_only or select only columns which should be valid for the function.\n",
       "\n"
      ]
     },
     "metadata": {},
     "output_type": "display_data"
    },
    {
     "data": {
      "text/html": [
       "<pre style=\"white-space:pre;overflow-x:auto;line-height:normal;font-family:Menlo,'DejaVu Sans Mono',consolas,'Courier New',monospace\">/home/tim/anaconda3/lib/python3.9/site-packages/graphein/protein/edges/distance.py:1211: FutureWarning:\n",
       "\n",
       "The default value of numeric_only in DataFrameGroupBy.mean is deprecated. In a future version, numeric_only will \n",
       "default to False. Either specify numeric_only or select only columns which should be valid for the function.\n",
       "\n",
       "</pre>\n"
      ],
      "text/plain": [
       "/home/tim/anaconda3/lib/python3.9/site-packages/graphein/protein/edges/distance.py:1211: FutureWarning:\n",
       "\n",
       "The default value of numeric_only in DataFrameGroupBy.mean is deprecated. In a future version, numeric_only will \n",
       "default to False. Either specify numeric_only or select only columns which should be valid for the function.\n",
       "\n"
      ]
     },
     "metadata": {},
     "output_type": "display_data"
    },
    {
     "data": {
      "text/html": [
       "<pre style=\"white-space:pre;overflow-x:auto;line-height:normal;font-family:Menlo,'DejaVu Sans Mono',consolas,'Courier New',monospace\">/home/tim/anaconda3/lib/python3.9/site-packages/graphein/protein/edges/distance.py:1211: FutureWarning:\n",
       "\n",
       "The default value of numeric_only in DataFrameGroupBy.mean is deprecated. In a future version, numeric_only will \n",
       "default to False. Either specify numeric_only or select only columns which should be valid for the function.\n",
       "\n",
       "</pre>\n"
      ],
      "text/plain": [
       "/home/tim/anaconda3/lib/python3.9/site-packages/graphein/protein/edges/distance.py:1211: FutureWarning:\n",
       "\n",
       "The default value of numeric_only in DataFrameGroupBy.mean is deprecated. In a future version, numeric_only will \n",
       "default to False. Either specify numeric_only or select only columns which should be valid for the function.\n",
       "\n"
      ]
     },
     "metadata": {},
     "output_type": "display_data"
    },
    {
     "data": {
      "text/html": [
       "<pre style=\"white-space:pre;overflow-x:auto;line-height:normal;font-family:Menlo,'DejaVu Sans Mono',consolas,'Courier New',monospace\"><span style=\"color: #7fbfbf; text-decoration-color: #7fbfbf\">                    </span><span style=\"color: #000080; text-decoration-color: #000080\">INFO    </span> Found: <span style=\"color: #008080; text-decoration-color: #008080; font-weight: bold\">0</span> aromatic-aromatic interactions                                <a href=\"file:///home/tim/anaconda3/lib/python3.9/site-packages/graphein/protein/edges/distance.py\" target=\"_blank\"><span style=\"color: #7f7f7f; text-decoration-color: #7f7f7f\">distance.py</span></a><span style=\"color: #7f7f7f; text-decoration-color: #7f7f7f\">:</span><a href=\"file:///home/tim/anaconda3/lib/python3.9/site-packages/graphein/protein/edges/distance.py#466\" target=\"_blank\"><span style=\"color: #7f7f7f; text-decoration-color: #7f7f7f\">466</span></a>\n",
       "</pre>\n"
      ],
      "text/plain": [
       "\u001b[2;36m                   \u001b[0m\u001b[2;36m \u001b[0m\u001b[34mINFO    \u001b[0m Found: \u001b[1;36m0\u001b[0m aromatic-aromatic interactions                                \u001b]8;id=144311;file:///home/tim/anaconda3/lib/python3.9/site-packages/graphein/protein/edges/distance.py\u001b\\\u001b[2mdistance.py\u001b[0m\u001b]8;;\u001b\\\u001b[2m:\u001b[0m\u001b]8;id=482043;file:///home/tim/anaconda3/lib/python3.9/site-packages/graphein/protein/edges/distance.py#466\u001b\\\u001b[2m466\u001b[0m\u001b]8;;\u001b\\\n"
      ]
     },
     "metadata": {},
     "output_type": "display_data"
    },
    {
     "data": {
      "text/html": [
       "<pre style=\"white-space:pre;overflow-x:auto;line-height:normal;font-family:Menlo,'DejaVu Sans Mono',consolas,'Courier New',monospace\"><span style=\"color: #7fbfbf; text-decoration-color: #7fbfbf\">                    </span><span style=\"color: #000080; text-decoration-color: #000080\">INFO    </span> Found <span style=\"color: #008080; text-decoration-color: #008080; font-weight: bold\">4</span> disulfide interactions.                                       <a href=\"file:///home/tim/anaconda3/lib/python3.9/site-packages/graphein/protein/edges/distance.py\" target=\"_blank\"><span style=\"color: #7f7f7f; text-decoration-color: #7f7f7f\">distance.py</span></a><span style=\"color: #7f7f7f; text-decoration-color: #7f7f7f\">:</span><a href=\"file:///home/tim/anaconda3/lib/python3.9/site-packages/graphein/protein/edges/distance.py#1343\" target=\"_blank\"><span style=\"color: #7f7f7f; text-decoration-color: #7f7f7f\">1343</span></a>\n",
       "</pre>\n"
      ],
      "text/plain": [
       "\u001b[2;36m                   \u001b[0m\u001b[2;36m \u001b[0m\u001b[34mINFO    \u001b[0m Found \u001b[1;36m4\u001b[0m disulfide interactions.                                       \u001b]8;id=999189;file:///home/tim/anaconda3/lib/python3.9/site-packages/graphein/protein/edges/distance.py\u001b\\\u001b[2mdistance.py\u001b[0m\u001b]8;;\u001b\\\u001b[2m:\u001b[0m\u001b]8;id=372638;file:///home/tim/anaconda3/lib/python3.9/site-packages/graphein/protein/edges/distance.py#1343\u001b\\\u001b[2m1343\u001b[0m\u001b]8;;\u001b\\\n"
      ]
     },
     "metadata": {},
     "output_type": "display_data"
    },
    {
     "data": {
      "text/html": [
       "<pre style=\"white-space:pre;overflow-x:auto;line-height:normal;font-family:Menlo,'DejaVu Sans Mono',consolas,'Courier New',monospace\"><span style=\"color: #7fbfbf; text-decoration-color: #7fbfbf\">                    </span><span style=\"color: #000080; text-decoration-color: #000080\">INFO    </span> Found <span style=\"color: #008080; text-decoration-color: #008080; font-weight: bold\">55</span> ionic interactions.                                          <a href=\"file:///home/tim/anaconda3/lib/python3.9/site-packages/graphein/protein/edges/distance.py\" target=\"_blank\"><span style=\"color: #7f7f7f; text-decoration-color: #7f7f7f\">distance.py</span></a><span style=\"color: #7f7f7f; text-decoration-color: #7f7f7f\">:</span><a href=\"file:///home/tim/anaconda3/lib/python3.9/site-packages/graphein/protein/edges/distance.py#1343\" target=\"_blank\"><span style=\"color: #7f7f7f; text-decoration-color: #7f7f7f\">1343</span></a>\n",
       "</pre>\n"
      ],
      "text/plain": [
       "\u001b[2;36m                   \u001b[0m\u001b[2;36m \u001b[0m\u001b[34mINFO    \u001b[0m Found \u001b[1;36m55\u001b[0m ionic interactions.                                          \u001b]8;id=586561;file:///home/tim/anaconda3/lib/python3.9/site-packages/graphein/protein/edges/distance.py\u001b\\\u001b[2mdistance.py\u001b[0m\u001b]8;;\u001b\\\u001b[2m:\u001b[0m\u001b]8;id=241402;file:///home/tim/anaconda3/lib/python3.9/site-packages/graphein/protein/edges/distance.py#1343\u001b\\\u001b[2m1343\u001b[0m\u001b]8;;\u001b\\\n"
      ]
     },
     "metadata": {},
     "output_type": "display_data"
    },
    {
     "data": {
      "text/html": [
       "<pre style=\"white-space:pre;overflow-x:auto;line-height:normal;font-family:Menlo,'DejaVu Sans Mono',consolas,'Courier New',monospace\"></pre>\n"
      ],
      "text/plain": []
     },
     "metadata": {},
     "output_type": "display_data"
    },
    {
     "data": {
      "text/html": [
       "<pre style=\"white-space:pre;overflow-x:auto;line-height:normal;font-family:Menlo,'DejaVu Sans Mono',consolas,'Courier New',monospace\">\n",
       "</pre>\n"
      ],
      "text/plain": [
       "\n"
      ]
     },
     "metadata": {},
     "output_type": "display_data"
    },
    {
     "name": "stdout",
     "output_type": "stream",
     "text": [
      "Performing the pebble game on  5  edges. \n",
      " This could take a while... \n",
      "\n",
      "Progress:\n",
      "0  10  20  30  40  50  60  70  80  90  100%\n",
      "----------------------------------------\n",
      " The component-pebblegame is finished. \n",
      "\n",
      "Result:\n",
      "over-constraint; l pebbles remain. , 1 edges have been left out \n",
      "\n",
      "Matrix of rigid components: \n",
      "          A:CYS:1  A:CYS:6\n",
      "A:CYS:1        0        1\n",
      "A:CYS:6        1        0 \n",
      "\n",
      "List of all components identified:\n",
      " [[('A:CYS:1', 'A:CYS:6')]]\n",
      "[]\n"
     ]
    }
   ],
   "source": [
    "from graphein.protein.visualisation import plotly_protein_structure_graph\n",
    "import PDB_to_Graphein as pdg\n",
    "\n",
    "path = 'pdb_samples/2mgo.pdb'\n",
    "\n",
    "G = pdg.pdb_to_graph(path, only_covalent=False, gran=\"centroids\")\n",
    "comp = pdg.find_components(G)\n",
    "print(comp)\n",
    "G = pdg.assign_components(G, comp)\n",
    "attr_df = pdg.print_attributes(G)\n",
    "comp_df = pdg.print_component_dataframe(comp)\n",
    "\n"
   ]
  },
  {
   "cell_type": "markdown",
   "id": "8cd88543",
   "metadata": {},
   "source": [
    "List of components:"
   ]
  },
  {
   "cell_type": "code",
   "execution_count": 2,
   "id": "b82ddc89",
   "metadata": {},
   "outputs": [
    {
     "name": "stdout",
     "output_type": "stream",
     "text": [
      "[('A:PRO:7:CB', 'A:PRO:7:CG'), ('A:PRO:7:CA', 'A:PRO:7:N'), ('A:PRO:7:CB', 'A:PRO:7:CD'), ('A:PRO:7:CA', 'A:PRO:7:CD'), ('A:PRO:7:CG', 'A:PRO:7:N'), ('A:PRO:7:CD', 'A:PRO:7:N'), ('A:PRO:7:CB', 'A:PRO:7:CA'), ('A:PRO:7:CB', 'A:PRO:7:N'), ('A:PRO:7:CG', 'A:PRO:7:CD'), ('A:PRO:7:CA', 'A:PRO:7:CG')]\n",
      "[('A:TYR:2:CG', 'A:TYR:2:CZ'), ('A:TYR:2:CE1', 'A:TYR:2:CE2'), ('A:TYR:2:CE1', 'A:TYR:2:CD2'), ('A:TYR:2:CE2', 'A:TYR:2:CG'), ('A:TYR:2:CG', 'A:TYR:2:CD2'), ('A:TYR:2:CE2', 'A:TYR:2:CD1'), ('A:TYR:2:CD2', 'A:TYR:2:CD1'), ('A:TYR:2:CE1', 'A:TYR:2:CZ'), ('A:TYR:2:CE2', 'A:TYR:2:CD2'), ('A:TYR:2:CE1', 'A:TYR:2:CG'), ('A:TYR:2:CD2', 'A:TYR:2:CZ'), ('A:TYR:2:CG', 'A:TYR:2:CD1'), ('A:TYR:2:CE1', 'A:TYR:2:CD1'), ('A:TYR:2:CZ', 'A:TYR:2:CD1'), ('A:TYR:2:CE2', 'A:TYR:2:CZ')]\n"
     ]
    }
   ],
   "source": [
    "for c in comp:\n",
    "    print(c)"
   ]
  },
  {
   "cell_type": "markdown",
   "id": "720ed0d0",
   "metadata": {},
   "source": [
    "Visualization of Rigid components in Protein.\n",
    "Nodes and edges which are not in rigid components are blue here."
   ]
  },
  {
   "cell_type": "code",
   "execution_count": 8,
   "id": "29437ef5",
   "metadata": {},
   "outputs": [
    {
     "ename": "KeyError",
     "evalue": "'component'",
     "output_type": "error",
     "traceback": [
      "\u001b[0;31m---------------------------------------------------------------------------\u001b[0m",
      "\u001b[0;31mKeyError\u001b[0m                                  Traceback (most recent call last)",
      "\u001b[0;32m/tmp/ipykernel_5247/3360580994.py\u001b[0m in \u001b[0;36m<module>\u001b[0;34m\u001b[0m\n\u001b[0;32m----> 1\u001b[0;31m p = plotly_protein_structure_graph(\n\u001b[0m\u001b[1;32m      2\u001b[0m         \u001b[0mG\u001b[0m\u001b[0;34m,\u001b[0m\u001b[0;34m\u001b[0m\u001b[0;34m\u001b[0m\u001b[0m\n\u001b[1;32m      3\u001b[0m         \u001b[0mcolour_edges_by\u001b[0m\u001b[0;34m=\u001b[0m\u001b[0;34m\"component\"\u001b[0m\u001b[0;34m,\u001b[0m\u001b[0;34m\u001b[0m\u001b[0;34m\u001b[0m\u001b[0m\n\u001b[1;32m      4\u001b[0m         \u001b[0mcolour_nodes_by\u001b[0m\u001b[0;34m=\u001b[0m\u001b[0;34m\"component\"\u001b[0m\u001b[0;34m,\u001b[0m\u001b[0;34m\u001b[0m\u001b[0;34m\u001b[0m\u001b[0m\n\u001b[1;32m      5\u001b[0m         \u001b[0mlabel_node_ids\u001b[0m\u001b[0;34m=\u001b[0m\u001b[0;32mFalse\u001b[0m\u001b[0;34m,\u001b[0m\u001b[0;34m\u001b[0m\u001b[0;34m\u001b[0m\u001b[0m\n",
      "\u001b[0;32m~/anaconda3/lib/python3.9/site-packages/graphein/protein/visualisation.py\u001b[0m in \u001b[0;36mplotly_protein_structure_graph\u001b[0;34m(G, plot_title, figsize, node_alpha, node_size_min, node_size_multiplier, node_size_feature, label_node_ids, node_colour_map, edge_color_map, colour_nodes_by, colour_edges_by)\u001b[0m\n\u001b[1;32m    250\u001b[0m         \u001b[0mG\u001b[0m\u001b[0;34m,\u001b[0m \u001b[0mcolour_map\u001b[0m\u001b[0;34m=\u001b[0m\u001b[0mnode_colour_map\u001b[0m\u001b[0;34m,\u001b[0m \u001b[0mcolour_by\u001b[0m\u001b[0;34m=\u001b[0m\u001b[0mcolour_nodes_by\u001b[0m\u001b[0;34m\u001b[0m\u001b[0;34m\u001b[0m\u001b[0m\n\u001b[1;32m    251\u001b[0m     )\n\u001b[0;32m--> 252\u001b[0;31m     edge_colors = colour_edges(\n\u001b[0m\u001b[1;32m    253\u001b[0m         \u001b[0mG\u001b[0m\u001b[0;34m,\u001b[0m \u001b[0mcolour_map\u001b[0m\u001b[0;34m=\u001b[0m\u001b[0medge_color_map\u001b[0m\u001b[0;34m,\u001b[0m \u001b[0mcolour_by\u001b[0m\u001b[0;34m=\u001b[0m\u001b[0mcolour_edges_by\u001b[0m\u001b[0;34m\u001b[0m\u001b[0;34m\u001b[0m\u001b[0m\n\u001b[1;32m    254\u001b[0m     )\n",
      "\u001b[0;32m~/anaconda3/lib/python3.9/site-packages/graphein/protein/visualisation.py\u001b[0m in \u001b[0;36mcolour_edges\u001b[0;34m(G, colour_map, colour_by, set_alpha, return_as_rgba)\u001b[0m\n\u001b[1;32m    174\u001b[0m         \u001b[0medge_types\u001b[0m \u001b[0;34m=\u001b[0m \u001b[0mset\u001b[0m\u001b[0;34m(\u001b[0m\u001b[0mnx\u001b[0m\u001b[0;34m.\u001b[0m\u001b[0mget_edge_attributes\u001b[0m\u001b[0;34m(\u001b[0m\u001b[0mG\u001b[0m\u001b[0;34m,\u001b[0m \u001b[0mcolour_by\u001b[0m\u001b[0;34m)\u001b[0m\u001b[0;34m.\u001b[0m\u001b[0mvalues\u001b[0m\u001b[0;34m(\u001b[0m\u001b[0;34m)\u001b[0m\u001b[0;34m)\u001b[0m\u001b[0;34m\u001b[0m\u001b[0;34m\u001b[0m\u001b[0m\n\u001b[1;32m    175\u001b[0m         \u001b[0mmapping\u001b[0m \u001b[0;34m=\u001b[0m \u001b[0mdict\u001b[0m\u001b[0;34m(\u001b[0m\u001b[0mzip\u001b[0m\u001b[0;34m(\u001b[0m\u001b[0msorted\u001b[0m\u001b[0;34m(\u001b[0m\u001b[0medge_types\u001b[0m\u001b[0;34m)\u001b[0m\u001b[0;34m,\u001b[0m \u001b[0mcount\u001b[0m\u001b[0;34m(\u001b[0m\u001b[0;34m)\u001b[0m\u001b[0;34m)\u001b[0m\u001b[0;34m)\u001b[0m\u001b[0;34m\u001b[0m\u001b[0;34m\u001b[0m\u001b[0m\n\u001b[0;32m--> 176\u001b[0;31m         colors = [\n\u001b[0m\u001b[1;32m    177\u001b[0m             \u001b[0mcolour_map\u001b[0m\u001b[0;34m(\u001b[0m\u001b[0mmapping\u001b[0m\u001b[0;34m[\u001b[0m\u001b[0md\u001b[0m\u001b[0;34m[\u001b[0m\u001b[0mcolour_by\u001b[0m\u001b[0;34m]\u001b[0m\u001b[0;34m]\u001b[0m \u001b[0;34m/\u001b[0m \u001b[0;34m(\u001b[0m\u001b[0mlen\u001b[0m\u001b[0;34m(\u001b[0m\u001b[0medge_types\u001b[0m\u001b[0;34m)\u001b[0m \u001b[0;34m+\u001b[0m \u001b[0;36m1\u001b[0m\u001b[0;34m)\u001b[0m\u001b[0;34m)\u001b[0m\u001b[0;34m\u001b[0m\u001b[0;34m\u001b[0m\u001b[0m\n\u001b[1;32m    178\u001b[0m             \u001b[0;32mfor\u001b[0m \u001b[0m_\u001b[0m\u001b[0;34m,\u001b[0m \u001b[0m_\u001b[0m\u001b[0;34m,\u001b[0m \u001b[0md\u001b[0m \u001b[0;32min\u001b[0m \u001b[0mG\u001b[0m\u001b[0;34m.\u001b[0m\u001b[0medges\u001b[0m\u001b[0;34m(\u001b[0m\u001b[0mdata\u001b[0m\u001b[0;34m=\u001b[0m\u001b[0;32mTrue\u001b[0m\u001b[0;34m)\u001b[0m\u001b[0;34m\u001b[0m\u001b[0;34m\u001b[0m\u001b[0m\n",
      "\u001b[0;32m~/anaconda3/lib/python3.9/site-packages/graphein/protein/visualisation.py\u001b[0m in \u001b[0;36m<listcomp>\u001b[0;34m(.0)\u001b[0m\n\u001b[1;32m    175\u001b[0m         \u001b[0mmapping\u001b[0m \u001b[0;34m=\u001b[0m \u001b[0mdict\u001b[0m\u001b[0;34m(\u001b[0m\u001b[0mzip\u001b[0m\u001b[0;34m(\u001b[0m\u001b[0msorted\u001b[0m\u001b[0;34m(\u001b[0m\u001b[0medge_types\u001b[0m\u001b[0;34m)\u001b[0m\u001b[0;34m,\u001b[0m \u001b[0mcount\u001b[0m\u001b[0;34m(\u001b[0m\u001b[0;34m)\u001b[0m\u001b[0;34m)\u001b[0m\u001b[0;34m)\u001b[0m\u001b[0;34m\u001b[0m\u001b[0;34m\u001b[0m\u001b[0m\n\u001b[1;32m    176\u001b[0m         colors = [\n\u001b[0;32m--> 177\u001b[0;31m             \u001b[0mcolour_map\u001b[0m\u001b[0;34m(\u001b[0m\u001b[0mmapping\u001b[0m\u001b[0;34m[\u001b[0m\u001b[0md\u001b[0m\u001b[0;34m[\u001b[0m\u001b[0mcolour_by\u001b[0m\u001b[0;34m]\u001b[0m\u001b[0;34m]\u001b[0m \u001b[0;34m/\u001b[0m \u001b[0;34m(\u001b[0m\u001b[0mlen\u001b[0m\u001b[0;34m(\u001b[0m\u001b[0medge_types\u001b[0m\u001b[0;34m)\u001b[0m \u001b[0;34m+\u001b[0m \u001b[0;36m1\u001b[0m\u001b[0;34m)\u001b[0m\u001b[0;34m)\u001b[0m\u001b[0;34m\u001b[0m\u001b[0;34m\u001b[0m\u001b[0m\n\u001b[0m\u001b[1;32m    178\u001b[0m             \u001b[0;32mfor\u001b[0m \u001b[0m_\u001b[0m\u001b[0;34m,\u001b[0m \u001b[0m_\u001b[0m\u001b[0;34m,\u001b[0m \u001b[0md\u001b[0m \u001b[0;32min\u001b[0m \u001b[0mG\u001b[0m\u001b[0;34m.\u001b[0m\u001b[0medges\u001b[0m\u001b[0;34m(\u001b[0m\u001b[0mdata\u001b[0m\u001b[0;34m=\u001b[0m\u001b[0;32mTrue\u001b[0m\u001b[0;34m)\u001b[0m\u001b[0;34m\u001b[0m\u001b[0;34m\u001b[0m\u001b[0m\n\u001b[1;32m    179\u001b[0m         ]\n",
      "\u001b[0;31mKeyError\u001b[0m: 'component'"
     ]
    }
   ],
   "source": [
    "p = plotly_protein_structure_graph(\n",
    "        G,\n",
    "        colour_edges_by=\"component\",\n",
    "        colour_nodes_by=\"component\",\n",
    "        label_node_ids=False,\n",
    "        plot_title=\"Peptide backbone graph. Nodes coloured by components\",\n",
    "        node_size_multiplier=1\n",
    "    )\n",
    "p.show()"
   ]
  },
  {
   "cell_type": "code",
   "execution_count": 4,
   "id": "a4e47d1d",
   "metadata": {},
   "outputs": [
    {
     "data": {
      "text/html": [
       "<div>\n",
       "<style scoped>\n",
       "    .dataframe tbody tr th:only-of-type {\n",
       "        vertical-align: middle;\n",
       "    }\n",
       "\n",
       "    .dataframe tbody tr th {\n",
       "        vertical-align: top;\n",
       "    }\n",
       "\n",
       "    .dataframe thead th {\n",
       "        text-align: right;\n",
       "    }\n",
       "</style>\n",
       "<table border=\"1\" class=\"dataframe\">\n",
       "  <thead>\n",
       "    <tr style=\"text-align: right;\">\n",
       "      <th></th>\n",
       "      <th>chain_id</th>\n",
       "      <th>residue_name</th>\n",
       "      <th>residue_number</th>\n",
       "      <th>atom_type</th>\n",
       "      <th>element_symbol</th>\n",
       "      <th>coords</th>\n",
       "      <th>b_factor</th>\n",
       "      <th>meiler</th>\n",
       "      <th>component</th>\n",
       "    </tr>\n",
       "  </thead>\n",
       "  <tbody>\n",
       "    <tr>\n",
       "      <th>A:CYS:1:N</th>\n",
       "      <td>A</td>\n",
       "      <td>CYS</td>\n",
       "      <td>1</td>\n",
       "      <td>N</td>\n",
       "      <td>N</td>\n",
       "      <td>[4.874, 2.855, 0.366]</td>\n",
       "      <td>0.0</td>\n",
       "      <td>dim_1    1.77\n",
       "dim_2    0.13\n",
       "dim_3    2.43\n",
       "dim_...</td>\n",
       "      <td>0</td>\n",
       "    </tr>\n",
       "    <tr>\n",
       "      <th>A:CYS:1:CA</th>\n",
       "      <td>A</td>\n",
       "      <td>CYS</td>\n",
       "      <td>1</td>\n",
       "      <td>CA</td>\n",
       "      <td>C</td>\n",
       "      <td>[3.791, 1.923, 0.075]</td>\n",
       "      <td>0.0</td>\n",
       "      <td>dim_1    1.77\n",
       "dim_2    0.13\n",
       "dim_3    2.43\n",
       "dim_...</td>\n",
       "      <td>0</td>\n",
       "    </tr>\n",
       "    <tr>\n",
       "      <th>A:CYS:1:C</th>\n",
       "      <td>A</td>\n",
       "      <td>CYS</td>\n",
       "      <td>1</td>\n",
       "      <td>C</td>\n",
       "      <td>C</td>\n",
       "      <td>[4.157, 0.518, 0.5]</td>\n",
       "      <td>0.0</td>\n",
       "      <td>dim_1    1.77\n",
       "dim_2    0.13\n",
       "dim_3    2.43\n",
       "dim_...</td>\n",
       "      <td>0</td>\n",
       "    </tr>\n",
       "    <tr>\n",
       "      <th>A:CYS:1:O</th>\n",
       "      <td>A</td>\n",
       "      <td>CYS</td>\n",
       "      <td>1</td>\n",
       "      <td>O</td>\n",
       "      <td>O</td>\n",
       "      <td>[5.232, 0.286, 1.045]</td>\n",
       "      <td>0.0</td>\n",
       "      <td>dim_1    1.77\n",
       "dim_2    0.13\n",
       "dim_3    2.43\n",
       "dim_...</td>\n",
       "      <td>0</td>\n",
       "    </tr>\n",
       "    <tr>\n",
       "      <th>A:CYS:1:CB</th>\n",
       "      <td>A</td>\n",
       "      <td>CYS</td>\n",
       "      <td>1</td>\n",
       "      <td>CB</td>\n",
       "      <td>C</td>\n",
       "      <td>[3.435, 1.946, -1.418]</td>\n",
       "      <td>0.0</td>\n",
       "      <td>dim_1    1.77\n",
       "dim_2    0.13\n",
       "dim_3    2.43\n",
       "dim_...</td>\n",
       "      <td>0</td>\n",
       "    </tr>\n",
       "    <tr>\n",
       "      <th>...</th>\n",
       "      <td>...</td>\n",
       "      <td>...</td>\n",
       "      <td>...</td>\n",
       "      <td>...</td>\n",
       "      <td>...</td>\n",
       "      <td>...</td>\n",
       "      <td>...</td>\n",
       "      <td>...</td>\n",
       "      <td>...</td>\n",
       "    </tr>\n",
       "    <tr>\n",
       "      <th>A:GLY:9:N</th>\n",
       "      <td>A</td>\n",
       "      <td>GLY</td>\n",
       "      <td>9</td>\n",
       "      <td>N</td>\n",
       "      <td>N</td>\n",
       "      <td>[-3.406, 8.654, -2.333]</td>\n",
       "      <td>0.0</td>\n",
       "      <td>dim_1    0.00\n",
       "dim_2    0.00\n",
       "dim_3    0.00\n",
       "dim_...</td>\n",
       "      <td>0</td>\n",
       "    </tr>\n",
       "    <tr>\n",
       "      <th>A:GLY:9:CA</th>\n",
       "      <td>A</td>\n",
       "      <td>GLY</td>\n",
       "      <td>9</td>\n",
       "      <td>CA</td>\n",
       "      <td>C</td>\n",
       "      <td>[-3.689, 10.034, -2.161]</td>\n",
       "      <td>0.0</td>\n",
       "      <td>dim_1    0.00\n",
       "dim_2    0.00\n",
       "dim_3    0.00\n",
       "dim_...</td>\n",
       "      <td>0</td>\n",
       "    </tr>\n",
       "    <tr>\n",
       "      <th>A:GLY:9:C</th>\n",
       "      <td>A</td>\n",
       "      <td>GLY</td>\n",
       "      <td>9</td>\n",
       "      <td>C</td>\n",
       "      <td>C</td>\n",
       "      <td>[-3.647, 10.353, -0.712]</td>\n",
       "      <td>0.0</td>\n",
       "      <td>dim_1    0.00\n",
       "dim_2    0.00\n",
       "dim_3    0.00\n",
       "dim_...</td>\n",
       "      <td>0</td>\n",
       "    </tr>\n",
       "    <tr>\n",
       "      <th>A:GLY:9:O</th>\n",
       "      <td>A</td>\n",
       "      <td>GLY</td>\n",
       "      <td>9</td>\n",
       "      <td>O</td>\n",
       "      <td>O</td>\n",
       "      <td>[-3.337, 11.487, -0.337]</td>\n",
       "      <td>0.0</td>\n",
       "      <td>dim_1    0.00\n",
       "dim_2    0.00\n",
       "dim_3    0.00\n",
       "dim_...</td>\n",
       "      <td>0</td>\n",
       "    </tr>\n",
       "    <tr>\n",
       "      <th>A:GLY:9:OXT</th>\n",
       "      <td>A</td>\n",
       "      <td>GLY</td>\n",
       "      <td>9</td>\n",
       "      <td>OXT</td>\n",
       "      <td>O</td>\n",
       "      <td>[-3.916, 9.443, 0.096]</td>\n",
       "      <td>0.0</td>\n",
       "      <td>dim_1    0.00\n",
       "dim_2    0.00\n",
       "dim_3    0.00\n",
       "dim_...</td>\n",
       "      <td>0</td>\n",
       "    </tr>\n",
       "  </tbody>\n",
       "</table>\n",
       "<p>69 rows × 9 columns</p>\n",
       "</div>"
      ],
      "text/plain": [
       "            chain_id residue_name  residue_number atom_type element_symbol  \\\n",
       "A:CYS:1:N          A          CYS               1         N              N   \n",
       "A:CYS:1:CA         A          CYS               1        CA              C   \n",
       "A:CYS:1:C          A          CYS               1         C              C   \n",
       "A:CYS:1:O          A          CYS               1         O              O   \n",
       "A:CYS:1:CB         A          CYS               1        CB              C   \n",
       "...              ...          ...             ...       ...            ...   \n",
       "A:GLY:9:N          A          GLY               9         N              N   \n",
       "A:GLY:9:CA         A          GLY               9        CA              C   \n",
       "A:GLY:9:C          A          GLY               9         C              C   \n",
       "A:GLY:9:O          A          GLY               9         O              O   \n",
       "A:GLY:9:OXT        A          GLY               9       OXT              O   \n",
       "\n",
       "                               coords  b_factor  \\\n",
       "A:CYS:1:N       [4.874, 2.855, 0.366]       0.0   \n",
       "A:CYS:1:CA      [3.791, 1.923, 0.075]       0.0   \n",
       "A:CYS:1:C         [4.157, 0.518, 0.5]       0.0   \n",
       "A:CYS:1:O       [5.232, 0.286, 1.045]       0.0   \n",
       "A:CYS:1:CB     [3.435, 1.946, -1.418]       0.0   \n",
       "...                               ...       ...   \n",
       "A:GLY:9:N     [-3.406, 8.654, -2.333]       0.0   \n",
       "A:GLY:9:CA   [-3.689, 10.034, -2.161]       0.0   \n",
       "A:GLY:9:C    [-3.647, 10.353, -0.712]       0.0   \n",
       "A:GLY:9:O    [-3.337, 11.487, -0.337]       0.0   \n",
       "A:GLY:9:OXT    [-3.916, 9.443, 0.096]       0.0   \n",
       "\n",
       "                                                        meiler  component  \n",
       "A:CYS:1:N    dim_1    1.77\n",
       "dim_2    0.13\n",
       "dim_3    2.43\n",
       "dim_...          0  \n",
       "A:CYS:1:CA   dim_1    1.77\n",
       "dim_2    0.13\n",
       "dim_3    2.43\n",
       "dim_...          0  \n",
       "A:CYS:1:C    dim_1    1.77\n",
       "dim_2    0.13\n",
       "dim_3    2.43\n",
       "dim_...          0  \n",
       "A:CYS:1:O    dim_1    1.77\n",
       "dim_2    0.13\n",
       "dim_3    2.43\n",
       "dim_...          0  \n",
       "A:CYS:1:CB   dim_1    1.77\n",
       "dim_2    0.13\n",
       "dim_3    2.43\n",
       "dim_...          0  \n",
       "...                                                        ...        ...  \n",
       "A:GLY:9:N    dim_1    0.00\n",
       "dim_2    0.00\n",
       "dim_3    0.00\n",
       "dim_...          0  \n",
       "A:GLY:9:CA   dim_1    0.00\n",
       "dim_2    0.00\n",
       "dim_3    0.00\n",
       "dim_...          0  \n",
       "A:GLY:9:C    dim_1    0.00\n",
       "dim_2    0.00\n",
       "dim_3    0.00\n",
       "dim_...          0  \n",
       "A:GLY:9:O    dim_1    0.00\n",
       "dim_2    0.00\n",
       "dim_3    0.00\n",
       "dim_...          0  \n",
       "A:GLY:9:OXT  dim_1    0.00\n",
       "dim_2    0.00\n",
       "dim_3    0.00\n",
       "dim_...          0  \n",
       "\n",
       "[69 rows x 9 columns]"
      ]
     },
     "execution_count": 4,
     "metadata": {},
     "output_type": "execute_result"
    }
   ],
   "source": [
    "attr_df"
   ]
  },
  {
   "cell_type": "code",
   "execution_count": 5,
   "id": "7d42c5af",
   "metadata": {},
   "outputs": [
    {
     "data": {
      "text/html": [
       "<div>\n",
       "<style scoped>\n",
       "    .dataframe tbody tr th:only-of-type {\n",
       "        vertical-align: middle;\n",
       "    }\n",
       "\n",
       "    .dataframe tbody tr th {\n",
       "        vertical-align: top;\n",
       "    }\n",
       "\n",
       "    .dataframe thead th {\n",
       "        text-align: right;\n",
       "    }\n",
       "</style>\n",
       "<table border=\"1\" class=\"dataframe\">\n",
       "  <thead>\n",
       "    <tr style=\"text-align: right;\">\n",
       "      <th></th>\n",
       "      <th>Nodes</th>\n",
       "      <th>Edges</th>\n",
       "    </tr>\n",
       "  </thead>\n",
       "  <tbody>\n",
       "    <tr>\n",
       "      <th>1</th>\n",
       "      <td>{'A:PRO:7:CB', 'A:PRO:7:CA', 'A:PRO:7:CD', 'A:...</td>\n",
       "      <td>[['A:PRO:7:CB', 'A:PRO:7:CG'], ['A:PRO:7:CA', ...</td>\n",
       "    </tr>\n",
       "    <tr>\n",
       "      <th>2</th>\n",
       "      <td>{'A:TYR:2:CE1', 'A:TYR:2:CG', 'A:TYR:2:CZ', 'A...</td>\n",
       "      <td>[['A:TYR:2:CG', 'A:TYR:2:CZ'], ['A:TYR:2:CE1',...</td>\n",
       "    </tr>\n",
       "  </tbody>\n",
       "</table>\n",
       "</div>"
      ],
      "text/plain": [
       "                                               Nodes  \\\n",
       "1  {'A:PRO:7:CB', 'A:PRO:7:CA', 'A:PRO:7:CD', 'A:...   \n",
       "2  {'A:TYR:2:CE1', 'A:TYR:2:CG', 'A:TYR:2:CZ', 'A...   \n",
       "\n",
       "                                               Edges  \n",
       "1  [['A:PRO:7:CB', 'A:PRO:7:CG'], ['A:PRO:7:CA', ...  \n",
       "2  [['A:TYR:2:CG', 'A:TYR:2:CZ'], ['A:TYR:2:CE1',...  "
      ]
     },
     "execution_count": 5,
     "metadata": {},
     "output_type": "execute_result"
    }
   ],
   "source": [
    "comp_df"
   ]
  },
  {
   "cell_type": "markdown",
   "id": "ad747eae",
   "metadata": {},
   "source": [
    "## Basic Pebblegame with simple example"
   ]
  },
  {
   "cell_type": "code",
   "execution_count": 9,
   "id": "228a604b",
   "metadata": {},
   "outputs": [],
   "source": [
    "import generic_pebblegame as gp\n",
    "import networkx as nx"
   ]
  },
  {
   "cell_type": "code",
   "execution_count": 10,
   "id": "81795bc2",
   "metadata": {},
   "outputs": [],
   "source": [
    "sample09 = [(\"A\", \"B\"), (\"B\", \"C\"), (\"C\", \"D\"), (\"D\", \"E\"), (\"E\", \"F\"), (\"F\", \"A\"), (\"A\", \"G\"), (\"B\", \"H\"), (\"C\", \"H\"),\n",
    "            (\"D\", \"H\"), (\"E\", \"G\"), (\"F\", \"G\"), (\"G\", \"H\"),(\"A\",\"I\"),(\"B\",\"I\")]\n",
    "sample09_graph = nx.from_edgelist(sample09)"
   ]
  },
  {
   "cell_type": "code",
   "execution_count": 11,
   "id": "272b940d",
   "metadata": {},
   "outputs": [
    {
     "name": "stdout",
     "output_type": "stream",
     "text": [
      "well-constraint; l pebbles remain. no edge has been left out\n"
     ]
    }
   ],
   "source": [
    "gp.generic_pebblegame(sample09_graph, 2, 3)"
   ]
  },
  {
   "cell_type": "code",
   "execution_count": null,
   "id": "83ffe446",
   "metadata": {},
   "outputs": [],
   "source": []
  }
 ],
 "metadata": {
  "kernelspec": {
   "display_name": "Python 3 (ipykernel)",
   "language": "python",
   "name": "python3"
  },
  "language_info": {
   "codemirror_mode": {
    "name": "ipython",
    "version": 3
   },
   "file_extension": ".py",
   "mimetype": "text/x-python",
   "name": "python",
   "nbconvert_exporter": "python",
   "pygments_lexer": "ipython3",
   "version": "3.9.7"
  },
  "toc": {
   "base_numbering": 1,
   "nav_menu": {},
   "number_sections": true,
   "sideBar": true,
   "skip_h1_title": false,
   "title_cell": "Table of Contents",
   "title_sidebar": "Contents",
   "toc_cell": false,
   "toc_position": {},
   "toc_section_display": true,
   "toc_window_display": false
  }
 },
 "nbformat": 4,
 "nbformat_minor": 5
}
