{
 "cells": [
  {
   "cell_type": "markdown",
   "id": "4a0874a9",
   "metadata": {},
   "source": [
    "# Detection of rigid Components in Graphs applied to Proteins\n",
    "\n",
    "\n",
    "Project on rigidity in RNA and protein structures for Advanced Methods in Bioinformatics course\n",
    "\n",
    "Thank you for using our little pebble and component-detection game tool!\n",
    "\n",
    "We designed it to determine rigid components in proteins and other graphs.\n",
    "The algorithm for the pabblegame/component-detection is based on the research-paper \"Pebble game algorithms and sparse graphs\"\n",
    "by Lee and Streinu\n",
    "\n",
    "Additionally we established a pipeline to detect rigid components in Proteins using the graphein-library.\n",
    "\n",
    "To just run a basic pebblegame you can use the function in generic_pebblegame.py.\n",
    "To run a component detection use the functions in pebblegame.py\n",
    "\n",
    "Functions wrapping the rigid-component-detection and Protein-Graph building and visualization you can find in PDB_to_Grphein.py\n",
    "\n",
    "Use the UI.py to perform a quickstart compnent detection\n",
    "\n",
    "## A little introduction to the main functions of PDB_to_Graphein.py:\n",
    "\n",
    "pdb_to_graph(path, only_covalent=True, gran=\"atom\")\n",
    "\n",
    "- output: networkX MultiGraph\n",
    "\n",
    "- loads PDB-file and converts to graph\n",
    "- setting only_covalent to False takes sidechain interactions such as H-bond or ionic interactions into account and makes them to edges\n",
    "- gran=\"atom\" sets the atoms of the Protein to nodes. Change to gran=\"centroid\" to set aminoacids as nodes.\n",
    "\n",
    "find_components(G, k=5, l=6)\n",
    "\n",
    "- output: List of components as sets containing the edges as frozen sets\n",
    "\n",
    "- performs k,l-pebblegame-based detection of rigid components\n",
    "- default k=5 and l=6 to perform a k,l-pebblegame for 3D protein Graphs\n",
    "\n",
    "assign_components(G, components)\n",
    "\n",
    "- output: netwokX Multigraph with node-attibute component based on input components-list\n",
    "\n",
    "- it makes only sense to use the components list as input which is generated based on the same graph as input of this function\n",
    "\n",
    "print_attributes(G)\n",
    "\n",
    "- output: pandas dataframe with the node attributes\n",
    "\n",
    "print_component_dataframe(component_list):\n",
    "\n",
    "- output: pandas dataframe with components as index and a column with nodes and one with edges contained in each component"
   ]
  },
  {
   "cell_type": "markdown",
   "id": "a1fc96b7",
   "metadata": {},
   "source": [
    "## # Example Pipeline to perform a Component-Detection based on a PDB-File"
   ]
  },
  {
   "cell_type": "code",
   "execution_count": null,
   "id": "ceeaab28",
   "metadata": {},
   "outputs": [],
   "source": [
    "from graphein.protein.visualisation import plotly_protein_structure_graph\n",
    "import PDB_to_Graphein as pdg\n",
    "\n",
    "path = 'pdb_samples/2mgo.pdb'\n",
    "\n",
    "G = pdg.pdb_to_graph(path, only_covalent=False)\n",
    "comp = pdg.find_components(G, path)\n",
    "G = pdg.assign_components(G, comp)\n",
    "attr_df = pdg.print_attributes(G)\n",
    "comp_df = pdg.print_component_dataframe(comp)\n",
    "\n",
    "\n",
    "\n",
    "p = plotly_protein_structure_graph(\n",
    "        G,\n",
    "        colour_edges_by=\"component\",\n",
    "        colour_nodes_by=\"component\",\n",
    "        label_node_ids=False,\n",
    "        plot_title=\"Peptide backbone graph. Nodes coloured by components\",\n",
    "        node_size_multiplier=1\n",
    "    )\n",
    "p.show()"
   ]
  }
 ],
 "metadata": {
  "kernelspec": {
   "display_name": "Python 3 (ipykernel)",
   "language": "python",
   "name": "python3"
  },
  "language_info": {
   "codemirror_mode": {
    "name": "ipython",
    "version": 3
   },
   "file_extension": ".py",
   "mimetype": "text/x-python",
   "name": "python",
   "nbconvert_exporter": "python",
   "pygments_lexer": "ipython3",
   "version": "3.9.7"
  },
  "toc": {
   "base_numbering": 1,
   "nav_menu": {},
   "number_sections": true,
   "sideBar": true,
   "skip_h1_title": false,
   "title_cell": "Table of Contents",
   "title_sidebar": "Contents",
   "toc_cell": false,
   "toc_position": {},
   "toc_section_display": true,
   "toc_window_display": false
  }
 },
 "nbformat": 4,
 "nbformat_minor": 5
}
