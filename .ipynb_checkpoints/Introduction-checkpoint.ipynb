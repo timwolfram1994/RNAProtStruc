{
 "cells": [
  {
   "cell_type": "markdown",
   "id": "901be312",
   "metadata": {},
   "source": [
    "# Detection of rigid Components in Graphs applied to Proteins\n",
    "\n",
    "\n",
    "Project on rigidity in RNA and protein structures for Advanced Methods in Bioinformatics course\n",
    "\n",
    "Thank you for using our little pebble and component-detection game tool!\n",
    "\n",
    "We designed it to determine rigid components in proteins and other graphs.\n",
    "The algorithm for the pabblegame/component-detection is based on the research-paper \"Pebble game algorithms and sparse graphs\"\n",
    "by Lee and Streinu\n",
    "\n",
    "Additionally we established a pipeline to detect rigid components in Proteins using the graphein-library.\n",
    "\n",
    "To just run a basic pebblegame you can use the function in generic_pebblegame.py.\n",
    "To run a component detection use the functions in pebblegame.py\n",
    "\n",
    "Functions wrapping the rigid-component-detection and Protein-Graph building and visualization you can find in PDB_to_Grphein.py\n",
    "\n",
    "Use the UI.py to perform a quickstart compnent detection\n",
    "\n",
    "## A little introduction to the main functions of PDB_to_Graphein.py:\n",
    "\n",
    "pdb_to_graph(path, only_covalent=True, gran=\"atom\")\n",
    "\n",
    "- output: networkX MultiGraph\n",
    "\n",
    "- loads PDB-file and converts to graph\n",
    "- setting only_covalent to False takes sidechain interactions such as H-bond or ionic interactions into account and makes them to edges\n",
    "- gran=\"atom\" sets the atoms of the Protein to nodes. Change to gran=\"centroid\" to set aminoacids as nodes.\n",
    "\n",
    "find_components(G, k=5, l=6)\n",
    "\n",
    "- output: List of components as sets containing the edges as frozen sets\n",
    "\n",
    "- performs k,l-pebblegame-based detection of rigid components\n",
    "- default k=5 and l=6 to perform a k,l-pebblegame for 3D protein Graphs\n",
    "\n",
    "assign_components(G, components)\n",
    "\n",
    "- output: netwokX Multigraph with node-attibute component based on input components-list\n",
    "\n",
    "- it makes only sense to use the components list as input which is generated based on the same graph as input of this function\n",
    "\n",
    "print_attributes(G)\n",
    "\n",
    "- output: pandas dataframe with the node attributes\n",
    "\n",
    "print_component_dataframe(component_list):\n",
    "\n",
    "- output: pandas dataframe with components as index and a column with nodes and one with edges contained in each component"
   ]
  },
  {
   "cell_type": "markdown",
   "id": "4d2be6af",
   "metadata": {},
   "source": [
    "## Example Pipeline to perform a Component-Detection based on a PDB-File"
   ]
  },
  {
   "cell_type": "code",
   "execution_count": 3,
   "id": "7a67cd41",
   "metadata": {},
   "outputs": [
    {
     "data": {
      "application/vnd.jupyter.widget-view+json": {
       "model_id": "",
       "version_major": 2,
       "version_minor": 0
      },
      "text/plain": [
       "Output()"
      ]
     },
     "metadata": {},
     "output_type": "display_data"
    },
    {
     "data": {
      "text/html": [
       "<pre style=\"white-space:pre;overflow-x:auto;line-height:normal;font-family:Menlo,'DejaVu Sans Mono',consolas,'Courier New',monospace\">/home/tim/anaconda3/lib/python3.9/site-packages/graphein/protein/graphs.py:161: FutureWarning:\n",
       "\n",
       "The default value of regex will change from True to False in a future version.\n",
       "\n",
       "</pre>\n"
      ],
      "text/plain": [
       "/home/tim/anaconda3/lib/python3.9/site-packages/graphein/protein/graphs.py:161: FutureWarning:\n",
       "\n",
       "The default value of regex will change from True to False in a future version.\n",
       "\n"
      ]
     },
     "metadata": {},
     "output_type": "display_data"
    },
    {
     "data": {
      "text/html": [
       "<pre style=\"white-space:pre;overflow-x:auto;line-height:normal;font-family:Menlo,'DejaVu Sans Mono',consolas,'Courier New',monospace\">/home/tim/anaconda3/lib/python3.9/site-packages/graphein/protein/graphs.py:164: FutureWarning:\n",
       "\n",
       "The default value of regex will change from True to False in a future version.\n",
       "\n",
       "</pre>\n"
      ],
      "text/plain": [
       "/home/tim/anaconda3/lib/python3.9/site-packages/graphein/protein/graphs.py:164: FutureWarning:\n",
       "\n",
       "The default value of regex will change from True to False in a future version.\n",
       "\n"
      ]
     },
     "metadata": {},
     "output_type": "display_data"
    },
    {
     "data": {
      "text/html": [
       "<pre style=\"white-space:pre;overflow-x:auto;line-height:normal;font-family:Menlo,'DejaVu Sans Mono',consolas,'Courier New',monospace\"><span style=\"color: #7fbfbf; text-decoration-color: #7fbfbf\">[11/03/23 14:17:10] </span><span style=\"color: #008000; text-decoration-color: #008000\">DEBUG   </span> Deprotonating protein. This removes H atoms from the pdb_df dataframe    <a href=\"file:///home/tim/anaconda3/lib/python3.9/site-packages/graphein/protein/graphs.py\" target=\"_blank\"><span style=\"color: #7f7f7f; text-decoration-color: #7f7f7f\">graphs.py</span></a><span style=\"color: #7f7f7f; text-decoration-color: #7f7f7f\">:</span><a href=\"file:///home/tim/anaconda3/lib/python3.9/site-packages/graphein/protein/graphs.py#187\" target=\"_blank\"><span style=\"color: #7f7f7f; text-decoration-color: #7f7f7f\">187</span></a>\n",
       "</pre>\n"
      ],
      "text/plain": [
       "\u001b[2;36m[11/03/23 14:17:10]\u001b[0m\u001b[2;36m \u001b[0m\u001b[32mDEBUG   \u001b[0m Deprotonating protein. This removes H atoms from the pdb_df dataframe    \u001b]8;id=707678;file:///home/tim/anaconda3/lib/python3.9/site-packages/graphein/protein/graphs.py\u001b\\\u001b[2mgraphs.py\u001b[0m\u001b]8;;\u001b\\\u001b[2m:\u001b[0m\u001b]8;id=839104;file:///home/tim/anaconda3/lib/python3.9/site-packages/graphein/protein/graphs.py#187\u001b\\\u001b[2m187\u001b[0m\u001b]8;;\u001b\\\n"
      ]
     },
     "metadata": {},
     "output_type": "display_data"
    },
    {
     "data": {
      "text/html": [
       "<pre style=\"white-space:pre;overflow-x:auto;line-height:normal;font-family:Menlo,'DejaVu Sans Mono',consolas,'Courier New',monospace\"><span style=\"color: #7fbfbf; text-decoration-color: #7fbfbf\">                    </span><span style=\"color: #008000; text-decoration-color: #008000\">DEBUG   </span> Detected <span style=\"color: #008080; text-decoration-color: #008080; font-weight: bold\">69</span> total nodes                                                  <a href=\"file:///home/tim/anaconda3/lib/python3.9/site-packages/graphein/protein/graphs.py\" target=\"_blank\"><span style=\"color: #7f7f7f; text-decoration-color: #7f7f7f\">graphs.py</span></a><span style=\"color: #7f7f7f; text-decoration-color: #7f7f7f\">:</span><a href=\"file:///home/tim/anaconda3/lib/python3.9/site-packages/graphein/protein/graphs.py#431\" target=\"_blank\"><span style=\"color: #7f7f7f; text-decoration-color: #7f7f7f\">431</span></a>\n",
       "</pre>\n"
      ],
      "text/plain": [
       "\u001b[2;36m                   \u001b[0m\u001b[2;36m \u001b[0m\u001b[32mDEBUG   \u001b[0m Detected \u001b[1;36m69\u001b[0m total nodes                                                  \u001b]8;id=394465;file:///home/tim/anaconda3/lib/python3.9/site-packages/graphein/protein/graphs.py\u001b\\\u001b[2mgraphs.py\u001b[0m\u001b]8;;\u001b\\\u001b[2m:\u001b[0m\u001b]8;id=73188;file:///home/tim/anaconda3/lib/python3.9/site-packages/graphein/protein/graphs.py#431\u001b\\\u001b[2m431\u001b[0m\u001b]8;;\u001b\\\n"
      ]
     },
     "metadata": {},
     "output_type": "display_data"
    },
    {
     "data": {
      "text/html": [
       "<pre style=\"white-space:pre;overflow-x:auto;line-height:normal;font-family:Menlo,'DejaVu Sans Mono',consolas,'Courier New',monospace\"><span style=\"color: #7fbfbf; text-decoration-color: #7fbfbf\">                    </span><span style=\"color: #000080; text-decoration-color: #000080\">INFO    </span> Found <span style=\"color: #008080; text-decoration-color: #008080; font-weight: bold\">6</span> hbond interactions.                                           <a href=\"file:///home/tim/anaconda3/lib/python3.9/site-packages/graphein/protein/edges/distance.py\" target=\"_blank\"><span style=\"color: #7f7f7f; text-decoration-color: #7f7f7f\">distance.py</span></a><span style=\"color: #7f7f7f; text-decoration-color: #7f7f7f\">:</span><a href=\"file:///home/tim/anaconda3/lib/python3.9/site-packages/graphein/protein/edges/distance.py#1343\" target=\"_blank\"><span style=\"color: #7f7f7f; text-decoration-color: #7f7f7f\">1343</span></a>\n",
       "</pre>\n"
      ],
      "text/plain": [
       "\u001b[2;36m                   \u001b[0m\u001b[2;36m \u001b[0m\u001b[34mINFO    \u001b[0m Found \u001b[1;36m6\u001b[0m hbond interactions.                                           \u001b]8;id=628269;file:///home/tim/anaconda3/lib/python3.9/site-packages/graphein/protein/edges/distance.py\u001b\\\u001b[2mdistance.py\u001b[0m\u001b]8;;\u001b\\\u001b[2m:\u001b[0m\u001b]8;id=852080;file:///home/tim/anaconda3/lib/python3.9/site-packages/graphein/protein/edges/distance.py#1343\u001b\\\u001b[2m1343\u001b[0m\u001b]8;;\u001b\\\n"
      ]
     },
     "metadata": {},
     "output_type": "display_data"
    },
    {
     "data": {
      "text/html": [
       "<pre style=\"white-space:pre;overflow-x:auto;line-height:normal;font-family:Menlo,'DejaVu Sans Mono',consolas,'Courier New',monospace\"><span style=\"color: #7fbfbf; text-decoration-color: #7fbfbf\">                    </span><span style=\"color: #000080; text-decoration-color: #000080\">INFO    </span> Found <span style=\"color: #008080; text-decoration-color: #008080; font-weight: bold\">4</span> hbond interactions.                                           <a href=\"file:///home/tim/anaconda3/lib/python3.9/site-packages/graphein/protein/edges/distance.py\" target=\"_blank\"><span style=\"color: #7f7f7f; text-decoration-color: #7f7f7f\">distance.py</span></a><span style=\"color: #7f7f7f; text-decoration-color: #7f7f7f\">:</span><a href=\"file:///home/tim/anaconda3/lib/python3.9/site-packages/graphein/protein/edges/distance.py#1343\" target=\"_blank\"><span style=\"color: #7f7f7f; text-decoration-color: #7f7f7f\">1343</span></a>\n",
       "</pre>\n"
      ],
      "text/plain": [
       "\u001b[2;36m                   \u001b[0m\u001b[2;36m \u001b[0m\u001b[34mINFO    \u001b[0m Found \u001b[1;36m4\u001b[0m hbond interactions.                                           \u001b]8;id=60498;file:///home/tim/anaconda3/lib/python3.9/site-packages/graphein/protein/edges/distance.py\u001b\\\u001b[2mdistance.py\u001b[0m\u001b]8;;\u001b\\\u001b[2m:\u001b[0m\u001b]8;id=679587;file:///home/tim/anaconda3/lib/python3.9/site-packages/graphein/protein/edges/distance.py#1343\u001b\\\u001b[2m1343\u001b[0m\u001b]8;;\u001b\\\n"
      ]
     },
     "metadata": {},
     "output_type": "display_data"
    },
    {
     "data": {
      "text/html": [
       "<pre style=\"white-space:pre;overflow-x:auto;line-height:normal;font-family:Menlo,'DejaVu Sans Mono',consolas,'Courier New',monospace\">/home/tim/anaconda3/lib/python3.9/site-packages/graphein/protein/edges/distance.py:1211: FutureWarning:\n",
       "\n",
       "The default value of numeric_only in DataFrameGroupBy.mean is deprecated. In a future version, numeric_only will \n",
       "default to False. Either specify numeric_only or select only columns which should be valid for the function.\n",
       "\n",
       "</pre>\n"
      ],
      "text/plain": [
       "/home/tim/anaconda3/lib/python3.9/site-packages/graphein/protein/edges/distance.py:1211: FutureWarning:\n",
       "\n",
       "The default value of numeric_only in DataFrameGroupBy.mean is deprecated. In a future version, numeric_only will \n",
       "default to False. Either specify numeric_only or select only columns which should be valid for the function.\n",
       "\n"
      ]
     },
     "metadata": {},
     "output_type": "display_data"
    },
    {
     "data": {
      "text/html": [
       "<pre style=\"white-space:pre;overflow-x:auto;line-height:normal;font-family:Menlo,'DejaVu Sans Mono',consolas,'Courier New',monospace\">/home/tim/anaconda3/lib/python3.9/site-packages/graphein/protein/edges/distance.py:1211: FutureWarning:\n",
       "\n",
       "The default value of numeric_only in DataFrameGroupBy.mean is deprecated. In a future version, numeric_only will \n",
       "default to False. Either specify numeric_only or select only columns which should be valid for the function.\n",
       "\n",
       "</pre>\n"
      ],
      "text/plain": [
       "/home/tim/anaconda3/lib/python3.9/site-packages/graphein/protein/edges/distance.py:1211: FutureWarning:\n",
       "\n",
       "The default value of numeric_only in DataFrameGroupBy.mean is deprecated. In a future version, numeric_only will \n",
       "default to False. Either specify numeric_only or select only columns which should be valid for the function.\n",
       "\n"
      ]
     },
     "metadata": {},
     "output_type": "display_data"
    },
    {
     "data": {
      "text/html": [
       "<pre style=\"white-space:pre;overflow-x:auto;line-height:normal;font-family:Menlo,'DejaVu Sans Mono',consolas,'Courier New',monospace\">/home/tim/anaconda3/lib/python3.9/site-packages/graphein/protein/edges/distance.py:1211: FutureWarning:\n",
       "\n",
       "The default value of numeric_only in DataFrameGroupBy.mean is deprecated. In a future version, numeric_only will \n",
       "default to False. Either specify numeric_only or select only columns which should be valid for the function.\n",
       "\n",
       "</pre>\n"
      ],
      "text/plain": [
       "/home/tim/anaconda3/lib/python3.9/site-packages/graphein/protein/edges/distance.py:1211: FutureWarning:\n",
       "\n",
       "The default value of numeric_only in DataFrameGroupBy.mean is deprecated. In a future version, numeric_only will \n",
       "default to False. Either specify numeric_only or select only columns which should be valid for the function.\n",
       "\n"
      ]
     },
     "metadata": {},
     "output_type": "display_data"
    },
    {
     "data": {
      "text/html": [
       "<pre style=\"white-space:pre;overflow-x:auto;line-height:normal;font-family:Menlo,'DejaVu Sans Mono',consolas,'Courier New',monospace\">/home/tim/anaconda3/lib/python3.9/site-packages/graphein/protein/edges/distance.py:1211: FutureWarning:\n",
       "\n",
       "The default value of numeric_only in DataFrameGroupBy.mean is deprecated. In a future version, numeric_only will \n",
       "default to False. Either specify numeric_only or select only columns which should be valid for the function.\n",
       "\n",
       "</pre>\n"
      ],
      "text/plain": [
       "/home/tim/anaconda3/lib/python3.9/site-packages/graphein/protein/edges/distance.py:1211: FutureWarning:\n",
       "\n",
       "The default value of numeric_only in DataFrameGroupBy.mean is deprecated. In a future version, numeric_only will \n",
       "default to False. Either specify numeric_only or select only columns which should be valid for the function.\n",
       "\n"
      ]
     },
     "metadata": {},
     "output_type": "display_data"
    },
    {
     "data": {
      "text/html": [
       "<pre style=\"white-space:pre;overflow-x:auto;line-height:normal;font-family:Menlo,'DejaVu Sans Mono',consolas,'Courier New',monospace\"><span style=\"color: #7fbfbf; text-decoration-color: #7fbfbf\">                    </span><span style=\"color: #000080; text-decoration-color: #000080\">INFO    </span> Found: <span style=\"color: #008080; text-decoration-color: #008080; font-weight: bold\">0</span> aromatic-aromatic interactions                                <a href=\"file:///home/tim/anaconda3/lib/python3.9/site-packages/graphein/protein/edges/distance.py\" target=\"_blank\"><span style=\"color: #7f7f7f; text-decoration-color: #7f7f7f\">distance.py</span></a><span style=\"color: #7f7f7f; text-decoration-color: #7f7f7f\">:</span><a href=\"file:///home/tim/anaconda3/lib/python3.9/site-packages/graphein/protein/edges/distance.py#466\" target=\"_blank\"><span style=\"color: #7f7f7f; text-decoration-color: #7f7f7f\">466</span></a>\n",
       "</pre>\n"
      ],
      "text/plain": [
       "\u001b[2;36m                   \u001b[0m\u001b[2;36m \u001b[0m\u001b[34mINFO    \u001b[0m Found: \u001b[1;36m0\u001b[0m aromatic-aromatic interactions                                \u001b]8;id=213562;file:///home/tim/anaconda3/lib/python3.9/site-packages/graphein/protein/edges/distance.py\u001b\\\u001b[2mdistance.py\u001b[0m\u001b]8;;\u001b\\\u001b[2m:\u001b[0m\u001b]8;id=583857;file:///home/tim/anaconda3/lib/python3.9/site-packages/graphein/protein/edges/distance.py#466\u001b\\\u001b[2m466\u001b[0m\u001b]8;;\u001b\\\n"
      ]
     },
     "metadata": {},
     "output_type": "display_data"
    },
    {
     "data": {
      "text/html": [
       "<pre style=\"white-space:pre;overflow-x:auto;line-height:normal;font-family:Menlo,'DejaVu Sans Mono',consolas,'Courier New',monospace\"><span style=\"color: #7fbfbf; text-decoration-color: #7fbfbf\">                    </span><span style=\"color: #000080; text-decoration-color: #000080\">INFO    </span> Found <span style=\"color: #008080; text-decoration-color: #008080; font-weight: bold\">4</span> disulfide interactions.                                       <a href=\"file:///home/tim/anaconda3/lib/python3.9/site-packages/graphein/protein/edges/distance.py\" target=\"_blank\"><span style=\"color: #7f7f7f; text-decoration-color: #7f7f7f\">distance.py</span></a><span style=\"color: #7f7f7f; text-decoration-color: #7f7f7f\">:</span><a href=\"file:///home/tim/anaconda3/lib/python3.9/site-packages/graphein/protein/edges/distance.py#1343\" target=\"_blank\"><span style=\"color: #7f7f7f; text-decoration-color: #7f7f7f\">1343</span></a>\n",
       "</pre>\n"
      ],
      "text/plain": [
       "\u001b[2;36m                   \u001b[0m\u001b[2;36m \u001b[0m\u001b[34mINFO    \u001b[0m Found \u001b[1;36m4\u001b[0m disulfide interactions.                                       \u001b]8;id=857274;file:///home/tim/anaconda3/lib/python3.9/site-packages/graphein/protein/edges/distance.py\u001b\\\u001b[2mdistance.py\u001b[0m\u001b]8;;\u001b\\\u001b[2m:\u001b[0m\u001b]8;id=219458;file:///home/tim/anaconda3/lib/python3.9/site-packages/graphein/protein/edges/distance.py#1343\u001b\\\u001b[2m1343\u001b[0m\u001b]8;;\u001b\\\n"
      ]
     },
     "metadata": {},
     "output_type": "display_data"
    },
    {
     "data": {
      "text/html": [
       "<pre style=\"white-space:pre;overflow-x:auto;line-height:normal;font-family:Menlo,'DejaVu Sans Mono',consolas,'Courier New',monospace\"><span style=\"color: #7fbfbf; text-decoration-color: #7fbfbf\">                    </span><span style=\"color: #000080; text-decoration-color: #000080\">INFO    </span> Found <span style=\"color: #008080; text-decoration-color: #008080; font-weight: bold\">341</span> ionic interactions.                                         <a href=\"file:///home/tim/anaconda3/lib/python3.9/site-packages/graphein/protein/edges/distance.py\" target=\"_blank\"><span style=\"color: #7f7f7f; text-decoration-color: #7f7f7f\">distance.py</span></a><span style=\"color: #7f7f7f; text-decoration-color: #7f7f7f\">:</span><a href=\"file:///home/tim/anaconda3/lib/python3.9/site-packages/graphein/protein/edges/distance.py#1343\" target=\"_blank\"><span style=\"color: #7f7f7f; text-decoration-color: #7f7f7f\">1343</span></a>\n",
       "</pre>\n"
      ],
      "text/plain": [
       "\u001b[2;36m                   \u001b[0m\u001b[2;36m \u001b[0m\u001b[34mINFO    \u001b[0m Found \u001b[1;36m341\u001b[0m ionic interactions.                                         \u001b]8;id=74499;file:///home/tim/anaconda3/lib/python3.9/site-packages/graphein/protein/edges/distance.py\u001b\\\u001b[2mdistance.py\u001b[0m\u001b]8;;\u001b\\\u001b[2m:\u001b[0m\u001b]8;id=140602;file:///home/tim/anaconda3/lib/python3.9/site-packages/graphein/protein/edges/distance.py#1343\u001b\\\u001b[2m1343\u001b[0m\u001b]8;;\u001b\\\n"
      ]
     },
     "metadata": {},
     "output_type": "display_data"
    },
    {
     "data": {
      "text/html": [
       "<pre style=\"white-space:pre;overflow-x:auto;line-height:normal;font-family:Menlo,'DejaVu Sans Mono',consolas,'Courier New',monospace\"></pre>\n"
      ],
      "text/plain": []
     },
     "metadata": {},
     "output_type": "display_data"
    },
    {
     "data": {
      "text/html": [
       "<pre style=\"white-space:pre;overflow-x:auto;line-height:normal;font-family:Menlo,'DejaVu Sans Mono',consolas,'Courier New',monospace\">\n",
       "</pre>\n"
      ],
      "text/plain": [
       "\n"
      ]
     },
     "metadata": {},
     "output_type": "display_data"
    },
    {
     "name": "stdout",
     "output_type": "stream",
     "text": [
      "Edge already in rigid component identified\n",
      "Edge already in rigid component identified\n",
      "Edge already in rigid component identified\n",
      "Edge already in rigid component identified\n",
      "Edge already in rigid component identified\n",
      "Edge already in rigid component identified\n",
      "Edge already in rigid component identified\n",
      "Edge already in rigid component identified\n",
      "Edge already in rigid component identified\n",
      "Edge already in rigid component identified\n",
      "Edge already in rigid component identified\n",
      "Edge already in rigid component identified\n",
      "Edge already in rigid component identified\n",
      "Edge already in rigid component identified\n",
      "Edge already in rigid component identified\n",
      "Edge already in rigid component identified\n",
      "Edge already in rigid component identified\n",
      "Edge already in rigid component identified\n",
      "Edge already in rigid component identified\n",
      "Edge already in rigid component identified\n",
      "Edge already in rigid component identified\n",
      "Edge already in rigid component identified\n",
      "Edge already in rigid component identified\n",
      "Edge already in rigid component identified\n",
      "Edge already in rigid component identified\n",
      "Edge already in rigid component identified\n",
      "Edge already in rigid component identified\n",
      "Edge already in rigid component identified\n",
      "Edge already in rigid component identified\n",
      "Edge already in rigid component identified\n",
      "Edge already in rigid component identified\n",
      "Edge already in rigid component identified\n",
      "Edge already in rigid component identified\n",
      "Edge already in rigid component identified\n",
      "Edge already in rigid component identified\n",
      "Edge already in rigid component identified\n",
      "Edge already in rigid component identified\n",
      "Edge already in rigid component identified\n",
      "Edge already in rigid component identified\n",
      "Edge already in rigid component identified\n",
      "Edge already in rigid component identified\n",
      "Edge already in rigid component identified\n",
      "Edge already in rigid component identified\n",
      "Edge already in rigid component identified\n",
      "Edge already in rigid component identified\n",
      "Edge already in rigid component identified\n",
      "Edge already in rigid component identified\n",
      "Edge already in rigid component identified\n",
      "Edge already in rigid component identified\n",
      "Edge already in rigid component identified\n",
      "Edge already in rigid component identified\n",
      "Edge already in rigid component identified\n",
      "Edge already in rigid component identified\n",
      "Edge already in rigid component identified\n",
      "Edge already in rigid component identified\n",
      "Edge already in rigid component identified\n",
      "Edge already in rigid component identified\n",
      "Edge already in rigid component identified\n",
      "Edge already in rigid component identified\n",
      "Edge already in rigid component identified\n",
      "Edge already in rigid component identified\n",
      "Edge already in rigid component identified\n",
      "Edge already in rigid component identified\n",
      "Edge already in rigid component identified\n",
      "Edge already in rigid component identified\n",
      "Edge already in rigid component identified\n",
      "Edge already in rigid component identified\n",
      "Edge already in rigid component identified\n",
      "Edge already in rigid component identified\n",
      "Edge already in rigid component identified\n",
      "Edge already in rigid component identified\n",
      "Edge already in rigid component identified\n",
      "identified components:  [{frozenset({'A:GLY:9:OXT', 'A:GLY:9:C'})}, {frozenset({'A:GLY:9:O', 'A:GLY:9:C'})}, {frozenset({'A:GLY:9:CA', 'A:GLY:9:C'})}, {frozenset({'A:LEU:8:CD2', 'A:LEU:8:CG'})}, {frozenset({'A:LEU:8:CD1', 'A:LEU:8:CG'})}, {frozenset({'A:GLY:9:CA', 'A:GLY:9:N'})}, {frozenset({'A:LEU:8:CB', 'A:LEU:8:CG'})}, {frozenset({'A:LEU:8:C', 'A:GLY:9:N'})}, {frozenset({'A:LEU:8:O', 'A:LEU:8:C'})}, {frozenset({'A:LEU:8:CA', 'A:LEU:8:CB'})}, {frozenset({'A:LEU:8:CA', 'A:LEU:8:C'})}, {frozenset({'A:LEU:8:CA', 'A:LEU:8:N'})}, {frozenset({'A:PRO:7:CG', 'A:PRO:7:CB'})}, {frozenset({'A:LEU:8:N', 'A:PRO:7:C'})}, {frozenset({'A:PRO:7:O', 'A:PRO:7:C'})}, {frozenset({'A:PRO:7:CG', 'A:PRO:7:CD'})}, {frozenset({'A:PRO:7:CB', 'A:PRO:7:CA'})}, {frozenset({'A:PRO:7:CA', 'A:PRO:7:C'})}, {frozenset({'A:PRO:7:N', 'A:PRO:7:CD'})}, {frozenset({'A:PRO:7:N', 'A:PRO:7:CD'}), frozenset({'A:PRO:7:CG', 'A:PRO:7:CB'}), frozenset({'A:PRO:7:N', 'A:PRO:7:CA'}), frozenset({'A:PRO:7:CD', 'A:PRO:7:CB'}), frozenset({'A:PRO:7:CB', 'A:PRO:7:CA'}), frozenset({'A:PRO:7:CD', 'A:PRO:7:CA'}), frozenset({'A:PRO:7:CG', 'A:PRO:7:N'}), frozenset({'A:PRO:7:CG', 'A:PRO:7:CD'}), frozenset({'A:PRO:7:CG', 'A:PRO:7:CA'}), frozenset({'A:PRO:7:N', 'A:PRO:7:CB'})}, {frozenset({'A:CYS:6:C', 'A:PRO:7:N'})}, {frozenset({'A:CYS:6:C', 'A:CYS:6:O'})}, {frozenset({'A:CYS:6:C', 'A:CYS:6:CA'})}, {frozenset({'A:ASN:5:ND2', 'A:ASN:5:CG'})}, {frozenset({'A:ASN:5:OD1', 'A:ASN:5:CG'})}, {frozenset({'A:CYS:6:N', 'A:CYS:6:CA'})}, {frozenset({'A:ASN:5:CG', 'A:ASN:5:CB'})}, {frozenset({'A:ASN:5:C', 'A:CYS:6:N'})}, {frozenset({'A:ASN:5:C', 'A:ASN:5:O'})}, {frozenset({'A:GLN:4:NE2', 'A:GLN:4:CD'})}, {frozenset({'A:GLN:4:OE1', 'A:GLN:4:CD'})}, {frozenset({'A:ASN:5:CA', 'A:ASN:5:CB'})}, {frozenset({'A:ASN:5:C', 'A:ASN:5:CA'})}, {frozenset({'A:GLN:4:CG', 'A:GLN:4:CD'})}, {frozenset({'A:ASN:5:CA', 'A:ASN:5:N'})}, {frozenset({'A:GLN:4:CG', 'A:GLN:4:CB'})}, {frozenset({'A:ASN:5:N', 'A:GLN:4:C'})}, {frozenset({'A:GLN:4:O', 'A:GLN:4:C'})}, {frozenset({'A:GLN:4:CB', 'A:GLN:4:CA'})}, {frozenset({'A:GLN:4:CA', 'A:GLN:4:C'})}, {frozenset({'A:ILE:3:CG1', 'A:ILE:3:CD1'})}, {frozenset({'A:GLN:4:N', 'A:GLN:4:CA'})}, {frozenset({'A:ILE:3:CB', 'A:ILE:3:CG2'})}, {frozenset({'A:ILE:3:CG1', 'A:ILE:3:CB'})}, {frozenset({'A:ILE:3:C', 'A:GLN:4:N'})}, {frozenset({'A:ILE:3:C', 'A:ILE:3:O'})}, {frozenset({'A:TYR:2:CZ', 'A:TYR:2:OH'})}, {frozenset({'A:TYR:2:CZ', 'A:TYR:2:CE2'})}, {frozenset({'A:TYR:2:CZ', 'A:TYR:2:CE1'})}, {frozenset({'A:TYR:2:CE2', 'A:TYR:2:CD2'})}, {frozenset({'A:TYR:2:CE1', 'A:TYR:2:CD1'})}, {frozenset({'A:ILE:3:CA', 'A:ILE:3:CB'})}, {frozenset({'A:ILE:3:C', 'A:ILE:3:CA'})}, {frozenset({'A:TYR:2:CG', 'A:TYR:2:CD2'})}, {frozenset({'A:TYR:2:CD1', 'A:TYR:2:CE2'}), frozenset({'A:TYR:2:CZ', 'A:TYR:2:CD1'}), frozenset({'A:TYR:2:CZ', 'A:TYR:2:CG'}), frozenset({'A:TYR:2:CD1', 'A:TYR:2:CD2'}), frozenset({'A:TYR:2:CZ', 'A:TYR:2:CE1'}), frozenset({'A:TYR:2:CG', 'A:TYR:2:CE2'}), frozenset({'A:TYR:2:CE1', 'A:TYR:2:CD1'}), frozenset({'A:TYR:2:CE1', 'A:TYR:2:CD2'}), frozenset({'A:TYR:2:CZ', 'A:TYR:2:CD2'}), frozenset({'A:TYR:2:CZ', 'A:TYR:2:CE2'}), frozenset({'A:TYR:2:CD1', 'A:TYR:2:CG'}), frozenset({'A:TYR:2:CE1', 'A:TYR:2:CE2'}), frozenset({'A:TYR:2:CE2', 'A:TYR:2:CD2'}), frozenset({'A:TYR:2:CG', 'A:TYR:2:CD2'}), frozenset({'A:TYR:2:CE1', 'A:TYR:2:CG'})}, {frozenset({'A:ILE:3:CA', 'A:ILE:3:N'})}, {frozenset({'A:TYR:2:CG', 'A:TYR:2:CB'})}, {frozenset({'A:ILE:3:N', 'A:TYR:2:C'})}, {frozenset({'A:TYR:2:O', 'A:TYR:2:C'})}, {frozenset({'A:CYS:6:CB', 'A:CYS:6:CA'})}, {frozenset({'A:CYS:6:CB', 'A:CYS:6:SG'})}, {frozenset({'A:TYR:2:CA', 'A:TYR:2:CB'})}, {frozenset({'A:TYR:2:CA', 'A:TYR:2:C'})}, {frozenset({'A:CYS:1:SG', 'A:CYS:6:SG'})}, {frozenset({'A:TYR:2:CA', 'A:TYR:2:N'})}, {frozenset({'A:CYS:1:SG', 'A:CYS:1:CB'})}, {frozenset({'A:CYS:1:C', 'A:TYR:2:N'})}, {frozenset({'A:CYS:1:O', 'A:CYS:1:C'})}, {frozenset({'A:CYS:1:CA', 'A:CYS:1:CB'})}, {frozenset({'A:CYS:1:CA', 'A:CYS:1:C'})}, {frozenset({'A:CYS:1:N', 'A:CYS:1:CA'})}]\n",
      "Component-Matrix:\n",
      " [{frozenset({'A:GLY:9:OXT', 'A:GLY:9:C'})}, {frozenset({'A:GLY:9:O', 'A:GLY:9:C'})}, {frozenset({'A:GLY:9:CA', 'A:GLY:9:C'})}, {frozenset({'A:LEU:8:CD2', 'A:LEU:8:CG'})}, {frozenset({'A:LEU:8:CD1', 'A:LEU:8:CG'})}, {frozenset({'A:GLY:9:CA', 'A:GLY:9:N'})}, {frozenset({'A:LEU:8:CB', 'A:LEU:8:CG'})}, {frozenset({'A:LEU:8:C', 'A:GLY:9:N'})}, {frozenset({'A:LEU:8:O', 'A:LEU:8:C'})}, {frozenset({'A:LEU:8:CA', 'A:LEU:8:CB'})}, {frozenset({'A:LEU:8:CA', 'A:LEU:8:C'})}, {frozenset({'A:LEU:8:CA', 'A:LEU:8:N'})}, {frozenset({'A:PRO:7:CG', 'A:PRO:7:CB'})}, {frozenset({'A:LEU:8:N', 'A:PRO:7:C'})}, {frozenset({'A:PRO:7:O', 'A:PRO:7:C'})}, {frozenset({'A:PRO:7:CG', 'A:PRO:7:CD'})}, {frozenset({'A:PRO:7:CB', 'A:PRO:7:CA'})}, {frozenset({'A:PRO:7:CA', 'A:PRO:7:C'})}, {frozenset({'A:PRO:7:N', 'A:PRO:7:CD'})}, {frozenset({'A:PRO:7:N', 'A:PRO:7:CD'}), frozenset({'A:PRO:7:CG', 'A:PRO:7:CB'}), frozenset({'A:PRO:7:N', 'A:PRO:7:CA'}), frozenset({'A:PRO:7:CD', 'A:PRO:7:CB'}), frozenset({'A:PRO:7:CB', 'A:PRO:7:CA'}), frozenset({'A:PRO:7:CD', 'A:PRO:7:CA'}), frozenset({'A:PRO:7:CG', 'A:PRO:7:N'}), frozenset({'A:PRO:7:CG', 'A:PRO:7:CD'}), frozenset({'A:PRO:7:CG', 'A:PRO:7:CA'}), frozenset({'A:PRO:7:N', 'A:PRO:7:CB'})}, {frozenset({'A:CYS:6:C', 'A:PRO:7:N'})}, {frozenset({'A:CYS:6:C', 'A:CYS:6:O'})}, {frozenset({'A:CYS:6:C', 'A:CYS:6:CA'})}, {frozenset({'A:ASN:5:ND2', 'A:ASN:5:CG'})}, {frozenset({'A:ASN:5:OD1', 'A:ASN:5:CG'})}, {frozenset({'A:CYS:6:N', 'A:CYS:6:CA'})}, {frozenset({'A:ASN:5:CG', 'A:ASN:5:CB'})}, {frozenset({'A:ASN:5:C', 'A:CYS:6:N'})}, {frozenset({'A:ASN:5:C', 'A:ASN:5:O'})}, {frozenset({'A:GLN:4:NE2', 'A:GLN:4:CD'})}, {frozenset({'A:GLN:4:OE1', 'A:GLN:4:CD'})}, {frozenset({'A:ASN:5:CA', 'A:ASN:5:CB'})}, {frozenset({'A:ASN:5:C', 'A:ASN:5:CA'})}, {frozenset({'A:GLN:4:CG', 'A:GLN:4:CD'})}, {frozenset({'A:ASN:5:CA', 'A:ASN:5:N'})}, {frozenset({'A:GLN:4:CG', 'A:GLN:4:CB'})}, {frozenset({'A:ASN:5:N', 'A:GLN:4:C'})}, {frozenset({'A:GLN:4:O', 'A:GLN:4:C'})}, {frozenset({'A:GLN:4:CB', 'A:GLN:4:CA'})}, {frozenset({'A:GLN:4:CA', 'A:GLN:4:C'})}, {frozenset({'A:ILE:3:CG1', 'A:ILE:3:CD1'})}, {frozenset({'A:GLN:4:N', 'A:GLN:4:CA'})}, {frozenset({'A:ILE:3:CB', 'A:ILE:3:CG2'})}, {frozenset({'A:ILE:3:CG1', 'A:ILE:3:CB'})}, {frozenset({'A:ILE:3:C', 'A:GLN:4:N'})}, {frozenset({'A:ILE:3:C', 'A:ILE:3:O'})}, {frozenset({'A:TYR:2:CZ', 'A:TYR:2:OH'})}, {frozenset({'A:TYR:2:CZ', 'A:TYR:2:CE2'})}, {frozenset({'A:TYR:2:CZ', 'A:TYR:2:CE1'})}, {frozenset({'A:TYR:2:CE2', 'A:TYR:2:CD2'})}, {frozenset({'A:TYR:2:CE1', 'A:TYR:2:CD1'})}, {frozenset({'A:ILE:3:CA', 'A:ILE:3:CB'})}, {frozenset({'A:ILE:3:C', 'A:ILE:3:CA'})}, {frozenset({'A:TYR:2:CG', 'A:TYR:2:CD2'})}, {frozenset({'A:TYR:2:CD1', 'A:TYR:2:CE2'}), frozenset({'A:TYR:2:CZ', 'A:TYR:2:CD1'}), frozenset({'A:TYR:2:CZ', 'A:TYR:2:CG'}), frozenset({'A:TYR:2:CD1', 'A:TYR:2:CD2'}), frozenset({'A:TYR:2:CZ', 'A:TYR:2:CE1'}), frozenset({'A:TYR:2:CG', 'A:TYR:2:CE2'}), frozenset({'A:TYR:2:CE1', 'A:TYR:2:CD1'}), frozenset({'A:TYR:2:CE1', 'A:TYR:2:CD2'}), frozenset({'A:TYR:2:CZ', 'A:TYR:2:CD2'}), frozenset({'A:TYR:2:CZ', 'A:TYR:2:CE2'}), frozenset({'A:TYR:2:CD1', 'A:TYR:2:CG'}), frozenset({'A:TYR:2:CE1', 'A:TYR:2:CE2'}), frozenset({'A:TYR:2:CE2', 'A:TYR:2:CD2'}), frozenset({'A:TYR:2:CG', 'A:TYR:2:CD2'}), frozenset({'A:TYR:2:CE1', 'A:TYR:2:CG'})}, {frozenset({'A:ILE:3:CA', 'A:ILE:3:N'})}, {frozenset({'A:TYR:2:CG', 'A:TYR:2:CB'})}, {frozenset({'A:ILE:3:N', 'A:TYR:2:C'})}, {frozenset({'A:TYR:2:O', 'A:TYR:2:C'})}, {frozenset({'A:CYS:6:CB', 'A:CYS:6:CA'})}, {frozenset({'A:CYS:6:CB', 'A:CYS:6:SG'})}, {frozenset({'A:TYR:2:CA', 'A:TYR:2:CB'})}, {frozenset({'A:TYR:2:CA', 'A:TYR:2:C'})}, {frozenset({'A:CYS:1:SG', 'A:CYS:6:SG'})}, {frozenset({'A:TYR:2:CA', 'A:TYR:2:N'})}, {frozenset({'A:CYS:1:SG', 'A:CYS:1:CB'})}, {frozenset({'A:CYS:1:C', 'A:TYR:2:N'})}, {frozenset({'A:CYS:1:O', 'A:CYS:1:C'})}, {frozenset({'A:CYS:1:CA', 'A:CYS:1:CB'})}, {frozenset({'A:CYS:1:CA', 'A:CYS:1:C'})}, {frozenset({'A:CYS:1:N', 'A:CYS:1:CA'})}]\n",
      "other:  62 pebbles remain, 72 edges have been left out\n",
      "Matrix of rigid components: \n",
      "              A:CYS:1:N  A:CYS:1:CA  A:CYS:1:C  A:CYS:1:CB  A:CYS:1:O  \\\n",
      "A:CYS:1:N            0           1          0           0          0   \n",
      "A:CYS:1:CA           1           0          1           1          0   \n",
      "A:CYS:1:C            0           1          0           0          1   \n",
      "A:CYS:1:CB           0           1          0           0          0   \n",
      "A:CYS:1:O            0           0          1           0          0   \n",
      "...                ...         ...        ...         ...        ...   \n",
      "A:LEU:8:CD1          0           0          0           0          0   \n",
      "A:LEU:8:CD2          0           0          0           0          0   \n",
      "A:GLY:9:C            0           0          0           0          0   \n",
      "A:GLY:9:O            0           0          0           0          0   \n",
      "A:GLY:9:OXT          0           0          0           0          0   \n",
      "\n",
      "             A:TYR:2:N  A:CYS:1:SG  A:TYR:2:CA  A:CYS:6:SG  A:CYS:6:CB  ...  \\\n",
      "A:CYS:1:N            0           0           0           0           0  ...   \n",
      "A:CYS:1:CA           0           0           0           0           0  ...   \n",
      "A:CYS:1:C            1           0           0           0           0  ...   \n",
      "A:CYS:1:CB           0           1           0           0           0  ...   \n",
      "A:CYS:1:O            0           0           0           0           0  ...   \n",
      "...                ...         ...         ...         ...         ...  ...   \n",
      "A:LEU:8:CD1          0           0           0           0           0  ...   \n",
      "A:LEU:8:CD2          0           0           0           0           0  ...   \n",
      "A:GLY:9:C            0           0           0           0           0  ...   \n",
      "A:GLY:9:O            0           0           0           0           0  ...   \n",
      "A:GLY:9:OXT          0           0           0           0           0  ...   \n",
      "\n",
      "             A:LEU:8:CB  A:LEU:8:O  A:GLY:9:N  A:LEU:8:CG  A:GLY:9:CA  \\\n",
      "A:CYS:1:N             0          0          0           0           0   \n",
      "A:CYS:1:CA            0          0          0           0           0   \n",
      "A:CYS:1:C             0          0          0           0           0   \n",
      "A:CYS:1:CB            0          0          0           0           0   \n",
      "A:CYS:1:O             0          0          0           0           0   \n",
      "...                 ...        ...        ...         ...         ...   \n",
      "A:LEU:8:CD1           0          0          0           1           0   \n",
      "A:LEU:8:CD2           0          0          0           1           0   \n",
      "A:GLY:9:C             0          0          0           0           1   \n",
      "A:GLY:9:O             0          0          0           0           0   \n",
      "A:GLY:9:OXT           0          0          0           0           0   \n",
      "\n",
      "             A:LEU:8:CD1  A:LEU:8:CD2  A:GLY:9:C  A:GLY:9:O  A:GLY:9:OXT  \n",
      "A:CYS:1:N              0            0          0          0            0  \n",
      "A:CYS:1:CA             0            0          0          0            0  \n",
      "A:CYS:1:C              0            0          0          0            0  \n",
      "A:CYS:1:CB             0            0          0          0            0  \n",
      "A:CYS:1:O              0            0          0          0            0  \n",
      "...                  ...          ...        ...        ...          ...  \n",
      "A:LEU:8:CD1            0            0          0          0            0  \n",
      "A:LEU:8:CD2            0            0          0          0            0  \n",
      "A:GLY:9:C              0            0          0          1            1  \n",
      "A:GLY:9:O              0            0          1          0            0  \n",
      "A:GLY:9:OXT            0            0          1          0            0  \n",
      "\n",
      "[69 rows x 69 columns]\n"
     ]
    }
   ],
   "source": [
    "from graphein.protein.visualisation import plotly_protein_structure_graph\n",
    "import PDB_to_Graphein as pdg\n",
    "\n",
    "path = 'pdb_samples/2mgo.pdb'\n",
    "\n",
    "G = pdg.pdb_to_graph(path, only_covalent=False, gran=\"atom\")\n",
    "comp = pdg.find_components(G)\n",
    "G = pdg.assign_components(G, comp)\n",
    "attr_df = pdg.print_attributes(G)\n",
    "comp_df = pdg.print_component_dataframe(comp)\n",
    "\n"
   ]
  },
  {
   "cell_type": "code",
   "execution_count": 5,
   "id": "29437ef5",
   "metadata": {},
   "outputs": [
    {
     "data": {
      "application/vnd.plotly.v1+json": {
       "config": {
        "plotlyServerURL": "https://plot.ly"
       },
       "data": [
        {
         "hoverinfo": "text+x+y+z",
         "marker": {
          "color": [
           [
            0.050383,
            0.029803,
            0.527975,
            1
           ],
           [
            0.050383,
            0.029803,
            0.527975,
            1
           ],
           [
            0.050383,
            0.029803,
            0.527975,
            1
           ],
           [
            0.050383,
            0.029803,
            0.527975,
            1
           ],
           [
            0.050383,
            0.029803,
            0.527975,
            1
           ],
           [
            0.050383,
            0.029803,
            0.527975,
            1
           ],
           [
            0.050383,
            0.029803,
            0.527975,
            1
           ],
           [
            0.050383,
            0.029803,
            0.527975,
            1
           ],
           [
            0.050383,
            0.029803,
            0.527975,
            1
           ],
           [
            0.050383,
            0.029803,
            0.527975,
            1
           ],
           [
            0.050383,
            0.029803,
            0.527975,
            1
           ],
           [
            0.928329,
            0.472975,
            0.326067,
            1
           ],
           [
            0.928329,
            0.472975,
            0.326067,
            1
           ],
           [
            0.928329,
            0.472975,
            0.326067,
            1
           ],
           [
            0.928329,
            0.472975,
            0.326067,
            1
           ],
           [
            0.928329,
            0.472975,
            0.326067,
            1
           ],
           [
            0.928329,
            0.472975,
            0.326067,
            1
           ],
           [
            0.050383,
            0.029803,
            0.527975,
            1
           ],
           [
            0.050383,
            0.029803,
            0.527975,
            1
           ],
           [
            0.050383,
            0.029803,
            0.527975,
            1
           ],
           [
            0.050383,
            0.029803,
            0.527975,
            1
           ],
           [
            0.050383,
            0.029803,
            0.527975,
            1
           ],
           [
            0.050383,
            0.029803,
            0.527975,
            1
           ],
           [
            0.050383,
            0.029803,
            0.527975,
            1
           ],
           [
            0.050383,
            0.029803,
            0.527975,
            1
           ],
           [
            0.050383,
            0.029803,
            0.527975,
            1
           ],
           [
            0.050383,
            0.029803,
            0.527975,
            1
           ],
           [
            0.050383,
            0.029803,
            0.527975,
            1
           ],
           [
            0.050383,
            0.029803,
            0.527975,
            1
           ],
           [
            0.050383,
            0.029803,
            0.527975,
            1
           ],
           [
            0.050383,
            0.029803,
            0.527975,
            1
           ],
           [
            0.050383,
            0.029803,
            0.527975,
            1
           ],
           [
            0.050383,
            0.029803,
            0.527975,
            1
           ],
           [
            0.050383,
            0.029803,
            0.527975,
            1
           ],
           [
            0.050383,
            0.029803,
            0.527975,
            1
           ],
           [
            0.050383,
            0.029803,
            0.527975,
            1
           ],
           [
            0.050383,
            0.029803,
            0.527975,
            1
           ],
           [
            0.050383,
            0.029803,
            0.527975,
            1
           ],
           [
            0.050383,
            0.029803,
            0.527975,
            1
           ],
           [
            0.050383,
            0.029803,
            0.527975,
            1
           ],
           [
            0.050383,
            0.029803,
            0.527975,
            1
           ],
           [
            0.050383,
            0.029803,
            0.527975,
            1
           ],
           [
            0.050383,
            0.029803,
            0.527975,
            1
           ],
           [
            0.050383,
            0.029803,
            0.527975,
            1
           ],
           [
            0.050383,
            0.029803,
            0.527975,
            1
           ],
           [
            0.050383,
            0.029803,
            0.527975,
            1
           ],
           [
            0.050383,
            0.029803,
            0.527975,
            1
           ],
           [
            0.050383,
            0.029803,
            0.527975,
            1
           ],
           [
            0.050383,
            0.029803,
            0.527975,
            1
           ],
           [
            0.610667,
            0.090204,
            0.619951,
            1
           ],
           [
            0.610667,
            0.090204,
            0.619951,
            1
           ],
           [
            0.050383,
            0.029803,
            0.527975,
            1
           ],
           [
            0.050383,
            0.029803,
            0.527975,
            1
           ],
           [
            0.610667,
            0.090204,
            0.619951,
            1
           ],
           [
            0.610667,
            0.090204,
            0.619951,
            1
           ],
           [
            0.610667,
            0.090204,
            0.619951,
            1
           ],
           [
            0.050383,
            0.029803,
            0.527975,
            1
           ],
           [
            0.050383,
            0.029803,
            0.527975,
            1
           ],
           [
            0.050383,
            0.029803,
            0.527975,
            1
           ],
           [
            0.050383,
            0.029803,
            0.527975,
            1
           ],
           [
            0.050383,
            0.029803,
            0.527975,
            1
           ],
           [
            0.050383,
            0.029803,
            0.527975,
            1
           ],
           [
            0.050383,
            0.029803,
            0.527975,
            1
           ],
           [
            0.050383,
            0.029803,
            0.527975,
            1
           ],
           [
            0.050383,
            0.029803,
            0.527975,
            1
           ],
           [
            0.050383,
            0.029803,
            0.527975,
            1
           ],
           [
            0.050383,
            0.029803,
            0.527975,
            1
           ],
           [
            0.050383,
            0.029803,
            0.527975,
            1
           ],
           [
            0.050383,
            0.029803,
            0.527975,
            1
           ]
          ],
          "opacity": 0.7,
          "size": [
           21,
           23,
           23,
           21,
           22,
           22,
           22,
           23,
           23,
           21,
           22,
           23,
           22,
           22,
           22,
           22,
           23,
           21,
           22,
           23,
           23,
           21,
           23,
           22,
           21,
           21,
           22,
           23,
           23,
           21,
           22,
           22,
           23,
           21,
           21,
           22,
           23,
           23,
           21,
           22,
           23,
           21,
           21,
           22,
           23,
           23,
           21,
           22,
           22,
           23,
           23,
           23,
           21,
           22,
           22,
           22,
           22,
           23,
           23,
           21,
           22,
           23,
           21,
           21,
           22,
           22,
           23,
           21,
           21
          ],
          "symbol": "circle"
         },
         "mode": "markers",
         "text": [
          "A:CYS:1:N",
          "A:CYS:1:CA",
          "A:CYS:1:C",
          "A:CYS:1:O",
          "A:CYS:1:CB",
          "A:CYS:1:SG",
          "A:TYR:2:N",
          "A:TYR:2:CA",
          "A:TYR:2:C",
          "A:TYR:2:O",
          "A:TYR:2:CB",
          "A:TYR:2:CG",
          "A:TYR:2:CD1",
          "A:TYR:2:CD2",
          "A:TYR:2:CE1",
          "A:TYR:2:CE2",
          "A:TYR:2:CZ",
          "A:TYR:2:OH",
          "A:ILE:3:N",
          "A:ILE:3:CA",
          "A:ILE:3:C",
          "A:ILE:3:O",
          "A:ILE:3:CB",
          "A:ILE:3:CG1",
          "A:ILE:3:CG2",
          "A:ILE:3:CD1",
          "A:GLN:4:N",
          "A:GLN:4:CA",
          "A:GLN:4:C",
          "A:GLN:4:O",
          "A:GLN:4:CB",
          "A:GLN:4:CG",
          "A:GLN:4:CD",
          "A:GLN:4:OE1",
          "A:GLN:4:NE2",
          "A:ASN:5:N",
          "A:ASN:5:CA",
          "A:ASN:5:C",
          "A:ASN:5:O",
          "A:ASN:5:CB",
          "A:ASN:5:CG",
          "A:ASN:5:OD1",
          "A:ASN:5:ND2",
          "A:CYS:6:N",
          "A:CYS:6:CA",
          "A:CYS:6:C",
          "A:CYS:6:O",
          "A:CYS:6:CB",
          "A:CYS:6:SG",
          "A:PRO:7:N",
          "A:PRO:7:CA",
          "A:PRO:7:C",
          "A:PRO:7:O",
          "A:PRO:7:CB",
          "A:PRO:7:CG",
          "A:PRO:7:CD",
          "A:LEU:8:N",
          "A:LEU:8:CA",
          "A:LEU:8:C",
          "A:LEU:8:O",
          "A:LEU:8:CB",
          "A:LEU:8:CG",
          "A:LEU:8:CD1",
          "A:LEU:8:CD2",
          "A:GLY:9:N",
          "A:GLY:9:CA",
          "A:GLY:9:C",
          "A:GLY:9:O",
          "A:GLY:9:OXT"
         ],
         "type": "scatter3d",
         "x": [
          4.874,
          3.791,
          4.157,
          5.232,
          3.435,
          2.665,
          3.252,
          3.387,
          2.361,
          1.436,
          3.1,
          3.274,
          4.53,
          2.185,
          4.697,
          2.348,
          3.607,
          3.773,
          2.531,
          1.677,
          0.199,
          -0.519,
          1.928,
          3.427,
          1.161,
          3.786,
          -0.204,
          -1.601,
          -1.79,
          -2.726,
          -2.146,
          -1.441,
          -2.01,
          -2.494,
          -1.983,
          -0.942,
          -1.01,
          -0.214,
          0.937,
          -0.572,
          -0.616,
          0.387,
          -1.765,
          -0.764,
          -0.14,
          -1.051,
          -2.141,
          0.193,
          1.185,
          -0.66,
          -1.424,
          -1.574,
          -0.59,
          -0.555,
          0.282,
          0.537,
          -2.786,
          -3.044,
          -3.389,
          -3.608,
          -4.136,
          -3.848,
          -5.036,
          -2.59,
          -3.406,
          -3.689,
          -3.647,
          -3.337,
          -3.916
         ],
         "y": [
          2.855,
          1.923,
          0.518,
          0.286,
          1.946,
          3.502,
          -0.399,
          -1.76,
          -2.413,
          -1.723,
          -2.041,
          -3.486,
          -4.073,
          -4.258,
          -5.383,
          -5.571,
          -6.128,
          -7.431,
          -3.68,
          -4.511,
          -4.221,
          -3.905,
          -6.029,
          -6.341,
          -6.856,
          -7.783,
          -4.279,
          -4.078,
          -2.792,
          -2.685,
          -5.314,
          -5.647,
          -6.885,
          -7.82,
          -6.89,
          -1.802,
          -0.533,
          0.526,
          0.794,
          -0.65,
          0.69,
          1.404,
          1.049,
          1.026,
          2.101,
          3.316,
          3.274,
          1.681,
          2.902,
          4.386,
          5.635,
          6.192,
          6.58,
          6.569,
          5.665,
          4.459,
          6.199,
          6.624,
          8.088,
          8.661,
          5.783,
          4.28,
          3.567,
          4.042,
          8.654,
          10.034,
          10.353,
          11.487,
          9.443
         ],
         "z": [
          0.366,
          0.075,
          0.5,
          1.045,
          -1.418,
          -1.99,
          0.268,
          0.55,
          -0.333,
          -0.788,
          2.041,
          2.457,
          2.473,
          2.838,
          2.85,
          3.218,
          3.221,
          3.601,
          -0.581,
          -1.466,
          -1.291,
          -2.24,
          -1.237,
          -1.317,
          -2.271,
          -1.018,
          -0.093,
          0.283,
          1.112,
          1.911,
          1.032,
          2.338,
          3.023,
          2.381,
          4.32,
          0.876,
          1.594,
          0.877,
          1.192,
          3.081,
          3.831,
          3.922,
          4.341,
          -0.158,
          -0.873,
          -0.861,
          -1.434,
          -2.308,
          -3.264,
          -0.143,
          -0.117,
          -1.529,
          -2.165,
          0.729,
          1.553,
          0.71,
          -2.024,
          -3.392,
          -3.457,
          -4.523,
          -4.023,
          -4.173,
          -4.795,
          -5,
          -2.333,
          -2.161,
          -0.712,
          -0.337,
          0.096
         ]
        },
        {
         "hoverinfo": "text",
         "line": {
          "color": [
           [
            0.050383,
            0.029803,
            0.527975,
            1
           ],
           [
            0.050383,
            0.029803,
            0.527975,
            1
           ],
           [
            0.050383,
            0.029803,
            0.527975,
            1
           ],
           [
            0.050383,
            0.029803,
            0.527975,
            1
           ],
           [
            0.050383,
            0.029803,
            0.527975,
            1
           ],
           [
            0.050383,
            0.029803,
            0.527975,
            1
           ],
           [
            0.050383,
            0.029803,
            0.527975,
            1
           ],
           [
            0.050383,
            0.029803,
            0.527975,
            1
           ],
           [
            0.050383,
            0.029803,
            0.527975,
            1
           ],
           [
            0.050383,
            0.029803,
            0.527975,
            1
           ],
           [
            0.050383,
            0.029803,
            0.527975,
            1
           ],
           [
            0.050383,
            0.029803,
            0.527975,
            1
           ],
           [
            0.050383,
            0.029803,
            0.527975,
            1
           ],
           [
            0.050383,
            0.029803,
            0.527975,
            1
           ],
           [
            0.050383,
            0.029803,
            0.527975,
            1
           ],
           [
            0.050383,
            0.029803,
            0.527975,
            1
           ],
           [
            0.050383,
            0.029803,
            0.527975,
            1
           ],
           [
            0.050383,
            0.029803,
            0.527975,
            1
           ],
           [
            0.050383,
            0.029803,
            0.527975,
            1
           ],
           [
            0.050383,
            0.029803,
            0.527975,
            1
           ],
           [
            0.050383,
            0.029803,
            0.527975,
            1
           ],
           [
            0.050383,
            0.029803,
            0.527975,
            1
           ],
           [
            0.050383,
            0.029803,
            0.527975,
            1
           ],
           [
            0.050383,
            0.029803,
            0.527975,
            1
           ],
           [
            0.050383,
            0.029803,
            0.527975,
            1
           ],
           [
            0.050383,
            0.029803,
            0.527975,
            1
           ],
           [
            0.050383,
            0.029803,
            0.527975,
            1
           ],
           [
            0.050383,
            0.029803,
            0.527975,
            1
           ],
           [
            0.050383,
            0.029803,
            0.527975,
            1
           ],
           [
            0.050383,
            0.029803,
            0.527975,
            1
           ],
           [
            0.050383,
            0.029803,
            0.527975,
            1
           ],
           [
            0.050383,
            0.029803,
            0.527975,
            1
           ],
           [
            0.050383,
            0.029803,
            0.527975,
            1
           ],
           [
            0.050383,
            0.029803,
            0.527975,
            1
           ],
           [
            0.050383,
            0.029803,
            0.527975,
            1
           ],
           [
            0.050383,
            0.029803,
            0.527975,
            1
           ],
           [
            0.050383,
            0.029803,
            0.527975,
            1
           ],
           [
            0.050383,
            0.029803,
            0.527975,
            1
           ],
           [
            0.050383,
            0.029803,
            0.527975,
            1
           ],
           [
            0.610667,
            0.090204,
            0.619951,
            1
           ],
           [
            0.610667,
            0.090204,
            0.619951,
            1
           ],
           [
            0.610667,
            0.090204,
            0.619951,
            1
           ],
           [
            0.610667,
            0.090204,
            0.619951,
            1
           ],
           [
            0.610667,
            0.090204,
            0.619951,
            1
           ],
           [
            0.610667,
            0.090204,
            0.619951,
            1
           ],
           [
            0.610667,
            0.090204,
            0.619951,
            1
           ],
           [
            0.610667,
            0.090204,
            0.619951,
            1
           ],
           [
            0.610667,
            0.090204,
            0.619951,
            1
           ],
           [
            0.610667,
            0.090204,
            0.619951,
            1
           ],
           [
            0.610667,
            0.090204,
            0.619951,
            1
           ],
           [
            0.610667,
            0.090204,
            0.619951,
            1
           ],
           [
            0.610667,
            0.090204,
            0.619951,
            1
           ],
           [
            0.610667,
            0.090204,
            0.619951,
            1
           ],
           [
            0.610667,
            0.090204,
            0.619951,
            1
           ],
           [
            0.610667,
            0.090204,
            0.619951,
            1
           ],
           [
            0.610667,
            0.090204,
            0.619951,
            1
           ],
           [
            0.610667,
            0.090204,
            0.619951,
            1
           ],
           [
            0.050383,
            0.029803,
            0.527975,
            1
           ],
           [
            0.050383,
            0.029803,
            0.527975,
            1
           ],
           [
            0.050383,
            0.029803,
            0.527975,
            1
           ],
           [
            0.050383,
            0.029803,
            0.527975,
            1
           ],
           [
            0.050383,
            0.029803,
            0.527975,
            1
           ],
           [
            0.050383,
            0.029803,
            0.527975,
            1
           ],
           [
            0.050383,
            0.029803,
            0.527975,
            1
           ],
           [
            0.050383,
            0.029803,
            0.527975,
            1
           ],
           [
            0.050383,
            0.029803,
            0.527975,
            1
           ],
           [
            0.050383,
            0.029803,
            0.527975,
            1
           ],
           [
            0.050383,
            0.029803,
            0.527975,
            1
           ],
           [
            0.050383,
            0.029803,
            0.527975,
            1
           ],
           [
            0.050383,
            0.029803,
            0.527975,
            1
           ],
           [
            0.050383,
            0.029803,
            0.527975,
            1
           ],
           [
            0.050383,
            0.029803,
            0.527975,
            1
           ],
           [
            0.050383,
            0.029803,
            0.527975,
            1
           ],
           [
            0.050383,
            0.029803,
            0.527975,
            1
           ],
           [
            0.050383,
            0.029803,
            0.527975,
            1
           ],
           [
            0.050383,
            0.029803,
            0.527975,
            1
           ],
           [
            0.050383,
            0.029803,
            0.527975,
            1
           ],
           [
            0.050383,
            0.029803,
            0.527975,
            1
           ],
           [
            0.050383,
            0.029803,
            0.527975,
            1
           ],
           [
            0.050383,
            0.029803,
            0.527975,
            1
           ],
           [
            0.050383,
            0.029803,
            0.527975,
            1
           ],
           [
            0.050383,
            0.029803,
            0.527975,
            1
           ],
           [
            0.050383,
            0.029803,
            0.527975,
            1
           ],
           [
            0.050383,
            0.029803,
            0.527975,
            1
           ],
           [
            0.050383,
            0.029803,
            0.527975,
            1
           ],
           [
            0.050383,
            0.029803,
            0.527975,
            1
           ],
           [
            0.050383,
            0.029803,
            0.527975,
            1
           ],
           [
            0.050383,
            0.029803,
            0.527975,
            1
           ],
           [
            0.050383,
            0.029803,
            0.527975,
            1
           ],
           [
            0.050383,
            0.029803,
            0.527975,
            1
           ],
           [
            0.050383,
            0.029803,
            0.527975,
            1
           ],
           [
            0.050383,
            0.029803,
            0.527975,
            1
           ],
           [
            0.050383,
            0.029803,
            0.527975,
            1
           ],
           [
            0.050383,
            0.029803,
            0.527975,
            1
           ],
           [
            0.050383,
            0.029803,
            0.527975,
            1
           ],
           [
            0.050383,
            0.029803,
            0.527975,
            1
           ],
           [
            0.050383,
            0.029803,
            0.527975,
            1
           ],
           [
            0.050383,
            0.029803,
            0.527975,
            1
           ],
           [
            0.050383,
            0.029803,
            0.527975,
            1
           ],
           [
            0.050383,
            0.029803,
            0.527975,
            1
           ],
           [
            0.050383,
            0.029803,
            0.527975,
            1
           ],
           [
            0.050383,
            0.029803,
            0.527975,
            1
           ],
           [
            0.050383,
            0.029803,
            0.527975,
            1
           ],
           [
            0.050383,
            0.029803,
            0.527975,
            1
           ],
           [
            0.050383,
            0.029803,
            0.527975,
            1
           ],
           [
            0.050383,
            0.029803,
            0.527975,
            1
           ],
           [
            0.050383,
            0.029803,
            0.527975,
            1
           ],
           [
            0.050383,
            0.029803,
            0.527975,
            1
           ],
           [
            0.050383,
            0.029803,
            0.527975,
            1
           ],
           [
            0.050383,
            0.029803,
            0.527975,
            1
           ],
           [
            0.050383,
            0.029803,
            0.527975,
            1
           ],
           [
            0.050383,
            0.029803,
            0.527975,
            1
           ],
           [
            0.050383,
            0.029803,
            0.527975,
            1
           ],
           [
            0.050383,
            0.029803,
            0.527975,
            1
           ],
           [
            0.050383,
            0.029803,
            0.527975,
            1
           ],
           [
            0.050383,
            0.029803,
            0.527975,
            1
           ],
           [
            0.050383,
            0.029803,
            0.527975,
            1
           ],
           [
            0.050383,
            0.029803,
            0.527975,
            1
           ],
           [
            0.050383,
            0.029803,
            0.527975,
            1
           ],
           [
            0.050383,
            0.029803,
            0.527975,
            1
           ],
           [
            0.050383,
            0.029803,
            0.527975,
            1
           ],
           [
            0.050383,
            0.029803,
            0.527975,
            1
           ],
           [
            0.050383,
            0.029803,
            0.527975,
            1
           ],
           [
            0.050383,
            0.029803,
            0.527975,
            1
           ],
           [
            0.050383,
            0.029803,
            0.527975,
            1
           ],
           [
            0.050383,
            0.029803,
            0.527975,
            1
           ],
           [
            0.050383,
            0.029803,
            0.527975,
            1
           ],
           [
            0.050383,
            0.029803,
            0.527975,
            1
           ],
           [
            0.050383,
            0.029803,
            0.527975,
            1
           ],
           [
            0.050383,
            0.029803,
            0.527975,
            1
           ],
           [
            0.050383,
            0.029803,
            0.527975,
            1
           ],
           [
            0.050383,
            0.029803,
            0.527975,
            1
           ],
           [
            0.050383,
            0.029803,
            0.527975,
            1
           ],
           [
            0.050383,
            0.029803,
            0.527975,
            1
           ],
           [
            0.050383,
            0.029803,
            0.527975,
            1
           ],
           [
            0.050383,
            0.029803,
            0.527975,
            1
           ],
           [
            0.050383,
            0.029803,
            0.527975,
            1
           ],
           [
            0.050383,
            0.029803,
            0.527975,
            1
           ],
           [
            0.050383,
            0.029803,
            0.527975,
            1
           ],
           [
            0.050383,
            0.029803,
            0.527975,
            1
           ],
           [
            0.050383,
            0.029803,
            0.527975,
            1
           ],
           [
            0.050383,
            0.029803,
            0.527975,
            1
           ],
           [
            0.050383,
            0.029803,
            0.527975,
            1
           ],
           [
            0.050383,
            0.029803,
            0.527975,
            1
           ],
           [
            0.050383,
            0.029803,
            0.527975,
            1
           ],
           [
            0.050383,
            0.029803,
            0.527975,
            1
           ],
           [
            0.050383,
            0.029803,
            0.527975,
            1
           ],
           [
            0.050383,
            0.029803,
            0.527975,
            1
           ],
           [
            0.050383,
            0.029803,
            0.527975,
            1
           ],
           [
            0.050383,
            0.029803,
            0.527975,
            1
           ],
           [
            0.050383,
            0.029803,
            0.527975,
            1
           ],
           [
            0.050383,
            0.029803,
            0.527975,
            1
           ],
           [
            0.050383,
            0.029803,
            0.527975,
            1
           ],
           [
            0.050383,
            0.029803,
            0.527975,
            1
           ],
           [
            0.050383,
            0.029803,
            0.527975,
            1
           ],
           [
            0.050383,
            0.029803,
            0.527975,
            1
           ],
           [
            0.050383,
            0.029803,
            0.527975,
            1
           ],
           [
            0.050383,
            0.029803,
            0.527975,
            1
           ],
           [
            0.050383,
            0.029803,
            0.527975,
            1
           ],
           [
            0.050383,
            0.029803,
            0.527975,
            1
           ],
           [
            0.050383,
            0.029803,
            0.527975,
            1
           ],
           [
            0.050383,
            0.029803,
            0.527975,
            1
           ],
           [
            0.050383,
            0.029803,
            0.527975,
            1
           ],
           [
            0.050383,
            0.029803,
            0.527975,
            1
           ],
           [
            0.050383,
            0.029803,
            0.527975,
            1
           ],
           [
            0.050383,
            0.029803,
            0.527975,
            1
           ],
           [
            0.050383,
            0.029803,
            0.527975,
            1
           ],
           [
            0.050383,
            0.029803,
            0.527975,
            1
           ],
           [
            0.050383,
            0.029803,
            0.527975,
            1
           ],
           [
            0.050383,
            0.029803,
            0.527975,
            1
           ],
           [
            0.050383,
            0.029803,
            0.527975,
            1
           ],
           [
            0.050383,
            0.029803,
            0.527975,
            1
           ],
           [
            0.050383,
            0.029803,
            0.527975,
            1
           ],
           [
            0.050383,
            0.029803,
            0.527975,
            1
           ],
           [
            0.050383,
            0.029803,
            0.527975,
            1
           ],
           [
            0.050383,
            0.029803,
            0.527975,
            1
           ],
           [
            0.050383,
            0.029803,
            0.527975,
            1
           ],
           [
            0.050383,
            0.029803,
            0.527975,
            1
           ],
           [
            0.050383,
            0.029803,
            0.527975,
            1
           ],
           [
            0.050383,
            0.029803,
            0.527975,
            1
           ],
           [
            0.050383,
            0.029803,
            0.527975,
            1
           ],
           [
            0.050383,
            0.029803,
            0.527975,
            1
           ],
           [
            0.050383,
            0.029803,
            0.527975,
            1
           ],
           [
            0.050383,
            0.029803,
            0.527975,
            1
           ],
           [
            0.050383,
            0.029803,
            0.527975,
            1
           ],
           [
            0.050383,
            0.029803,
            0.527975,
            1
           ],
           [
            0.050383,
            0.029803,
            0.527975,
            1
           ],
           [
            0.050383,
            0.029803,
            0.527975,
            1
           ],
           [
            0.050383,
            0.029803,
            0.527975,
            1
           ],
           [
            0.050383,
            0.029803,
            0.527975,
            1
           ],
           [
            0.050383,
            0.029803,
            0.527975,
            1
           ],
           [
            0.050383,
            0.029803,
            0.527975,
            1
           ],
           [
            0.050383,
            0.029803,
            0.527975,
            1
           ],
           [
            0.050383,
            0.029803,
            0.527975,
            1
           ],
           [
            0.050383,
            0.029803,
            0.527975,
            1
           ],
           [
            0.050383,
            0.029803,
            0.527975,
            1
           ],
           [
            0.050383,
            0.029803,
            0.527975,
            1
           ],
           [
            0.050383,
            0.029803,
            0.527975,
            1
           ],
           [
            0.050383,
            0.029803,
            0.527975,
            1
           ],
           [
            0.050383,
            0.029803,
            0.527975,
            1
           ],
           [
            0.050383,
            0.029803,
            0.527975,
            1
           ],
           [
            0.050383,
            0.029803,
            0.527975,
            1
           ],
           [
            0.050383,
            0.029803,
            0.527975,
            1
           ],
           [
            0.050383,
            0.029803,
            0.527975,
            1
           ],
           [
            0.050383,
            0.029803,
            0.527975,
            1
           ],
           [
            0.050383,
            0.029803,
            0.527975,
            1
           ],
           [
            0.050383,
            0.029803,
            0.527975,
            1
           ],
           [
            0.050383,
            0.029803,
            0.527975,
            1
           ],
           [
            0.050383,
            0.029803,
            0.527975,
            1
           ],
           [
            0.050383,
            0.029803,
            0.527975,
            1
           ],
           [
            0.050383,
            0.029803,
            0.527975,
            1
           ],
           [
            0.050383,
            0.029803,
            0.527975,
            1
           ],
           [
            0.050383,
            0.029803,
            0.527975,
            1
           ]
          ],
          "width": 10
         },
         "mode": "lines",
         "text": [
          "covalent",
          "covalent",
          "covalent",
          "covalent",
          "covalent",
          "covalent",
          "covalent",
          "covalent",
          "covalent",
          "covalent",
          "covalent",
          "covalent",
          "covalent",
          "covalent",
          "covalent",
          "covalent",
          "covalent",
          "covalent",
          "hbond / disulfide / covalent",
          "hbond / disulfide / covalent",
          "hbond / disulfide / covalent",
          "covalent",
          "covalent",
          "covalent",
          "covalent",
          "covalent",
          "covalent",
          "covalent",
          "covalent",
          "covalent",
          "covalent",
          "covalent",
          "covalent",
          "covalent",
          "covalent",
          "covalent",
          "covalent",
          "covalent",
          "covalent",
          "covalent",
          "covalent",
          "covalent",
          "covalent",
          "covalent",
          "covalent",
          "covalent",
          "covalent",
          "covalent",
          "covalent",
          "covalent",
          "covalent",
          "covalent",
          "covalent",
          "covalent",
          "covalent",
          "covalent",
          "covalent",
          "covalent",
          "covalent",
          "covalent",
          "covalent",
          "covalent",
          "covalent",
          "covalent",
          "covalent",
          "covalent",
          "covalent",
          "covalent",
          "covalent",
          "covalent",
          "covalent",
          "covalent",
          "covalent",
          "covalent",
          "covalent",
          "covalent",
          "covalent",
          "covalent",
          "covalent",
          "covalent",
          "covalent",
          "covalent",
          "covalent",
          "covalent",
          "covalent",
          "covalent",
          "covalent",
          "covalent",
          "covalent",
          "covalent",
          "covalent",
          "covalent",
          "covalent",
          "covalent",
          "covalent",
          "covalent",
          "covalent",
          "covalent",
          "covalent",
          "covalent",
          "covalent",
          "covalent",
          "covalent",
          "covalent",
          "covalent",
          "covalent",
          "covalent",
          "covalent",
          "covalent",
          "covalent",
          "covalent",
          "covalent",
          "covalent",
          "covalent",
          "covalent",
          "covalent",
          "covalent",
          "covalent",
          "covalent",
          "covalent",
          "covalent",
          "covalent",
          "covalent",
          "covalent",
          "covalent",
          "covalent",
          "covalent",
          "covalent",
          "covalent",
          "covalent",
          "covalent",
          "covalent",
          "covalent",
          "covalent",
          "covalent",
          "covalent",
          "covalent",
          "covalent",
          "covalent",
          "covalent",
          "covalent",
          "covalent",
          "covalent",
          "covalent",
          "covalent",
          "covalent",
          "covalent",
          "covalent",
          "covalent",
          "covalent",
          "covalent",
          "covalent",
          "covalent",
          "covalent",
          "covalent",
          "covalent",
          "covalent",
          "covalent",
          "covalent",
          "covalent",
          "covalent",
          "covalent",
          "covalent",
          "covalent",
          "covalent",
          "covalent",
          "covalent",
          "covalent",
          "covalent",
          "covalent",
          "covalent",
          "covalent",
          "covalent",
          "covalent",
          "covalent",
          "covalent",
          "covalent",
          "covalent",
          "covalent",
          "covalent",
          "covalent",
          "covalent",
          "covalent",
          "covalent",
          "covalent",
          "covalent",
          "covalent",
          "covalent",
          "covalent",
          "covalent",
          "covalent",
          "covalent",
          "covalent",
          "covalent",
          "covalent",
          "covalent",
          "covalent",
          "covalent",
          "covalent",
          "covalent",
          "covalent",
          "covalent",
          "covalent",
          "covalent",
          "covalent",
          "covalent",
          "covalent",
          "covalent",
          "covalent",
          "covalent",
          "covalent",
          "covalent",
          "covalent"
         ],
         "type": "scatter3d",
         "x": [
          4.874,
          3.791,
          null,
          3.791,
          4.157,
          null,
          3.791,
          3.435,
          null,
          4.157,
          5.232,
          null,
          4.157,
          3.252,
          null,
          3.435,
          2.665,
          null,
          2.665,
          1.185,
          null,
          3.252,
          3.387,
          null,
          3.387,
          2.361,
          null,
          3.387,
          3.1,
          null,
          2.361,
          1.436,
          null,
          2.361,
          2.531,
          null,
          3.1,
          3.274,
          null,
          3.274,
          4.53,
          null,
          3.274,
          2.185,
          null,
          4.53,
          4.697,
          null,
          2.185,
          2.348,
          null,
          4.697,
          3.607,
          null,
          2.348,
          3.607,
          null,
          3.607,
          3.773,
          null,
          2.531,
          1.677,
          null,
          1.677,
          0.199,
          null,
          1.677,
          1.928,
          null,
          0.199,
          -0.519,
          null,
          0.199,
          -0.204,
          null,
          1.928,
          3.427,
          null,
          1.928,
          1.161,
          null,
          3.427,
          3.786,
          null,
          -0.204,
          -1.601,
          null,
          -1.601,
          -1.79,
          null,
          -1.601,
          -2.146,
          null,
          -1.79,
          -2.726,
          null,
          -1.79,
          -0.942,
          null,
          -2.146,
          -1.441,
          null,
          -1.441,
          -2.01,
          null,
          -2.01,
          -2.494,
          null,
          -2.01,
          -1.983,
          null,
          -0.942,
          -1.01,
          null,
          -1.01,
          -0.214,
          null,
          -1.01,
          -0.572,
          null,
          -0.214,
          0.937,
          null,
          -0.214,
          -0.764,
          null,
          -0.572,
          -0.616,
          null,
          -0.616,
          0.387,
          null,
          -0.616,
          -1.765,
          null,
          -0.764,
          -0.14,
          null,
          -0.14,
          -1.051,
          null,
          -0.14,
          0.193,
          null,
          -1.051,
          -2.141,
          null,
          -1.051,
          -0.66,
          null,
          0.193,
          1.185,
          null,
          -0.66,
          -1.424,
          null,
          -0.66,
          0.537,
          null,
          -1.424,
          -1.574,
          null,
          -1.424,
          -0.555,
          null,
          -1.574,
          -0.59,
          null,
          -1.574,
          -2.786,
          null,
          -0.555,
          0.282,
          null,
          0.282,
          0.537,
          null,
          -2.786,
          -3.044,
          null,
          -3.044,
          -3.389,
          null,
          -3.044,
          -4.136,
          null,
          -3.389,
          -3.608,
          null,
          -3.389,
          -3.406,
          null,
          -4.136,
          -3.848,
          null,
          -3.848,
          -5.036,
          null,
          -3.848,
          -2.59,
          null,
          -3.406,
          -3.689,
          null,
          -3.689,
          -3.647,
          null,
          -3.647,
          -3.337,
          null,
          -3.647,
          -3.916,
          null
         ],
         "y": [
          2.855,
          1.923,
          null,
          1.923,
          0.518,
          null,
          1.923,
          1.946,
          null,
          0.518,
          0.286,
          null,
          0.518,
          -0.399,
          null,
          1.946,
          3.502,
          null,
          3.502,
          2.902,
          null,
          -0.399,
          -1.76,
          null,
          -1.76,
          -2.413,
          null,
          -1.76,
          -2.041,
          null,
          -2.413,
          -1.723,
          null,
          -2.413,
          -3.68,
          null,
          -2.041,
          -3.486,
          null,
          -3.486,
          -4.073,
          null,
          -3.486,
          -4.258,
          null,
          -4.073,
          -5.383,
          null,
          -4.258,
          -5.571,
          null,
          -5.383,
          -6.128,
          null,
          -5.571,
          -6.128,
          null,
          -6.128,
          -7.431,
          null,
          -3.68,
          -4.511,
          null,
          -4.511,
          -4.221,
          null,
          -4.511,
          -6.029,
          null,
          -4.221,
          -3.905,
          null,
          -4.221,
          -4.279,
          null,
          -6.029,
          -6.341,
          null,
          -6.029,
          -6.856,
          null,
          -6.341,
          -7.783,
          null,
          -4.279,
          -4.078,
          null,
          -4.078,
          -2.792,
          null,
          -4.078,
          -5.314,
          null,
          -2.792,
          -2.685,
          null,
          -2.792,
          -1.802,
          null,
          -5.314,
          -5.647,
          null,
          -5.647,
          -6.885,
          null,
          -6.885,
          -7.82,
          null,
          -6.885,
          -6.89,
          null,
          -1.802,
          -0.533,
          null,
          -0.533,
          0.526,
          null,
          -0.533,
          -0.65,
          null,
          0.526,
          0.794,
          null,
          0.526,
          1.026,
          null,
          -0.65,
          0.69,
          null,
          0.69,
          1.404,
          null,
          0.69,
          1.049,
          null,
          1.026,
          2.101,
          null,
          2.101,
          3.316,
          null,
          2.101,
          1.681,
          null,
          3.316,
          3.274,
          null,
          3.316,
          4.386,
          null,
          1.681,
          2.902,
          null,
          4.386,
          5.635,
          null,
          4.386,
          4.459,
          null,
          5.635,
          6.192,
          null,
          5.635,
          6.569,
          null,
          6.192,
          6.58,
          null,
          6.192,
          6.199,
          null,
          6.569,
          5.665,
          null,
          5.665,
          4.459,
          null,
          6.199,
          6.624,
          null,
          6.624,
          8.088,
          null,
          6.624,
          5.783,
          null,
          8.088,
          8.661,
          null,
          8.088,
          8.654,
          null,
          5.783,
          4.28,
          null,
          4.28,
          3.567,
          null,
          4.28,
          4.042,
          null,
          8.654,
          10.034,
          null,
          10.034,
          10.353,
          null,
          10.353,
          11.487,
          null,
          10.353,
          9.443,
          null
         ],
         "z": [
          0.366,
          0.075,
          null,
          0.075,
          0.5,
          null,
          0.075,
          -1.418,
          null,
          0.5,
          1.045,
          null,
          0.5,
          0.268,
          null,
          -1.418,
          -1.99,
          null,
          -1.99,
          -3.264,
          null,
          0.268,
          0.55,
          null,
          0.55,
          -0.333,
          null,
          0.55,
          2.041,
          null,
          -0.333,
          -0.788,
          null,
          -0.333,
          -0.581,
          null,
          2.041,
          2.457,
          null,
          2.457,
          2.473,
          null,
          2.457,
          2.838,
          null,
          2.473,
          2.85,
          null,
          2.838,
          3.218,
          null,
          2.85,
          3.221,
          null,
          3.218,
          3.221,
          null,
          3.221,
          3.601,
          null,
          -0.581,
          -1.466,
          null,
          -1.466,
          -1.291,
          null,
          -1.466,
          -1.237,
          null,
          -1.291,
          -2.24,
          null,
          -1.291,
          -0.093,
          null,
          -1.237,
          -1.317,
          null,
          -1.237,
          -2.271,
          null,
          -1.317,
          -1.018,
          null,
          -0.093,
          0.283,
          null,
          0.283,
          1.112,
          null,
          0.283,
          1.032,
          null,
          1.112,
          1.911,
          null,
          1.112,
          0.876,
          null,
          1.032,
          2.338,
          null,
          2.338,
          3.023,
          null,
          3.023,
          2.381,
          null,
          3.023,
          4.32,
          null,
          0.876,
          1.594,
          null,
          1.594,
          0.877,
          null,
          1.594,
          3.081,
          null,
          0.877,
          1.192,
          null,
          0.877,
          -0.158,
          null,
          3.081,
          3.831,
          null,
          3.831,
          3.922,
          null,
          3.831,
          4.341,
          null,
          -0.158,
          -0.873,
          null,
          -0.873,
          -0.861,
          null,
          -0.873,
          -2.308,
          null,
          -0.861,
          -1.434,
          null,
          -0.861,
          -0.143,
          null,
          -2.308,
          -3.264,
          null,
          -0.143,
          -0.117,
          null,
          -0.143,
          0.71,
          null,
          -0.117,
          -1.529,
          null,
          -0.117,
          0.729,
          null,
          -1.529,
          -2.165,
          null,
          -1.529,
          -2.024,
          null,
          0.729,
          1.553,
          null,
          1.553,
          0.71,
          null,
          -2.024,
          -3.392,
          null,
          -3.392,
          -3.457,
          null,
          -3.392,
          -4.023,
          null,
          -3.457,
          -4.523,
          null,
          -3.457,
          -2.333,
          null,
          -4.023,
          -4.173,
          null,
          -4.173,
          -4.795,
          null,
          -4.173,
          -5,
          null,
          -2.333,
          -2.161,
          null,
          -2.161,
          -0.712,
          null,
          -0.712,
          -0.337,
          null,
          -0.712,
          0.096,
          null
         ]
        }
       ],
       "layout": {
        "height": 650,
        "margin": {
         "t": 100
        },
        "scene": {
         "xaxis": {
          "showbackground": false,
          "showgrid": false,
          "showline": false,
          "showticklabels": false,
          "title": {
           "text": ""
          },
          "zeroline": false
         },
         "yaxis": {
          "showbackground": false,
          "showgrid": false,
          "showline": false,
          "showticklabels": false,
          "title": {
           "text": ""
          },
          "zeroline": false
         },
         "zaxis": {
          "showbackground": false,
          "showgrid": false,
          "showline": false,
          "showticklabels": false,
          "title": {
           "text": ""
          },
          "zeroline": false
         }
        },
        "showlegend": false,
        "template": {
         "data": {
          "bar": [
           {
            "error_x": {
             "color": "#2a3f5f"
            },
            "error_y": {
             "color": "#2a3f5f"
            },
            "marker": {
             "line": {
              "color": "#E5ECF6",
              "width": 0.5
             },
             "pattern": {
              "fillmode": "overlay",
              "size": 10,
              "solidity": 0.2
             }
            },
            "type": "bar"
           }
          ],
          "barpolar": [
           {
            "marker": {
             "line": {
              "color": "#E5ECF6",
              "width": 0.5
             },
             "pattern": {
              "fillmode": "overlay",
              "size": 10,
              "solidity": 0.2
             }
            },
            "type": "barpolar"
           }
          ],
          "carpet": [
           {
            "aaxis": {
             "endlinecolor": "#2a3f5f",
             "gridcolor": "white",
             "linecolor": "white",
             "minorgridcolor": "white",
             "startlinecolor": "#2a3f5f"
            },
            "baxis": {
             "endlinecolor": "#2a3f5f",
             "gridcolor": "white",
             "linecolor": "white",
             "minorgridcolor": "white",
             "startlinecolor": "#2a3f5f"
            },
            "type": "carpet"
           }
          ],
          "choropleth": [
           {
            "colorbar": {
             "outlinewidth": 0,
             "ticks": ""
            },
            "type": "choropleth"
           }
          ],
          "contour": [
           {
            "colorbar": {
             "outlinewidth": 0,
             "ticks": ""
            },
            "colorscale": [
             [
              0,
              "#0d0887"
             ],
             [
              0.1111111111111111,
              "#46039f"
             ],
             [
              0.2222222222222222,
              "#7201a8"
             ],
             [
              0.3333333333333333,
              "#9c179e"
             ],
             [
              0.4444444444444444,
              "#bd3786"
             ],
             [
              0.5555555555555556,
              "#d8576b"
             ],
             [
              0.6666666666666666,
              "#ed7953"
             ],
             [
              0.7777777777777778,
              "#fb9f3a"
             ],
             [
              0.8888888888888888,
              "#fdca26"
             ],
             [
              1,
              "#f0f921"
             ]
            ],
            "type": "contour"
           }
          ],
          "contourcarpet": [
           {
            "colorbar": {
             "outlinewidth": 0,
             "ticks": ""
            },
            "type": "contourcarpet"
           }
          ],
          "heatmap": [
           {
            "colorbar": {
             "outlinewidth": 0,
             "ticks": ""
            },
            "colorscale": [
             [
              0,
              "#0d0887"
             ],
             [
              0.1111111111111111,
              "#46039f"
             ],
             [
              0.2222222222222222,
              "#7201a8"
             ],
             [
              0.3333333333333333,
              "#9c179e"
             ],
             [
              0.4444444444444444,
              "#bd3786"
             ],
             [
              0.5555555555555556,
              "#d8576b"
             ],
             [
              0.6666666666666666,
              "#ed7953"
             ],
             [
              0.7777777777777778,
              "#fb9f3a"
             ],
             [
              0.8888888888888888,
              "#fdca26"
             ],
             [
              1,
              "#f0f921"
             ]
            ],
            "type": "heatmap"
           }
          ],
          "heatmapgl": [
           {
            "colorbar": {
             "outlinewidth": 0,
             "ticks": ""
            },
            "colorscale": [
             [
              0,
              "#0d0887"
             ],
             [
              0.1111111111111111,
              "#46039f"
             ],
             [
              0.2222222222222222,
              "#7201a8"
             ],
             [
              0.3333333333333333,
              "#9c179e"
             ],
             [
              0.4444444444444444,
              "#bd3786"
             ],
             [
              0.5555555555555556,
              "#d8576b"
             ],
             [
              0.6666666666666666,
              "#ed7953"
             ],
             [
              0.7777777777777778,
              "#fb9f3a"
             ],
             [
              0.8888888888888888,
              "#fdca26"
             ],
             [
              1,
              "#f0f921"
             ]
            ],
            "type": "heatmapgl"
           }
          ],
          "histogram": [
           {
            "marker": {
             "pattern": {
              "fillmode": "overlay",
              "size": 10,
              "solidity": 0.2
             }
            },
            "type": "histogram"
           }
          ],
          "histogram2d": [
           {
            "colorbar": {
             "outlinewidth": 0,
             "ticks": ""
            },
            "colorscale": [
             [
              0,
              "#0d0887"
             ],
             [
              0.1111111111111111,
              "#46039f"
             ],
             [
              0.2222222222222222,
              "#7201a8"
             ],
             [
              0.3333333333333333,
              "#9c179e"
             ],
             [
              0.4444444444444444,
              "#bd3786"
             ],
             [
              0.5555555555555556,
              "#d8576b"
             ],
             [
              0.6666666666666666,
              "#ed7953"
             ],
             [
              0.7777777777777778,
              "#fb9f3a"
             ],
             [
              0.8888888888888888,
              "#fdca26"
             ],
             [
              1,
              "#f0f921"
             ]
            ],
            "type": "histogram2d"
           }
          ],
          "histogram2dcontour": [
           {
            "colorbar": {
             "outlinewidth": 0,
             "ticks": ""
            },
            "colorscale": [
             [
              0,
              "#0d0887"
             ],
             [
              0.1111111111111111,
              "#46039f"
             ],
             [
              0.2222222222222222,
              "#7201a8"
             ],
             [
              0.3333333333333333,
              "#9c179e"
             ],
             [
              0.4444444444444444,
              "#bd3786"
             ],
             [
              0.5555555555555556,
              "#d8576b"
             ],
             [
              0.6666666666666666,
              "#ed7953"
             ],
             [
              0.7777777777777778,
              "#fb9f3a"
             ],
             [
              0.8888888888888888,
              "#fdca26"
             ],
             [
              1,
              "#f0f921"
             ]
            ],
            "type": "histogram2dcontour"
           }
          ],
          "mesh3d": [
           {
            "colorbar": {
             "outlinewidth": 0,
             "ticks": ""
            },
            "type": "mesh3d"
           }
          ],
          "parcoords": [
           {
            "line": {
             "colorbar": {
              "outlinewidth": 0,
              "ticks": ""
             }
            },
            "type": "parcoords"
           }
          ],
          "pie": [
           {
            "automargin": true,
            "type": "pie"
           }
          ],
          "scatter": [
           {
            "fillpattern": {
             "fillmode": "overlay",
             "size": 10,
             "solidity": 0.2
            },
            "type": "scatter"
           }
          ],
          "scatter3d": [
           {
            "line": {
             "colorbar": {
              "outlinewidth": 0,
              "ticks": ""
             }
            },
            "marker": {
             "colorbar": {
              "outlinewidth": 0,
              "ticks": ""
             }
            },
            "type": "scatter3d"
           }
          ],
          "scattercarpet": [
           {
            "marker": {
             "colorbar": {
              "outlinewidth": 0,
              "ticks": ""
             }
            },
            "type": "scattercarpet"
           }
          ],
          "scattergeo": [
           {
            "marker": {
             "colorbar": {
              "outlinewidth": 0,
              "ticks": ""
             }
            },
            "type": "scattergeo"
           }
          ],
          "scattergl": [
           {
            "marker": {
             "colorbar": {
              "outlinewidth": 0,
              "ticks": ""
             }
            },
            "type": "scattergl"
           }
          ],
          "scattermapbox": [
           {
            "marker": {
             "colorbar": {
              "outlinewidth": 0,
              "ticks": ""
             }
            },
            "type": "scattermapbox"
           }
          ],
          "scatterpolar": [
           {
            "marker": {
             "colorbar": {
              "outlinewidth": 0,
              "ticks": ""
             }
            },
            "type": "scatterpolar"
           }
          ],
          "scatterpolargl": [
           {
            "marker": {
             "colorbar": {
              "outlinewidth": 0,
              "ticks": ""
             }
            },
            "type": "scatterpolargl"
           }
          ],
          "scatterternary": [
           {
            "marker": {
             "colorbar": {
              "outlinewidth": 0,
              "ticks": ""
             }
            },
            "type": "scatterternary"
           }
          ],
          "surface": [
           {
            "colorbar": {
             "outlinewidth": 0,
             "ticks": ""
            },
            "colorscale": [
             [
              0,
              "#0d0887"
             ],
             [
              0.1111111111111111,
              "#46039f"
             ],
             [
              0.2222222222222222,
              "#7201a8"
             ],
             [
              0.3333333333333333,
              "#9c179e"
             ],
             [
              0.4444444444444444,
              "#bd3786"
             ],
             [
              0.5555555555555556,
              "#d8576b"
             ],
             [
              0.6666666666666666,
              "#ed7953"
             ],
             [
              0.7777777777777778,
              "#fb9f3a"
             ],
             [
              0.8888888888888888,
              "#fdca26"
             ],
             [
              1,
              "#f0f921"
             ]
            ],
            "type": "surface"
           }
          ],
          "table": [
           {
            "cells": {
             "fill": {
              "color": "#EBF0F8"
             },
             "line": {
              "color": "white"
             }
            },
            "header": {
             "fill": {
              "color": "#C8D4E3"
             },
             "line": {
              "color": "white"
             }
            },
            "type": "table"
           }
          ]
         },
         "layout": {
          "annotationdefaults": {
           "arrowcolor": "#2a3f5f",
           "arrowhead": 0,
           "arrowwidth": 1
          },
          "autotypenumbers": "strict",
          "coloraxis": {
           "colorbar": {
            "outlinewidth": 0,
            "ticks": ""
           }
          },
          "colorscale": {
           "diverging": [
            [
             0,
             "#8e0152"
            ],
            [
             0.1,
             "#c51b7d"
            ],
            [
             0.2,
             "#de77ae"
            ],
            [
             0.3,
             "#f1b6da"
            ],
            [
             0.4,
             "#fde0ef"
            ],
            [
             0.5,
             "#f7f7f7"
            ],
            [
             0.6,
             "#e6f5d0"
            ],
            [
             0.7,
             "#b8e186"
            ],
            [
             0.8,
             "#7fbc41"
            ],
            [
             0.9,
             "#4d9221"
            ],
            [
             1,
             "#276419"
            ]
           ],
           "sequential": [
            [
             0,
             "#0d0887"
            ],
            [
             0.1111111111111111,
             "#46039f"
            ],
            [
             0.2222222222222222,
             "#7201a8"
            ],
            [
             0.3333333333333333,
             "#9c179e"
            ],
            [
             0.4444444444444444,
             "#bd3786"
            ],
            [
             0.5555555555555556,
             "#d8576b"
            ],
            [
             0.6666666666666666,
             "#ed7953"
            ],
            [
             0.7777777777777778,
             "#fb9f3a"
            ],
            [
             0.8888888888888888,
             "#fdca26"
            ],
            [
             1,
             "#f0f921"
            ]
           ],
           "sequentialminus": [
            [
             0,
             "#0d0887"
            ],
            [
             0.1111111111111111,
             "#46039f"
            ],
            [
             0.2222222222222222,
             "#7201a8"
            ],
            [
             0.3333333333333333,
             "#9c179e"
            ],
            [
             0.4444444444444444,
             "#bd3786"
            ],
            [
             0.5555555555555556,
             "#d8576b"
            ],
            [
             0.6666666666666666,
             "#ed7953"
            ],
            [
             0.7777777777777778,
             "#fb9f3a"
            ],
            [
             0.8888888888888888,
             "#fdca26"
            ],
            [
             1,
             "#f0f921"
            ]
           ]
          },
          "colorway": [
           "#636efa",
           "#EF553B",
           "#00cc96",
           "#ab63fa",
           "#FFA15A",
           "#19d3f3",
           "#FF6692",
           "#B6E880",
           "#FF97FF",
           "#FECB52"
          ],
          "font": {
           "color": "#2a3f5f"
          },
          "geo": {
           "bgcolor": "white",
           "lakecolor": "white",
           "landcolor": "#E5ECF6",
           "showlakes": true,
           "showland": true,
           "subunitcolor": "white"
          },
          "hoverlabel": {
           "align": "left"
          },
          "hovermode": "closest",
          "mapbox": {
           "style": "light"
          },
          "paper_bgcolor": "white",
          "plot_bgcolor": "#E5ECF6",
          "polar": {
           "angularaxis": {
            "gridcolor": "white",
            "linecolor": "white",
            "ticks": ""
           },
           "bgcolor": "#E5ECF6",
           "radialaxis": {
            "gridcolor": "white",
            "linecolor": "white",
            "ticks": ""
           }
          },
          "scene": {
           "xaxis": {
            "backgroundcolor": "#E5ECF6",
            "gridcolor": "white",
            "gridwidth": 2,
            "linecolor": "white",
            "showbackground": true,
            "ticks": "",
            "zerolinecolor": "white"
           },
           "yaxis": {
            "backgroundcolor": "#E5ECF6",
            "gridcolor": "white",
            "gridwidth": 2,
            "linecolor": "white",
            "showbackground": true,
            "ticks": "",
            "zerolinecolor": "white"
           },
           "zaxis": {
            "backgroundcolor": "#E5ECF6",
            "gridcolor": "white",
            "gridwidth": 2,
            "linecolor": "white",
            "showbackground": true,
            "ticks": "",
            "zerolinecolor": "white"
           }
          },
          "shapedefaults": {
           "line": {
            "color": "#2a3f5f"
           }
          },
          "ternary": {
           "aaxis": {
            "gridcolor": "white",
            "linecolor": "white",
            "ticks": ""
           },
           "baxis": {
            "gridcolor": "white",
            "linecolor": "white",
            "ticks": ""
           },
           "bgcolor": "#E5ECF6",
           "caxis": {
            "gridcolor": "white",
            "linecolor": "white",
            "ticks": ""
           }
          },
          "title": {
           "x": 0.05
          },
          "xaxis": {
           "automargin": true,
           "gridcolor": "white",
           "linecolor": "white",
           "ticks": "",
           "title": {
            "standoff": 15
           },
           "zerolinecolor": "white",
           "zerolinewidth": 2
          },
          "yaxis": {
           "automargin": true,
           "gridcolor": "white",
           "linecolor": "white",
           "ticks": "",
           "title": {
            "standoff": 15
           },
           "zerolinecolor": "white",
           "zerolinewidth": 2
          }
         }
        },
        "title": {
         "text": "Peptide backbone graph. Nodes coloured by components"
        },
        "width": 620
       }
      },
      "text/html": [
       "<div>                            <div id=\"4d6fe361-e144-42be-9da9-9f38c174377a\" class=\"plotly-graph-div\" style=\"height:650px; width:620px;\"></div>            <script type=\"text/javascript\">                require([\"plotly\"], function(Plotly) {                    window.PLOTLYENV=window.PLOTLYENV || {};                                    if (document.getElementById(\"4d6fe361-e144-42be-9da9-9f38c174377a\")) {                    Plotly.newPlot(                        \"4d6fe361-e144-42be-9da9-9f38c174377a\",                        [{\"hoverinfo\":\"text+x+y+z\",\"marker\":{\"color\":[[0.050383,0.029803,0.527975,1.0],[0.050383,0.029803,0.527975,1.0],[0.050383,0.029803,0.527975,1.0],[0.050383,0.029803,0.527975,1.0],[0.050383,0.029803,0.527975,1.0],[0.050383,0.029803,0.527975,1.0],[0.050383,0.029803,0.527975,1.0],[0.050383,0.029803,0.527975,1.0],[0.050383,0.029803,0.527975,1.0],[0.050383,0.029803,0.527975,1.0],[0.050383,0.029803,0.527975,1.0],[0.928329,0.472975,0.326067,1.0],[0.928329,0.472975,0.326067,1.0],[0.928329,0.472975,0.326067,1.0],[0.928329,0.472975,0.326067,1.0],[0.928329,0.472975,0.326067,1.0],[0.928329,0.472975,0.326067,1.0],[0.050383,0.029803,0.527975,1.0],[0.050383,0.029803,0.527975,1.0],[0.050383,0.029803,0.527975,1.0],[0.050383,0.029803,0.527975,1.0],[0.050383,0.029803,0.527975,1.0],[0.050383,0.029803,0.527975,1.0],[0.050383,0.029803,0.527975,1.0],[0.050383,0.029803,0.527975,1.0],[0.050383,0.029803,0.527975,1.0],[0.050383,0.029803,0.527975,1.0],[0.050383,0.029803,0.527975,1.0],[0.050383,0.029803,0.527975,1.0],[0.050383,0.029803,0.527975,1.0],[0.050383,0.029803,0.527975,1.0],[0.050383,0.029803,0.527975,1.0],[0.050383,0.029803,0.527975,1.0],[0.050383,0.029803,0.527975,1.0],[0.050383,0.029803,0.527975,1.0],[0.050383,0.029803,0.527975,1.0],[0.050383,0.029803,0.527975,1.0],[0.050383,0.029803,0.527975,1.0],[0.050383,0.029803,0.527975,1.0],[0.050383,0.029803,0.527975,1.0],[0.050383,0.029803,0.527975,1.0],[0.050383,0.029803,0.527975,1.0],[0.050383,0.029803,0.527975,1.0],[0.050383,0.029803,0.527975,1.0],[0.050383,0.029803,0.527975,1.0],[0.050383,0.029803,0.527975,1.0],[0.050383,0.029803,0.527975,1.0],[0.050383,0.029803,0.527975,1.0],[0.050383,0.029803,0.527975,1.0],[0.610667,0.090204,0.619951,1.0],[0.610667,0.090204,0.619951,1.0],[0.050383,0.029803,0.527975,1.0],[0.050383,0.029803,0.527975,1.0],[0.610667,0.090204,0.619951,1.0],[0.610667,0.090204,0.619951,1.0],[0.610667,0.090204,0.619951,1.0],[0.050383,0.029803,0.527975,1.0],[0.050383,0.029803,0.527975,1.0],[0.050383,0.029803,0.527975,1.0],[0.050383,0.029803,0.527975,1.0],[0.050383,0.029803,0.527975,1.0],[0.050383,0.029803,0.527975,1.0],[0.050383,0.029803,0.527975,1.0],[0.050383,0.029803,0.527975,1.0],[0.050383,0.029803,0.527975,1.0],[0.050383,0.029803,0.527975,1.0],[0.050383,0.029803,0.527975,1.0],[0.050383,0.029803,0.527975,1.0],[0.050383,0.029803,0.527975,1.0]],\"opacity\":0.7,\"size\":[21.0,23.0,23.0,21.0,22.0,22.0,22.0,23.0,23.0,21.0,22.0,23.0,22.0,22.0,22.0,22.0,23.0,21.0,22.0,23.0,23.0,21.0,23.0,22.0,21.0,21.0,22.0,23.0,23.0,21.0,22.0,22.0,23.0,21.0,21.0,22.0,23.0,23.0,21.0,22.0,23.0,21.0,21.0,22.0,23.0,23.0,21.0,22.0,22.0,23.0,23.0,23.0,21.0,22.0,22.0,22.0,22.0,23.0,23.0,21.0,22.0,23.0,21.0,21.0,22.0,22.0,23.0,21.0,21.0],\"symbol\":\"circle\"},\"mode\":\"markers\",\"text\":[\"A:CYS:1:N\",\"A:CYS:1:CA\",\"A:CYS:1:C\",\"A:CYS:1:O\",\"A:CYS:1:CB\",\"A:CYS:1:SG\",\"A:TYR:2:N\",\"A:TYR:2:CA\",\"A:TYR:2:C\",\"A:TYR:2:O\",\"A:TYR:2:CB\",\"A:TYR:2:CG\",\"A:TYR:2:CD1\",\"A:TYR:2:CD2\",\"A:TYR:2:CE1\",\"A:TYR:2:CE2\",\"A:TYR:2:CZ\",\"A:TYR:2:OH\",\"A:ILE:3:N\",\"A:ILE:3:CA\",\"A:ILE:3:C\",\"A:ILE:3:O\",\"A:ILE:3:CB\",\"A:ILE:3:CG1\",\"A:ILE:3:CG2\",\"A:ILE:3:CD1\",\"A:GLN:4:N\",\"A:GLN:4:CA\",\"A:GLN:4:C\",\"A:GLN:4:O\",\"A:GLN:4:CB\",\"A:GLN:4:CG\",\"A:GLN:4:CD\",\"A:GLN:4:OE1\",\"A:GLN:4:NE2\",\"A:ASN:5:N\",\"A:ASN:5:CA\",\"A:ASN:5:C\",\"A:ASN:5:O\",\"A:ASN:5:CB\",\"A:ASN:5:CG\",\"A:ASN:5:OD1\",\"A:ASN:5:ND2\",\"A:CYS:6:N\",\"A:CYS:6:CA\",\"A:CYS:6:C\",\"A:CYS:6:O\",\"A:CYS:6:CB\",\"A:CYS:6:SG\",\"A:PRO:7:N\",\"A:PRO:7:CA\",\"A:PRO:7:C\",\"A:PRO:7:O\",\"A:PRO:7:CB\",\"A:PRO:7:CG\",\"A:PRO:7:CD\",\"A:LEU:8:N\",\"A:LEU:8:CA\",\"A:LEU:8:C\",\"A:LEU:8:O\",\"A:LEU:8:CB\",\"A:LEU:8:CG\",\"A:LEU:8:CD1\",\"A:LEU:8:CD2\",\"A:GLY:9:N\",\"A:GLY:9:CA\",\"A:GLY:9:C\",\"A:GLY:9:O\",\"A:GLY:9:OXT\"],\"x\":[4.874,3.791,4.157,5.232,3.435,2.665,3.252,3.387,2.361,1.436,3.1,3.274,4.53,2.185,4.697,2.348,3.607,3.773,2.531,1.677,0.199,-0.519,1.928,3.427,1.161,3.786,-0.204,-1.601,-1.79,-2.726,-2.146,-1.441,-2.01,-2.494,-1.983,-0.942,-1.01,-0.214,0.937,-0.572,-0.616,0.387,-1.765,-0.764,-0.14,-1.051,-2.141,0.193,1.185,-0.66,-1.424,-1.574,-0.59,-0.555,0.282,0.537,-2.786,-3.044,-3.389,-3.608,-4.136,-3.848,-5.036,-2.59,-3.406,-3.689,-3.647,-3.337,-3.916],\"y\":[2.855,1.923,0.518,0.286,1.946,3.502,-0.399,-1.76,-2.413,-1.723,-2.041,-3.486,-4.073,-4.258,-5.383,-5.571,-6.128,-7.431,-3.68,-4.511,-4.221,-3.905,-6.029,-6.341,-6.856,-7.783,-4.279,-4.078,-2.792,-2.685,-5.314,-5.647,-6.885,-7.82,-6.89,-1.802,-0.533,0.526,0.794,-0.65,0.69,1.404,1.049,1.026,2.101,3.316,3.274,1.681,2.902,4.386,5.635,6.192,6.58,6.569,5.665,4.459,6.199,6.624,8.088,8.661,5.783,4.28,3.567,4.042,8.654,10.034,10.353,11.487,9.443],\"z\":[0.366,0.075,0.5,1.045,-1.418,-1.99,0.268,0.55,-0.333,-0.788,2.041,2.457,2.473,2.838,2.85,3.218,3.221,3.601,-0.581,-1.466,-1.291,-2.24,-1.237,-1.317,-2.271,-1.018,-0.093,0.283,1.112,1.911,1.032,2.338,3.023,2.381,4.32,0.876,1.594,0.877,1.192,3.081,3.831,3.922,4.341,-0.158,-0.873,-0.861,-1.434,-2.308,-3.264,-0.143,-0.117,-1.529,-2.165,0.729,1.553,0.71,-2.024,-3.392,-3.457,-4.523,-4.023,-4.173,-4.795,-5.0,-2.333,-2.161,-0.712,-0.337,0.096],\"type\":\"scatter3d\"},{\"hoverinfo\":\"text\",\"line\":{\"color\":[[0.050383,0.029803,0.527975,1.0],[0.050383,0.029803,0.527975,1.0],[0.050383,0.029803,0.527975,1.0],[0.050383,0.029803,0.527975,1.0],[0.050383,0.029803,0.527975,1.0],[0.050383,0.029803,0.527975,1.0],[0.050383,0.029803,0.527975,1.0],[0.050383,0.029803,0.527975,1.0],[0.050383,0.029803,0.527975,1.0],[0.050383,0.029803,0.527975,1.0],[0.050383,0.029803,0.527975,1.0],[0.050383,0.029803,0.527975,1.0],[0.050383,0.029803,0.527975,1.0],[0.050383,0.029803,0.527975,1.0],[0.050383,0.029803,0.527975,1.0],[0.050383,0.029803,0.527975,1.0],[0.050383,0.029803,0.527975,1.0],[0.050383,0.029803,0.527975,1.0],[0.050383,0.029803,0.527975,1.0],[0.050383,0.029803,0.527975,1.0],[0.050383,0.029803,0.527975,1.0],[0.050383,0.029803,0.527975,1.0],[0.050383,0.029803,0.527975,1.0],[0.050383,0.029803,0.527975,1.0],[0.050383,0.029803,0.527975,1.0],[0.050383,0.029803,0.527975,1.0],[0.050383,0.029803,0.527975,1.0],[0.050383,0.029803,0.527975,1.0],[0.050383,0.029803,0.527975,1.0],[0.050383,0.029803,0.527975,1.0],[0.050383,0.029803,0.527975,1.0],[0.050383,0.029803,0.527975,1.0],[0.050383,0.029803,0.527975,1.0],[0.050383,0.029803,0.527975,1.0],[0.050383,0.029803,0.527975,1.0],[0.050383,0.029803,0.527975,1.0],[0.050383,0.029803,0.527975,1.0],[0.050383,0.029803,0.527975,1.0],[0.050383,0.029803,0.527975,1.0],[0.610667,0.090204,0.619951,1.0],[0.610667,0.090204,0.619951,1.0],[0.610667,0.090204,0.619951,1.0],[0.610667,0.090204,0.619951,1.0],[0.610667,0.090204,0.619951,1.0],[0.610667,0.090204,0.619951,1.0],[0.610667,0.090204,0.619951,1.0],[0.610667,0.090204,0.619951,1.0],[0.610667,0.090204,0.619951,1.0],[0.610667,0.090204,0.619951,1.0],[0.610667,0.090204,0.619951,1.0],[0.610667,0.090204,0.619951,1.0],[0.610667,0.090204,0.619951,1.0],[0.610667,0.090204,0.619951,1.0],[0.610667,0.090204,0.619951,1.0],[0.610667,0.090204,0.619951,1.0],[0.610667,0.090204,0.619951,1.0],[0.610667,0.090204,0.619951,1.0],[0.050383,0.029803,0.527975,1.0],[0.050383,0.029803,0.527975,1.0],[0.050383,0.029803,0.527975,1.0],[0.050383,0.029803,0.527975,1.0],[0.050383,0.029803,0.527975,1.0],[0.050383,0.029803,0.527975,1.0],[0.050383,0.029803,0.527975,1.0],[0.050383,0.029803,0.527975,1.0],[0.050383,0.029803,0.527975,1.0],[0.050383,0.029803,0.527975,1.0],[0.050383,0.029803,0.527975,1.0],[0.050383,0.029803,0.527975,1.0],[0.050383,0.029803,0.527975,1.0],[0.050383,0.029803,0.527975,1.0],[0.050383,0.029803,0.527975,1.0],[0.050383,0.029803,0.527975,1.0],[0.050383,0.029803,0.527975,1.0],[0.050383,0.029803,0.527975,1.0],[0.050383,0.029803,0.527975,1.0],[0.050383,0.029803,0.527975,1.0],[0.050383,0.029803,0.527975,1.0],[0.050383,0.029803,0.527975,1.0],[0.050383,0.029803,0.527975,1.0],[0.050383,0.029803,0.527975,1.0],[0.050383,0.029803,0.527975,1.0],[0.050383,0.029803,0.527975,1.0],[0.050383,0.029803,0.527975,1.0],[0.050383,0.029803,0.527975,1.0],[0.050383,0.029803,0.527975,1.0],[0.050383,0.029803,0.527975,1.0],[0.050383,0.029803,0.527975,1.0],[0.050383,0.029803,0.527975,1.0],[0.050383,0.029803,0.527975,1.0],[0.050383,0.029803,0.527975,1.0],[0.050383,0.029803,0.527975,1.0],[0.050383,0.029803,0.527975,1.0],[0.050383,0.029803,0.527975,1.0],[0.050383,0.029803,0.527975,1.0],[0.050383,0.029803,0.527975,1.0],[0.050383,0.029803,0.527975,1.0],[0.050383,0.029803,0.527975,1.0],[0.050383,0.029803,0.527975,1.0],[0.050383,0.029803,0.527975,1.0],[0.050383,0.029803,0.527975,1.0],[0.050383,0.029803,0.527975,1.0],[0.050383,0.029803,0.527975,1.0],[0.050383,0.029803,0.527975,1.0],[0.050383,0.029803,0.527975,1.0],[0.050383,0.029803,0.527975,1.0],[0.050383,0.029803,0.527975,1.0],[0.050383,0.029803,0.527975,1.0],[0.050383,0.029803,0.527975,1.0],[0.050383,0.029803,0.527975,1.0],[0.050383,0.029803,0.527975,1.0],[0.050383,0.029803,0.527975,1.0],[0.050383,0.029803,0.527975,1.0],[0.050383,0.029803,0.527975,1.0],[0.050383,0.029803,0.527975,1.0],[0.050383,0.029803,0.527975,1.0],[0.050383,0.029803,0.527975,1.0],[0.050383,0.029803,0.527975,1.0],[0.050383,0.029803,0.527975,1.0],[0.050383,0.029803,0.527975,1.0],[0.050383,0.029803,0.527975,1.0],[0.050383,0.029803,0.527975,1.0],[0.050383,0.029803,0.527975,1.0],[0.050383,0.029803,0.527975,1.0],[0.050383,0.029803,0.527975,1.0],[0.050383,0.029803,0.527975,1.0],[0.050383,0.029803,0.527975,1.0],[0.050383,0.029803,0.527975,1.0],[0.050383,0.029803,0.527975,1.0],[0.050383,0.029803,0.527975,1.0],[0.050383,0.029803,0.527975,1.0],[0.050383,0.029803,0.527975,1.0],[0.050383,0.029803,0.527975,1.0],[0.050383,0.029803,0.527975,1.0],[0.050383,0.029803,0.527975,1.0],[0.050383,0.029803,0.527975,1.0],[0.050383,0.029803,0.527975,1.0],[0.050383,0.029803,0.527975,1.0],[0.050383,0.029803,0.527975,1.0],[0.050383,0.029803,0.527975,1.0],[0.050383,0.029803,0.527975,1.0],[0.050383,0.029803,0.527975,1.0],[0.050383,0.029803,0.527975,1.0],[0.050383,0.029803,0.527975,1.0],[0.050383,0.029803,0.527975,1.0],[0.050383,0.029803,0.527975,1.0],[0.050383,0.029803,0.527975,1.0],[0.050383,0.029803,0.527975,1.0],[0.050383,0.029803,0.527975,1.0],[0.050383,0.029803,0.527975,1.0],[0.050383,0.029803,0.527975,1.0],[0.050383,0.029803,0.527975,1.0],[0.050383,0.029803,0.527975,1.0],[0.050383,0.029803,0.527975,1.0],[0.050383,0.029803,0.527975,1.0],[0.050383,0.029803,0.527975,1.0],[0.050383,0.029803,0.527975,1.0],[0.050383,0.029803,0.527975,1.0],[0.050383,0.029803,0.527975,1.0],[0.050383,0.029803,0.527975,1.0],[0.050383,0.029803,0.527975,1.0],[0.050383,0.029803,0.527975,1.0],[0.050383,0.029803,0.527975,1.0],[0.050383,0.029803,0.527975,1.0],[0.050383,0.029803,0.527975,1.0],[0.050383,0.029803,0.527975,1.0],[0.050383,0.029803,0.527975,1.0],[0.050383,0.029803,0.527975,1.0],[0.050383,0.029803,0.527975,1.0],[0.050383,0.029803,0.527975,1.0],[0.050383,0.029803,0.527975,1.0],[0.050383,0.029803,0.527975,1.0],[0.050383,0.029803,0.527975,1.0],[0.050383,0.029803,0.527975,1.0],[0.050383,0.029803,0.527975,1.0],[0.050383,0.029803,0.527975,1.0],[0.050383,0.029803,0.527975,1.0],[0.050383,0.029803,0.527975,1.0],[0.050383,0.029803,0.527975,1.0],[0.050383,0.029803,0.527975,1.0],[0.050383,0.029803,0.527975,1.0],[0.050383,0.029803,0.527975,1.0],[0.050383,0.029803,0.527975,1.0],[0.050383,0.029803,0.527975,1.0],[0.050383,0.029803,0.527975,1.0],[0.050383,0.029803,0.527975,1.0],[0.050383,0.029803,0.527975,1.0],[0.050383,0.029803,0.527975,1.0],[0.050383,0.029803,0.527975,1.0],[0.050383,0.029803,0.527975,1.0],[0.050383,0.029803,0.527975,1.0],[0.050383,0.029803,0.527975,1.0],[0.050383,0.029803,0.527975,1.0],[0.050383,0.029803,0.527975,1.0],[0.050383,0.029803,0.527975,1.0],[0.050383,0.029803,0.527975,1.0],[0.050383,0.029803,0.527975,1.0],[0.050383,0.029803,0.527975,1.0],[0.050383,0.029803,0.527975,1.0],[0.050383,0.029803,0.527975,1.0],[0.050383,0.029803,0.527975,1.0],[0.050383,0.029803,0.527975,1.0],[0.050383,0.029803,0.527975,1.0],[0.050383,0.029803,0.527975,1.0],[0.050383,0.029803,0.527975,1.0],[0.050383,0.029803,0.527975,1.0],[0.050383,0.029803,0.527975,1.0],[0.050383,0.029803,0.527975,1.0],[0.050383,0.029803,0.527975,1.0],[0.050383,0.029803,0.527975,1.0],[0.050383,0.029803,0.527975,1.0],[0.050383,0.029803,0.527975,1.0],[0.050383,0.029803,0.527975,1.0]],\"width\":10},\"mode\":\"lines\",\"text\":[\"covalent\",\"covalent\",\"covalent\",\"covalent\",\"covalent\",\"covalent\",\"covalent\",\"covalent\",\"covalent\",\"covalent\",\"covalent\",\"covalent\",\"covalent\",\"covalent\",\"covalent\",\"covalent\",\"covalent\",\"covalent\",\"hbond \\u002f disulfide \\u002f covalent\",\"hbond \\u002f disulfide \\u002f covalent\",\"hbond \\u002f disulfide \\u002f covalent\",\"covalent\",\"covalent\",\"covalent\",\"covalent\",\"covalent\",\"covalent\",\"covalent\",\"covalent\",\"covalent\",\"covalent\",\"covalent\",\"covalent\",\"covalent\",\"covalent\",\"covalent\",\"covalent\",\"covalent\",\"covalent\",\"covalent\",\"covalent\",\"covalent\",\"covalent\",\"covalent\",\"covalent\",\"covalent\",\"covalent\",\"covalent\",\"covalent\",\"covalent\",\"covalent\",\"covalent\",\"covalent\",\"covalent\",\"covalent\",\"covalent\",\"covalent\",\"covalent\",\"covalent\",\"covalent\",\"covalent\",\"covalent\",\"covalent\",\"covalent\",\"covalent\",\"covalent\",\"covalent\",\"covalent\",\"covalent\",\"covalent\",\"covalent\",\"covalent\",\"covalent\",\"covalent\",\"covalent\",\"covalent\",\"covalent\",\"covalent\",\"covalent\",\"covalent\",\"covalent\",\"covalent\",\"covalent\",\"covalent\",\"covalent\",\"covalent\",\"covalent\",\"covalent\",\"covalent\",\"covalent\",\"covalent\",\"covalent\",\"covalent\",\"covalent\",\"covalent\",\"covalent\",\"covalent\",\"covalent\",\"covalent\",\"covalent\",\"covalent\",\"covalent\",\"covalent\",\"covalent\",\"covalent\",\"covalent\",\"covalent\",\"covalent\",\"covalent\",\"covalent\",\"covalent\",\"covalent\",\"covalent\",\"covalent\",\"covalent\",\"covalent\",\"covalent\",\"covalent\",\"covalent\",\"covalent\",\"covalent\",\"covalent\",\"covalent\",\"covalent\",\"covalent\",\"covalent\",\"covalent\",\"covalent\",\"covalent\",\"covalent\",\"covalent\",\"covalent\",\"covalent\",\"covalent\",\"covalent\",\"covalent\",\"covalent\",\"covalent\",\"covalent\",\"covalent\",\"covalent\",\"covalent\",\"covalent\",\"covalent\",\"covalent\",\"covalent\",\"covalent\",\"covalent\",\"covalent\",\"covalent\",\"covalent\",\"covalent\",\"covalent\",\"covalent\",\"covalent\",\"covalent\",\"covalent\",\"covalent\",\"covalent\",\"covalent\",\"covalent\",\"covalent\",\"covalent\",\"covalent\",\"covalent\",\"covalent\",\"covalent\",\"covalent\",\"covalent\",\"covalent\",\"covalent\",\"covalent\",\"covalent\",\"covalent\",\"covalent\",\"covalent\",\"covalent\",\"covalent\",\"covalent\",\"covalent\",\"covalent\",\"covalent\",\"covalent\",\"covalent\",\"covalent\",\"covalent\",\"covalent\",\"covalent\",\"covalent\",\"covalent\",\"covalent\",\"covalent\",\"covalent\",\"covalent\",\"covalent\",\"covalent\",\"covalent\",\"covalent\",\"covalent\",\"covalent\",\"covalent\",\"covalent\",\"covalent\",\"covalent\",\"covalent\",\"covalent\",\"covalent\",\"covalent\",\"covalent\",\"covalent\",\"covalent\",\"covalent\",\"covalent\"],\"x\":[4.874,3.791,null,3.791,4.157,null,3.791,3.435,null,4.157,5.232,null,4.157,3.252,null,3.435,2.665,null,2.665,1.185,null,3.252,3.387,null,3.387,2.361,null,3.387,3.1,null,2.361,1.436,null,2.361,2.531,null,3.1,3.274,null,3.274,4.53,null,3.274,2.185,null,4.53,4.697,null,2.185,2.348,null,4.697,3.607,null,2.348,3.607,null,3.607,3.773,null,2.531,1.677,null,1.677,0.199,null,1.677,1.928,null,0.199,-0.519,null,0.199,-0.204,null,1.928,3.427,null,1.928,1.161,null,3.427,3.786,null,-0.204,-1.601,null,-1.601,-1.79,null,-1.601,-2.146,null,-1.79,-2.726,null,-1.79,-0.942,null,-2.146,-1.441,null,-1.441,-2.01,null,-2.01,-2.494,null,-2.01,-1.983,null,-0.942,-1.01,null,-1.01,-0.214,null,-1.01,-0.572,null,-0.214,0.937,null,-0.214,-0.764,null,-0.572,-0.616,null,-0.616,0.387,null,-0.616,-1.765,null,-0.764,-0.14,null,-0.14,-1.051,null,-0.14,0.193,null,-1.051,-2.141,null,-1.051,-0.66,null,0.193,1.185,null,-0.66,-1.424,null,-0.66,0.537,null,-1.424,-1.574,null,-1.424,-0.555,null,-1.574,-0.59,null,-1.574,-2.786,null,-0.555,0.282,null,0.282,0.537,null,-2.786,-3.044,null,-3.044,-3.389,null,-3.044,-4.136,null,-3.389,-3.608,null,-3.389,-3.406,null,-4.136,-3.848,null,-3.848,-5.036,null,-3.848,-2.59,null,-3.406,-3.689,null,-3.689,-3.647,null,-3.647,-3.337,null,-3.647,-3.916,null],\"y\":[2.855,1.923,null,1.923,0.518,null,1.923,1.946,null,0.518,0.286,null,0.518,-0.399,null,1.946,3.502,null,3.502,2.902,null,-0.399,-1.76,null,-1.76,-2.413,null,-1.76,-2.041,null,-2.413,-1.723,null,-2.413,-3.68,null,-2.041,-3.486,null,-3.486,-4.073,null,-3.486,-4.258,null,-4.073,-5.383,null,-4.258,-5.571,null,-5.383,-6.128,null,-5.571,-6.128,null,-6.128,-7.431,null,-3.68,-4.511,null,-4.511,-4.221,null,-4.511,-6.029,null,-4.221,-3.905,null,-4.221,-4.279,null,-6.029,-6.341,null,-6.029,-6.856,null,-6.341,-7.783,null,-4.279,-4.078,null,-4.078,-2.792,null,-4.078,-5.314,null,-2.792,-2.685,null,-2.792,-1.802,null,-5.314,-5.647,null,-5.647,-6.885,null,-6.885,-7.82,null,-6.885,-6.89,null,-1.802,-0.533,null,-0.533,0.526,null,-0.533,-0.65,null,0.526,0.794,null,0.526,1.026,null,-0.65,0.69,null,0.69,1.404,null,0.69,1.049,null,1.026,2.101,null,2.101,3.316,null,2.101,1.681,null,3.316,3.274,null,3.316,4.386,null,1.681,2.902,null,4.386,5.635,null,4.386,4.459,null,5.635,6.192,null,5.635,6.569,null,6.192,6.58,null,6.192,6.199,null,6.569,5.665,null,5.665,4.459,null,6.199,6.624,null,6.624,8.088,null,6.624,5.783,null,8.088,8.661,null,8.088,8.654,null,5.783,4.28,null,4.28,3.567,null,4.28,4.042,null,8.654,10.034,null,10.034,10.353,null,10.353,11.487,null,10.353,9.443,null],\"z\":[0.366,0.075,null,0.075,0.5,null,0.075,-1.418,null,0.5,1.045,null,0.5,0.268,null,-1.418,-1.99,null,-1.99,-3.264,null,0.268,0.55,null,0.55,-0.333,null,0.55,2.041,null,-0.333,-0.788,null,-0.333,-0.581,null,2.041,2.457,null,2.457,2.473,null,2.457,2.838,null,2.473,2.85,null,2.838,3.218,null,2.85,3.221,null,3.218,3.221,null,3.221,3.601,null,-0.581,-1.466,null,-1.466,-1.291,null,-1.466,-1.237,null,-1.291,-2.24,null,-1.291,-0.093,null,-1.237,-1.317,null,-1.237,-2.271,null,-1.317,-1.018,null,-0.093,0.283,null,0.283,1.112,null,0.283,1.032,null,1.112,1.911,null,1.112,0.876,null,1.032,2.338,null,2.338,3.023,null,3.023,2.381,null,3.023,4.32,null,0.876,1.594,null,1.594,0.877,null,1.594,3.081,null,0.877,1.192,null,0.877,-0.158,null,3.081,3.831,null,3.831,3.922,null,3.831,4.341,null,-0.158,-0.873,null,-0.873,-0.861,null,-0.873,-2.308,null,-0.861,-1.434,null,-0.861,-0.143,null,-2.308,-3.264,null,-0.143,-0.117,null,-0.143,0.71,null,-0.117,-1.529,null,-0.117,0.729,null,-1.529,-2.165,null,-1.529,-2.024,null,0.729,1.553,null,1.553,0.71,null,-2.024,-3.392,null,-3.392,-3.457,null,-3.392,-4.023,null,-3.457,-4.523,null,-3.457,-2.333,null,-4.023,-4.173,null,-4.173,-4.795,null,-4.173,-5.0,null,-2.333,-2.161,null,-2.161,-0.712,null,-0.712,-0.337,null,-0.712,0.096,null],\"type\":\"scatter3d\"}],                        {\"height\":650,\"margin\":{\"t\":100},\"scene\":{\"xaxis\":{\"showbackground\":false,\"showgrid\":false,\"showline\":false,\"showticklabels\":false,\"title\":{\"text\":\"\"},\"zeroline\":false},\"yaxis\":{\"showbackground\":false,\"showgrid\":false,\"showline\":false,\"showticklabels\":false,\"title\":{\"text\":\"\"},\"zeroline\":false},\"zaxis\":{\"showbackground\":false,\"showgrid\":false,\"showline\":false,\"showticklabels\":false,\"title\":{\"text\":\"\"},\"zeroline\":false}},\"showlegend\":false,\"title\":{\"text\":\"Peptide backbone graph. Nodes coloured by components\"},\"width\":620,\"template\":{\"data\":{\"histogram2dcontour\":[{\"type\":\"histogram2dcontour\",\"colorbar\":{\"outlinewidth\":0,\"ticks\":\"\"},\"colorscale\":[[0.0,\"#0d0887\"],[0.1111111111111111,\"#46039f\"],[0.2222222222222222,\"#7201a8\"],[0.3333333333333333,\"#9c179e\"],[0.4444444444444444,\"#bd3786\"],[0.5555555555555556,\"#d8576b\"],[0.6666666666666666,\"#ed7953\"],[0.7777777777777778,\"#fb9f3a\"],[0.8888888888888888,\"#fdca26\"],[1.0,\"#f0f921\"]]}],\"choropleth\":[{\"type\":\"choropleth\",\"colorbar\":{\"outlinewidth\":0,\"ticks\":\"\"}}],\"histogram2d\":[{\"type\":\"histogram2d\",\"colorbar\":{\"outlinewidth\":0,\"ticks\":\"\"},\"colorscale\":[[0.0,\"#0d0887\"],[0.1111111111111111,\"#46039f\"],[0.2222222222222222,\"#7201a8\"],[0.3333333333333333,\"#9c179e\"],[0.4444444444444444,\"#bd3786\"],[0.5555555555555556,\"#d8576b\"],[0.6666666666666666,\"#ed7953\"],[0.7777777777777778,\"#fb9f3a\"],[0.8888888888888888,\"#fdca26\"],[1.0,\"#f0f921\"]]}],\"heatmap\":[{\"type\":\"heatmap\",\"colorbar\":{\"outlinewidth\":0,\"ticks\":\"\"},\"colorscale\":[[0.0,\"#0d0887\"],[0.1111111111111111,\"#46039f\"],[0.2222222222222222,\"#7201a8\"],[0.3333333333333333,\"#9c179e\"],[0.4444444444444444,\"#bd3786\"],[0.5555555555555556,\"#d8576b\"],[0.6666666666666666,\"#ed7953\"],[0.7777777777777778,\"#fb9f3a\"],[0.8888888888888888,\"#fdca26\"],[1.0,\"#f0f921\"]]}],\"heatmapgl\":[{\"type\":\"heatmapgl\",\"colorbar\":{\"outlinewidth\":0,\"ticks\":\"\"},\"colorscale\":[[0.0,\"#0d0887\"],[0.1111111111111111,\"#46039f\"],[0.2222222222222222,\"#7201a8\"],[0.3333333333333333,\"#9c179e\"],[0.4444444444444444,\"#bd3786\"],[0.5555555555555556,\"#d8576b\"],[0.6666666666666666,\"#ed7953\"],[0.7777777777777778,\"#fb9f3a\"],[0.8888888888888888,\"#fdca26\"],[1.0,\"#f0f921\"]]}],\"contourcarpet\":[{\"type\":\"contourcarpet\",\"colorbar\":{\"outlinewidth\":0,\"ticks\":\"\"}}],\"contour\":[{\"type\":\"contour\",\"colorbar\":{\"outlinewidth\":0,\"ticks\":\"\"},\"colorscale\":[[0.0,\"#0d0887\"],[0.1111111111111111,\"#46039f\"],[0.2222222222222222,\"#7201a8\"],[0.3333333333333333,\"#9c179e\"],[0.4444444444444444,\"#bd3786\"],[0.5555555555555556,\"#d8576b\"],[0.6666666666666666,\"#ed7953\"],[0.7777777777777778,\"#fb9f3a\"],[0.8888888888888888,\"#fdca26\"],[1.0,\"#f0f921\"]]}],\"surface\":[{\"type\":\"surface\",\"colorbar\":{\"outlinewidth\":0,\"ticks\":\"\"},\"colorscale\":[[0.0,\"#0d0887\"],[0.1111111111111111,\"#46039f\"],[0.2222222222222222,\"#7201a8\"],[0.3333333333333333,\"#9c179e\"],[0.4444444444444444,\"#bd3786\"],[0.5555555555555556,\"#d8576b\"],[0.6666666666666666,\"#ed7953\"],[0.7777777777777778,\"#fb9f3a\"],[0.8888888888888888,\"#fdca26\"],[1.0,\"#f0f921\"]]}],\"mesh3d\":[{\"type\":\"mesh3d\",\"colorbar\":{\"outlinewidth\":0,\"ticks\":\"\"}}],\"scatter\":[{\"fillpattern\":{\"fillmode\":\"overlay\",\"size\":10,\"solidity\":0.2},\"type\":\"scatter\"}],\"parcoords\":[{\"type\":\"parcoords\",\"line\":{\"colorbar\":{\"outlinewidth\":0,\"ticks\":\"\"}}}],\"scatterpolargl\":[{\"type\":\"scatterpolargl\",\"marker\":{\"colorbar\":{\"outlinewidth\":0,\"ticks\":\"\"}}}],\"bar\":[{\"error_x\":{\"color\":\"#2a3f5f\"},\"error_y\":{\"color\":\"#2a3f5f\"},\"marker\":{\"line\":{\"color\":\"#E5ECF6\",\"width\":0.5},\"pattern\":{\"fillmode\":\"overlay\",\"size\":10,\"solidity\":0.2}},\"type\":\"bar\"}],\"scattergeo\":[{\"type\":\"scattergeo\",\"marker\":{\"colorbar\":{\"outlinewidth\":0,\"ticks\":\"\"}}}],\"scatterpolar\":[{\"type\":\"scatterpolar\",\"marker\":{\"colorbar\":{\"outlinewidth\":0,\"ticks\":\"\"}}}],\"histogram\":[{\"marker\":{\"pattern\":{\"fillmode\":\"overlay\",\"size\":10,\"solidity\":0.2}},\"type\":\"histogram\"}],\"scattergl\":[{\"type\":\"scattergl\",\"marker\":{\"colorbar\":{\"outlinewidth\":0,\"ticks\":\"\"}}}],\"scatter3d\":[{\"type\":\"scatter3d\",\"line\":{\"colorbar\":{\"outlinewidth\":0,\"ticks\":\"\"}},\"marker\":{\"colorbar\":{\"outlinewidth\":0,\"ticks\":\"\"}}}],\"scattermapbox\":[{\"type\":\"scattermapbox\",\"marker\":{\"colorbar\":{\"outlinewidth\":0,\"ticks\":\"\"}}}],\"scatterternary\":[{\"type\":\"scatterternary\",\"marker\":{\"colorbar\":{\"outlinewidth\":0,\"ticks\":\"\"}}}],\"scattercarpet\":[{\"type\":\"scattercarpet\",\"marker\":{\"colorbar\":{\"outlinewidth\":0,\"ticks\":\"\"}}}],\"carpet\":[{\"aaxis\":{\"endlinecolor\":\"#2a3f5f\",\"gridcolor\":\"white\",\"linecolor\":\"white\",\"minorgridcolor\":\"white\",\"startlinecolor\":\"#2a3f5f\"},\"baxis\":{\"endlinecolor\":\"#2a3f5f\",\"gridcolor\":\"white\",\"linecolor\":\"white\",\"minorgridcolor\":\"white\",\"startlinecolor\":\"#2a3f5f\"},\"type\":\"carpet\"}],\"table\":[{\"cells\":{\"fill\":{\"color\":\"#EBF0F8\"},\"line\":{\"color\":\"white\"}},\"header\":{\"fill\":{\"color\":\"#C8D4E3\"},\"line\":{\"color\":\"white\"}},\"type\":\"table\"}],\"barpolar\":[{\"marker\":{\"line\":{\"color\":\"#E5ECF6\",\"width\":0.5},\"pattern\":{\"fillmode\":\"overlay\",\"size\":10,\"solidity\":0.2}},\"type\":\"barpolar\"}],\"pie\":[{\"automargin\":true,\"type\":\"pie\"}]},\"layout\":{\"autotypenumbers\":\"strict\",\"colorway\":[\"#636efa\",\"#EF553B\",\"#00cc96\",\"#ab63fa\",\"#FFA15A\",\"#19d3f3\",\"#FF6692\",\"#B6E880\",\"#FF97FF\",\"#FECB52\"],\"font\":{\"color\":\"#2a3f5f\"},\"hovermode\":\"closest\",\"hoverlabel\":{\"align\":\"left\"},\"paper_bgcolor\":\"white\",\"plot_bgcolor\":\"#E5ECF6\",\"polar\":{\"bgcolor\":\"#E5ECF6\",\"angularaxis\":{\"gridcolor\":\"white\",\"linecolor\":\"white\",\"ticks\":\"\"},\"radialaxis\":{\"gridcolor\":\"white\",\"linecolor\":\"white\",\"ticks\":\"\"}},\"ternary\":{\"bgcolor\":\"#E5ECF6\",\"aaxis\":{\"gridcolor\":\"white\",\"linecolor\":\"white\",\"ticks\":\"\"},\"baxis\":{\"gridcolor\":\"white\",\"linecolor\":\"white\",\"ticks\":\"\"},\"caxis\":{\"gridcolor\":\"white\",\"linecolor\":\"white\",\"ticks\":\"\"}},\"coloraxis\":{\"colorbar\":{\"outlinewidth\":0,\"ticks\":\"\"}},\"colorscale\":{\"sequential\":[[0.0,\"#0d0887\"],[0.1111111111111111,\"#46039f\"],[0.2222222222222222,\"#7201a8\"],[0.3333333333333333,\"#9c179e\"],[0.4444444444444444,\"#bd3786\"],[0.5555555555555556,\"#d8576b\"],[0.6666666666666666,\"#ed7953\"],[0.7777777777777778,\"#fb9f3a\"],[0.8888888888888888,\"#fdca26\"],[1.0,\"#f0f921\"]],\"sequentialminus\":[[0.0,\"#0d0887\"],[0.1111111111111111,\"#46039f\"],[0.2222222222222222,\"#7201a8\"],[0.3333333333333333,\"#9c179e\"],[0.4444444444444444,\"#bd3786\"],[0.5555555555555556,\"#d8576b\"],[0.6666666666666666,\"#ed7953\"],[0.7777777777777778,\"#fb9f3a\"],[0.8888888888888888,\"#fdca26\"],[1.0,\"#f0f921\"]],\"diverging\":[[0,\"#8e0152\"],[0.1,\"#c51b7d\"],[0.2,\"#de77ae\"],[0.3,\"#f1b6da\"],[0.4,\"#fde0ef\"],[0.5,\"#f7f7f7\"],[0.6,\"#e6f5d0\"],[0.7,\"#b8e186\"],[0.8,\"#7fbc41\"],[0.9,\"#4d9221\"],[1,\"#276419\"]]},\"xaxis\":{\"gridcolor\":\"white\",\"linecolor\":\"white\",\"ticks\":\"\",\"title\":{\"standoff\":15},\"zerolinecolor\":\"white\",\"automargin\":true,\"zerolinewidth\":2},\"yaxis\":{\"gridcolor\":\"white\",\"linecolor\":\"white\",\"ticks\":\"\",\"title\":{\"standoff\":15},\"zerolinecolor\":\"white\",\"automargin\":true,\"zerolinewidth\":2},\"scene\":{\"xaxis\":{\"backgroundcolor\":\"#E5ECF6\",\"gridcolor\":\"white\",\"linecolor\":\"white\",\"showbackground\":true,\"ticks\":\"\",\"zerolinecolor\":\"white\",\"gridwidth\":2},\"yaxis\":{\"backgroundcolor\":\"#E5ECF6\",\"gridcolor\":\"white\",\"linecolor\":\"white\",\"showbackground\":true,\"ticks\":\"\",\"zerolinecolor\":\"white\",\"gridwidth\":2},\"zaxis\":{\"backgroundcolor\":\"#E5ECF6\",\"gridcolor\":\"white\",\"linecolor\":\"white\",\"showbackground\":true,\"ticks\":\"\",\"zerolinecolor\":\"white\",\"gridwidth\":2}},\"shapedefaults\":{\"line\":{\"color\":\"#2a3f5f\"}},\"annotationdefaults\":{\"arrowcolor\":\"#2a3f5f\",\"arrowhead\":0,\"arrowwidth\":1},\"geo\":{\"bgcolor\":\"white\",\"landcolor\":\"#E5ECF6\",\"subunitcolor\":\"white\",\"showland\":true,\"showlakes\":true,\"lakecolor\":\"white\"},\"title\":{\"x\":0.05},\"mapbox\":{\"style\":\"light\"}}}},                        {\"responsive\": true}                    ).then(function(){\n",
       "                            \n",
       "var gd = document.getElementById('4d6fe361-e144-42be-9da9-9f38c174377a');\n",
       "var x = new MutationObserver(function (mutations, observer) {{\n",
       "        var display = window.getComputedStyle(gd).display;\n",
       "        if (!display || display === 'none') {{\n",
       "            console.log([gd, 'removed!']);\n",
       "            Plotly.purge(gd);\n",
       "            observer.disconnect();\n",
       "        }}\n",
       "}});\n",
       "\n",
       "// Listen for the removal of the full notebook cells\n",
       "var notebookContainer = gd.closest('#notebook-container');\n",
       "if (notebookContainer) {{\n",
       "    x.observe(notebookContainer, {childList: true});\n",
       "}}\n",
       "\n",
       "// Listen for the clearing of the current output cell\n",
       "var outputEl = gd.closest('.output');\n",
       "if (outputEl) {{\n",
       "    x.observe(outputEl, {childList: true});\n",
       "}}\n",
       "\n",
       "                        })                };                });            </script>        </div>"
      ]
     },
     "metadata": {},
     "output_type": "display_data"
    }
   ],
   "source": [
    "p = plotly_protein_structure_graph(\n",
    "        G,\n",
    "        colour_edges_by=\"component\",\n",
    "        colour_nodes_by=\"component\",\n",
    "        label_node_ids=False,\n",
    "        plot_title=\"Peptide backbone graph. Nodes coloured by components\",\n",
    "        node_size_multiplier=1\n",
    "    )\n",
    "p.show()"
   ]
  },
  {
   "cell_type": "code",
   "execution_count": 6,
   "id": "a4e47d1d",
   "metadata": {},
   "outputs": [
    {
     "data": {
      "text/html": [
       "<div>\n",
       "<style scoped>\n",
       "    .dataframe tbody tr th:only-of-type {\n",
       "        vertical-align: middle;\n",
       "    }\n",
       "\n",
       "    .dataframe tbody tr th {\n",
       "        vertical-align: top;\n",
       "    }\n",
       "\n",
       "    .dataframe thead th {\n",
       "        text-align: right;\n",
       "    }\n",
       "</style>\n",
       "<table border=\"1\" class=\"dataframe\">\n",
       "  <thead>\n",
       "    <tr style=\"text-align: right;\">\n",
       "      <th></th>\n",
       "      <th>chain_id</th>\n",
       "      <th>residue_name</th>\n",
       "      <th>residue_number</th>\n",
       "      <th>atom_type</th>\n",
       "      <th>element_symbol</th>\n",
       "      <th>coords</th>\n",
       "      <th>b_factor</th>\n",
       "      <th>meiler</th>\n",
       "      <th>component</th>\n",
       "    </tr>\n",
       "  </thead>\n",
       "  <tbody>\n",
       "    <tr>\n",
       "      <th>A:CYS:1:N</th>\n",
       "      <td>A</td>\n",
       "      <td>CYS</td>\n",
       "      <td>1</td>\n",
       "      <td>N</td>\n",
       "      <td>N</td>\n",
       "      <td>[4.874, 2.855, 0.366]</td>\n",
       "      <td>0.0</td>\n",
       "      <td>dim_1    1.77\n",
       "dim_2    0.13\n",
       "dim_3    2.43\n",
       "dim_...</td>\n",
       "      <td>0</td>\n",
       "    </tr>\n",
       "    <tr>\n",
       "      <th>A:CYS:1:CA</th>\n",
       "      <td>A</td>\n",
       "      <td>CYS</td>\n",
       "      <td>1</td>\n",
       "      <td>CA</td>\n",
       "      <td>C</td>\n",
       "      <td>[3.791, 1.923, 0.075]</td>\n",
       "      <td>0.0</td>\n",
       "      <td>dim_1    1.77\n",
       "dim_2    0.13\n",
       "dim_3    2.43\n",
       "dim_...</td>\n",
       "      <td>0</td>\n",
       "    </tr>\n",
       "    <tr>\n",
       "      <th>A:CYS:1:C</th>\n",
       "      <td>A</td>\n",
       "      <td>CYS</td>\n",
       "      <td>1</td>\n",
       "      <td>C</td>\n",
       "      <td>C</td>\n",
       "      <td>[4.157, 0.518, 0.5]</td>\n",
       "      <td>0.0</td>\n",
       "      <td>dim_1    1.77\n",
       "dim_2    0.13\n",
       "dim_3    2.43\n",
       "dim_...</td>\n",
       "      <td>0</td>\n",
       "    </tr>\n",
       "    <tr>\n",
       "      <th>A:CYS:1:O</th>\n",
       "      <td>A</td>\n",
       "      <td>CYS</td>\n",
       "      <td>1</td>\n",
       "      <td>O</td>\n",
       "      <td>O</td>\n",
       "      <td>[5.232, 0.286, 1.045]</td>\n",
       "      <td>0.0</td>\n",
       "      <td>dim_1    1.77\n",
       "dim_2    0.13\n",
       "dim_3    2.43\n",
       "dim_...</td>\n",
       "      <td>0</td>\n",
       "    </tr>\n",
       "    <tr>\n",
       "      <th>A:CYS:1:CB</th>\n",
       "      <td>A</td>\n",
       "      <td>CYS</td>\n",
       "      <td>1</td>\n",
       "      <td>CB</td>\n",
       "      <td>C</td>\n",
       "      <td>[3.435, 1.946, -1.418]</td>\n",
       "      <td>0.0</td>\n",
       "      <td>dim_1    1.77\n",
       "dim_2    0.13\n",
       "dim_3    2.43\n",
       "dim_...</td>\n",
       "      <td>0</td>\n",
       "    </tr>\n",
       "    <tr>\n",
       "      <th>...</th>\n",
       "      <td>...</td>\n",
       "      <td>...</td>\n",
       "      <td>...</td>\n",
       "      <td>...</td>\n",
       "      <td>...</td>\n",
       "      <td>...</td>\n",
       "      <td>...</td>\n",
       "      <td>...</td>\n",
       "      <td>...</td>\n",
       "    </tr>\n",
       "    <tr>\n",
       "      <th>A:GLY:9:N</th>\n",
       "      <td>A</td>\n",
       "      <td>GLY</td>\n",
       "      <td>9</td>\n",
       "      <td>N</td>\n",
       "      <td>N</td>\n",
       "      <td>[-3.406, 8.654, -2.333]</td>\n",
       "      <td>0.0</td>\n",
       "      <td>dim_1    0.00\n",
       "dim_2    0.00\n",
       "dim_3    0.00\n",
       "dim_...</td>\n",
       "      <td>0</td>\n",
       "    </tr>\n",
       "    <tr>\n",
       "      <th>A:GLY:9:CA</th>\n",
       "      <td>A</td>\n",
       "      <td>GLY</td>\n",
       "      <td>9</td>\n",
       "      <td>CA</td>\n",
       "      <td>C</td>\n",
       "      <td>[-3.689, 10.034, -2.161]</td>\n",
       "      <td>0.0</td>\n",
       "      <td>dim_1    0.00\n",
       "dim_2    0.00\n",
       "dim_3    0.00\n",
       "dim_...</td>\n",
       "      <td>0</td>\n",
       "    </tr>\n",
       "    <tr>\n",
       "      <th>A:GLY:9:C</th>\n",
       "      <td>A</td>\n",
       "      <td>GLY</td>\n",
       "      <td>9</td>\n",
       "      <td>C</td>\n",
       "      <td>C</td>\n",
       "      <td>[-3.647, 10.353, -0.712]</td>\n",
       "      <td>0.0</td>\n",
       "      <td>dim_1    0.00\n",
       "dim_2    0.00\n",
       "dim_3    0.00\n",
       "dim_...</td>\n",
       "      <td>0</td>\n",
       "    </tr>\n",
       "    <tr>\n",
       "      <th>A:GLY:9:O</th>\n",
       "      <td>A</td>\n",
       "      <td>GLY</td>\n",
       "      <td>9</td>\n",
       "      <td>O</td>\n",
       "      <td>O</td>\n",
       "      <td>[-3.337, 11.487, -0.337]</td>\n",
       "      <td>0.0</td>\n",
       "      <td>dim_1    0.00\n",
       "dim_2    0.00\n",
       "dim_3    0.00\n",
       "dim_...</td>\n",
       "      <td>0</td>\n",
       "    </tr>\n",
       "    <tr>\n",
       "      <th>A:GLY:9:OXT</th>\n",
       "      <td>A</td>\n",
       "      <td>GLY</td>\n",
       "      <td>9</td>\n",
       "      <td>OXT</td>\n",
       "      <td>O</td>\n",
       "      <td>[-3.916, 9.443, 0.096]</td>\n",
       "      <td>0.0</td>\n",
       "      <td>dim_1    0.00\n",
       "dim_2    0.00\n",
       "dim_3    0.00\n",
       "dim_...</td>\n",
       "      <td>0</td>\n",
       "    </tr>\n",
       "  </tbody>\n",
       "</table>\n",
       "<p>69 rows × 9 columns</p>\n",
       "</div>"
      ],
      "text/plain": [
       "            chain_id residue_name  residue_number atom_type element_symbol  \\\n",
       "A:CYS:1:N          A          CYS               1         N              N   \n",
       "A:CYS:1:CA         A          CYS               1        CA              C   \n",
       "A:CYS:1:C          A          CYS               1         C              C   \n",
       "A:CYS:1:O          A          CYS               1         O              O   \n",
       "A:CYS:1:CB         A          CYS               1        CB              C   \n",
       "...              ...          ...             ...       ...            ...   \n",
       "A:GLY:9:N          A          GLY               9         N              N   \n",
       "A:GLY:9:CA         A          GLY               9        CA              C   \n",
       "A:GLY:9:C          A          GLY               9         C              C   \n",
       "A:GLY:9:O          A          GLY               9         O              O   \n",
       "A:GLY:9:OXT        A          GLY               9       OXT              O   \n",
       "\n",
       "                               coords  b_factor  \\\n",
       "A:CYS:1:N       [4.874, 2.855, 0.366]       0.0   \n",
       "A:CYS:1:CA      [3.791, 1.923, 0.075]       0.0   \n",
       "A:CYS:1:C         [4.157, 0.518, 0.5]       0.0   \n",
       "A:CYS:1:O       [5.232, 0.286, 1.045]       0.0   \n",
       "A:CYS:1:CB     [3.435, 1.946, -1.418]       0.0   \n",
       "...                               ...       ...   \n",
       "A:GLY:9:N     [-3.406, 8.654, -2.333]       0.0   \n",
       "A:GLY:9:CA   [-3.689, 10.034, -2.161]       0.0   \n",
       "A:GLY:9:C    [-3.647, 10.353, -0.712]       0.0   \n",
       "A:GLY:9:O    [-3.337, 11.487, -0.337]       0.0   \n",
       "A:GLY:9:OXT    [-3.916, 9.443, 0.096]       0.0   \n",
       "\n",
       "                                                        meiler  component  \n",
       "A:CYS:1:N    dim_1    1.77\n",
       "dim_2    0.13\n",
       "dim_3    2.43\n",
       "dim_...          0  \n",
       "A:CYS:1:CA   dim_1    1.77\n",
       "dim_2    0.13\n",
       "dim_3    2.43\n",
       "dim_...          0  \n",
       "A:CYS:1:C    dim_1    1.77\n",
       "dim_2    0.13\n",
       "dim_3    2.43\n",
       "dim_...          0  \n",
       "A:CYS:1:O    dim_1    1.77\n",
       "dim_2    0.13\n",
       "dim_3    2.43\n",
       "dim_...          0  \n",
       "A:CYS:1:CB   dim_1    1.77\n",
       "dim_2    0.13\n",
       "dim_3    2.43\n",
       "dim_...          0  \n",
       "...                                                        ...        ...  \n",
       "A:GLY:9:N    dim_1    0.00\n",
       "dim_2    0.00\n",
       "dim_3    0.00\n",
       "dim_...          0  \n",
       "A:GLY:9:CA   dim_1    0.00\n",
       "dim_2    0.00\n",
       "dim_3    0.00\n",
       "dim_...          0  \n",
       "A:GLY:9:C    dim_1    0.00\n",
       "dim_2    0.00\n",
       "dim_3    0.00\n",
       "dim_...          0  \n",
       "A:GLY:9:O    dim_1    0.00\n",
       "dim_2    0.00\n",
       "dim_3    0.00\n",
       "dim_...          0  \n",
       "A:GLY:9:OXT  dim_1    0.00\n",
       "dim_2    0.00\n",
       "dim_3    0.00\n",
       "dim_...          0  \n",
       "\n",
       "[69 rows x 9 columns]"
      ]
     },
     "execution_count": 6,
     "metadata": {},
     "output_type": "execute_result"
    }
   ],
   "source": [
    "attr_df"
   ]
  },
  {
   "cell_type": "code",
   "execution_count": 7,
   "id": "7d42c5af",
   "metadata": {},
   "outputs": [
    {
     "data": {
      "text/html": [
       "<div>\n",
       "<style scoped>\n",
       "    .dataframe tbody tr th:only-of-type {\n",
       "        vertical-align: middle;\n",
       "    }\n",
       "\n",
       "    .dataframe tbody tr th {\n",
       "        vertical-align: top;\n",
       "    }\n",
       "\n",
       "    .dataframe thead th {\n",
       "        text-align: right;\n",
       "    }\n",
       "</style>\n",
       "<table border=\"1\" class=\"dataframe\">\n",
       "  <thead>\n",
       "    <tr style=\"text-align: right;\">\n",
       "      <th></th>\n",
       "      <th>Nodes</th>\n",
       "      <th>Edges</th>\n",
       "    </tr>\n",
       "  </thead>\n",
       "  <tbody>\n",
       "    <tr>\n",
       "      <th>1</th>\n",
       "      <td>{'A:PRO:7:CB', 'A:PRO:7:CA', 'A:PRO:7:CG', 'A:...</td>\n",
       "      <td>[['A:PRO:7:N', 'A:PRO:7:CD'], ['A:PRO:7:CG', '...</td>\n",
       "    </tr>\n",
       "    <tr>\n",
       "      <th>2</th>\n",
       "      <td>{'A:TYR:2:CD1', 'A:TYR:2:CZ', 'A:TYR:2:CE2', '...</td>\n",
       "      <td>[['A:TYR:2:CD1', 'A:TYR:2:CE2'], ['A:TYR:2:CZ'...</td>\n",
       "    </tr>\n",
       "  </tbody>\n",
       "</table>\n",
       "</div>"
      ],
      "text/plain": [
       "                                               Nodes  \\\n",
       "1  {'A:PRO:7:CB', 'A:PRO:7:CA', 'A:PRO:7:CG', 'A:...   \n",
       "2  {'A:TYR:2:CD1', 'A:TYR:2:CZ', 'A:TYR:2:CE2', '...   \n",
       "\n",
       "                                               Edges  \n",
       "1  [['A:PRO:7:N', 'A:PRO:7:CD'], ['A:PRO:7:CG', '...  \n",
       "2  [['A:TYR:2:CD1', 'A:TYR:2:CE2'], ['A:TYR:2:CZ'...  "
      ]
     },
     "execution_count": 7,
     "metadata": {},
     "output_type": "execute_result"
    }
   ],
   "source": [
    "comp_df"
   ]
  },
  {
   "cell_type": "markdown",
   "id": "ad747eae",
   "metadata": {},
   "source": [
    "## Basic Pebblegame with simple example"
   ]
  },
  {
   "cell_type": "code",
   "execution_count": 10,
   "id": "228a604b",
   "metadata": {},
   "outputs": [],
   "source": [
    "import generic_pebblegame as gp\n",
    "import networkx as nx"
   ]
  },
  {
   "cell_type": "code",
   "execution_count": 11,
   "id": "81795bc2",
   "metadata": {},
   "outputs": [],
   "source": [
    "sample09 = [(\"A\", \"B\"), (\"B\", \"C\"), (\"C\", \"D\"), (\"D\", \"E\"), (\"E\", \"F\"), (\"F\", \"A\"), (\"A\", \"G\"), (\"B\", \"H\"), (\"C\", \"H\"),\n",
    "            (\"D\", \"H\"), (\"E\", \"G\"), (\"F\", \"G\"), (\"G\", \"H\"),(\"A\",\"I\"),(\"B\",\"I\")]\n",
    "sample09_graph = nx.from_edgelist(sample09)"
   ]
  },
  {
   "cell_type": "code",
   "execution_count": 29,
   "id": "272b940d",
   "metadata": {},
   "outputs": [
    {
     "name": "stdout",
     "output_type": "stream",
     "text": [
      "well-constraint; l pebbles remain. no edge has been left out\n"
     ]
    }
   ],
   "source": [
    "gp.generic_pebblegame(sample09_graph, 2, 3)"
   ]
  },
  {
   "cell_type": "code",
   "execution_count": 27,
   "id": "32a722f7",
   "metadata": {},
   "outputs": [],
   "source": []
  },
  {
   "cell_type": "code",
   "execution_count": null,
   "id": "83ffe446",
   "metadata": {},
   "outputs": [],
   "source": []
  }
 ],
 "metadata": {
  "kernelspec": {
   "display_name": "Python 3 (ipykernel)",
   "language": "python",
   "name": "python3"
  },
  "language_info": {
   "codemirror_mode": {
    "name": "ipython",
    "version": 3
   },
   "file_extension": ".py",
   "mimetype": "text/x-python",
   "name": "python",
   "nbconvert_exporter": "python",
   "pygments_lexer": "ipython3",
   "version": "3.9.7"
  },
  "toc": {
   "base_numbering": 1,
   "nav_menu": {},
   "number_sections": true,
   "sideBar": true,
   "skip_h1_title": false,
   "title_cell": "Table of Contents",
   "title_sidebar": "Contents",
   "toc_cell": false,
   "toc_position": {},
   "toc_section_display": true,
   "toc_window_display": false
  }
 },
 "nbformat": 4,
 "nbformat_minor": 5
}
